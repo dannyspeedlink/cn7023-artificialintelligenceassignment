{
  "nbformat": 4,
  "nbformat_minor": 0,
  "metadata": {
    "colab": {
      "provenance": []
    },
    "kernelspec": {
      "name": "python3",
      "display_name": "Python 3"
    },
    "language_info": {
      "name": "python"
    },
    "accelerator": "GPU",
    "gpuClass": "standard",
    "widgets": {
      "application/vnd.jupyter.widget-state+json": {
        "289f672cc51944f0936982ef2dbce1a7": {
          "model_module": "@jupyter-widgets/controls",
          "model_name": "HBoxModel",
          "model_module_version": "1.5.0",
          "state": {
            "_dom_classes": [],
            "_model_module": "@jupyter-widgets/controls",
            "_model_module_version": "1.5.0",
            "_model_name": "HBoxModel",
            "_view_count": null,
            "_view_module": "@jupyter-widgets/controls",
            "_view_module_version": "1.5.0",
            "_view_name": "HBoxView",
            "box_style": "",
            "children": [
              "IPY_MODEL_71e2b984a0ec4637851fc682b0375964",
              "IPY_MODEL_2004d874f22740508dc0cfc5651af047",
              "IPY_MODEL_a92944bcda3c44978d1f79814c7ae486"
            ],
            "layout": "IPY_MODEL_233a392b1f9247999afa8514e159c3d5"
          }
        },
        "71e2b984a0ec4637851fc682b0375964": {
          "model_module": "@jupyter-widgets/controls",
          "model_name": "HTMLModel",
          "model_module_version": "1.5.0",
          "state": {
            "_dom_classes": [],
            "_model_module": "@jupyter-widgets/controls",
            "_model_module_version": "1.5.0",
            "_model_name": "HTMLModel",
            "_view_count": null,
            "_view_module": "@jupyter-widgets/controls",
            "_view_module_version": "1.5.0",
            "_view_name": "HTMLView",
            "description": "",
            "description_tooltip": null,
            "layout": "IPY_MODEL_0578c27b470d4334bbc29e756261bb0a",
            "placeholder": "​",
            "style": "IPY_MODEL_23eecc65cb714fa09efa29e8066a8b41",
            "value": "100%"
          }
        },
        "2004d874f22740508dc0cfc5651af047": {
          "model_module": "@jupyter-widgets/controls",
          "model_name": "FloatProgressModel",
          "model_module_version": "1.5.0",
          "state": {
            "_dom_classes": [],
            "_model_module": "@jupyter-widgets/controls",
            "_model_module_version": "1.5.0",
            "_model_name": "FloatProgressModel",
            "_view_count": null,
            "_view_module": "@jupyter-widgets/controls",
            "_view_module_version": "1.5.0",
            "_view_name": "ProgressView",
            "bar_style": "success",
            "description": "",
            "description_tooltip": null,
            "layout": "IPY_MODEL_09bb41f8fc9743d7b7bb7e79ed2d4479",
            "max": 9912422,
            "min": 0,
            "orientation": "horizontal",
            "style": "IPY_MODEL_92623613cd3541ad99854cfed59adf0b",
            "value": 9912422
          }
        },
        "a92944bcda3c44978d1f79814c7ae486": {
          "model_module": "@jupyter-widgets/controls",
          "model_name": "HTMLModel",
          "model_module_version": "1.5.0",
          "state": {
            "_dom_classes": [],
            "_model_module": "@jupyter-widgets/controls",
            "_model_module_version": "1.5.0",
            "_model_name": "HTMLModel",
            "_view_count": null,
            "_view_module": "@jupyter-widgets/controls",
            "_view_module_version": "1.5.0",
            "_view_name": "HTMLView",
            "description": "",
            "description_tooltip": null,
            "layout": "IPY_MODEL_c21143260e154356b40acfa84ca0ee58",
            "placeholder": "​",
            "style": "IPY_MODEL_7f6334c69a274c18b9e263abc7cb50fa",
            "value": " 9912422/9912422 [00:00&lt;00:00, 203707642.25it/s]"
          }
        },
        "233a392b1f9247999afa8514e159c3d5": {
          "model_module": "@jupyter-widgets/base",
          "model_name": "LayoutModel",
          "model_module_version": "1.2.0",
          "state": {
            "_model_module": "@jupyter-widgets/base",
            "_model_module_version": "1.2.0",
            "_model_name": "LayoutModel",
            "_view_count": null,
            "_view_module": "@jupyter-widgets/base",
            "_view_module_version": "1.2.0",
            "_view_name": "LayoutView",
            "align_content": null,
            "align_items": null,
            "align_self": null,
            "border": null,
            "bottom": null,
            "display": null,
            "flex": null,
            "flex_flow": null,
            "grid_area": null,
            "grid_auto_columns": null,
            "grid_auto_flow": null,
            "grid_auto_rows": null,
            "grid_column": null,
            "grid_gap": null,
            "grid_row": null,
            "grid_template_areas": null,
            "grid_template_columns": null,
            "grid_template_rows": null,
            "height": null,
            "justify_content": null,
            "justify_items": null,
            "left": null,
            "margin": null,
            "max_height": null,
            "max_width": null,
            "min_height": null,
            "min_width": null,
            "object_fit": null,
            "object_position": null,
            "order": null,
            "overflow": null,
            "overflow_x": null,
            "overflow_y": null,
            "padding": null,
            "right": null,
            "top": null,
            "visibility": null,
            "width": null
          }
        },
        "0578c27b470d4334bbc29e756261bb0a": {
          "model_module": "@jupyter-widgets/base",
          "model_name": "LayoutModel",
          "model_module_version": "1.2.0",
          "state": {
            "_model_module": "@jupyter-widgets/base",
            "_model_module_version": "1.2.0",
            "_model_name": "LayoutModel",
            "_view_count": null,
            "_view_module": "@jupyter-widgets/base",
            "_view_module_version": "1.2.0",
            "_view_name": "LayoutView",
            "align_content": null,
            "align_items": null,
            "align_self": null,
            "border": null,
            "bottom": null,
            "display": null,
            "flex": null,
            "flex_flow": null,
            "grid_area": null,
            "grid_auto_columns": null,
            "grid_auto_flow": null,
            "grid_auto_rows": null,
            "grid_column": null,
            "grid_gap": null,
            "grid_row": null,
            "grid_template_areas": null,
            "grid_template_columns": null,
            "grid_template_rows": null,
            "height": null,
            "justify_content": null,
            "justify_items": null,
            "left": null,
            "margin": null,
            "max_height": null,
            "max_width": null,
            "min_height": null,
            "min_width": null,
            "object_fit": null,
            "object_position": null,
            "order": null,
            "overflow": null,
            "overflow_x": null,
            "overflow_y": null,
            "padding": null,
            "right": null,
            "top": null,
            "visibility": null,
            "width": null
          }
        },
        "23eecc65cb714fa09efa29e8066a8b41": {
          "model_module": "@jupyter-widgets/controls",
          "model_name": "DescriptionStyleModel",
          "model_module_version": "1.5.0",
          "state": {
            "_model_module": "@jupyter-widgets/controls",
            "_model_module_version": "1.5.0",
            "_model_name": "DescriptionStyleModel",
            "_view_count": null,
            "_view_module": "@jupyter-widgets/base",
            "_view_module_version": "1.2.0",
            "_view_name": "StyleView",
            "description_width": ""
          }
        },
        "09bb41f8fc9743d7b7bb7e79ed2d4479": {
          "model_module": "@jupyter-widgets/base",
          "model_name": "LayoutModel",
          "model_module_version": "1.2.0",
          "state": {
            "_model_module": "@jupyter-widgets/base",
            "_model_module_version": "1.2.0",
            "_model_name": "LayoutModel",
            "_view_count": null,
            "_view_module": "@jupyter-widgets/base",
            "_view_module_version": "1.2.0",
            "_view_name": "LayoutView",
            "align_content": null,
            "align_items": null,
            "align_self": null,
            "border": null,
            "bottom": null,
            "display": null,
            "flex": null,
            "flex_flow": null,
            "grid_area": null,
            "grid_auto_columns": null,
            "grid_auto_flow": null,
            "grid_auto_rows": null,
            "grid_column": null,
            "grid_gap": null,
            "grid_row": null,
            "grid_template_areas": null,
            "grid_template_columns": null,
            "grid_template_rows": null,
            "height": null,
            "justify_content": null,
            "justify_items": null,
            "left": null,
            "margin": null,
            "max_height": null,
            "max_width": null,
            "min_height": null,
            "min_width": null,
            "object_fit": null,
            "object_position": null,
            "order": null,
            "overflow": null,
            "overflow_x": null,
            "overflow_y": null,
            "padding": null,
            "right": null,
            "top": null,
            "visibility": null,
            "width": null
          }
        },
        "92623613cd3541ad99854cfed59adf0b": {
          "model_module": "@jupyter-widgets/controls",
          "model_name": "ProgressStyleModel",
          "model_module_version": "1.5.0",
          "state": {
            "_model_module": "@jupyter-widgets/controls",
            "_model_module_version": "1.5.0",
            "_model_name": "ProgressStyleModel",
            "_view_count": null,
            "_view_module": "@jupyter-widgets/base",
            "_view_module_version": "1.2.0",
            "_view_name": "StyleView",
            "bar_color": null,
            "description_width": ""
          }
        },
        "c21143260e154356b40acfa84ca0ee58": {
          "model_module": "@jupyter-widgets/base",
          "model_name": "LayoutModel",
          "model_module_version": "1.2.0",
          "state": {
            "_model_module": "@jupyter-widgets/base",
            "_model_module_version": "1.2.0",
            "_model_name": "LayoutModel",
            "_view_count": null,
            "_view_module": "@jupyter-widgets/base",
            "_view_module_version": "1.2.0",
            "_view_name": "LayoutView",
            "align_content": null,
            "align_items": null,
            "align_self": null,
            "border": null,
            "bottom": null,
            "display": null,
            "flex": null,
            "flex_flow": null,
            "grid_area": null,
            "grid_auto_columns": null,
            "grid_auto_flow": null,
            "grid_auto_rows": null,
            "grid_column": null,
            "grid_gap": null,
            "grid_row": null,
            "grid_template_areas": null,
            "grid_template_columns": null,
            "grid_template_rows": null,
            "height": null,
            "justify_content": null,
            "justify_items": null,
            "left": null,
            "margin": null,
            "max_height": null,
            "max_width": null,
            "min_height": null,
            "min_width": null,
            "object_fit": null,
            "object_position": null,
            "order": null,
            "overflow": null,
            "overflow_x": null,
            "overflow_y": null,
            "padding": null,
            "right": null,
            "top": null,
            "visibility": null,
            "width": null
          }
        },
        "7f6334c69a274c18b9e263abc7cb50fa": {
          "model_module": "@jupyter-widgets/controls",
          "model_name": "DescriptionStyleModel",
          "model_module_version": "1.5.0",
          "state": {
            "_model_module": "@jupyter-widgets/controls",
            "_model_module_version": "1.5.0",
            "_model_name": "DescriptionStyleModel",
            "_view_count": null,
            "_view_module": "@jupyter-widgets/base",
            "_view_module_version": "1.2.0",
            "_view_name": "StyleView",
            "description_width": ""
          }
        },
        "d128f9530ae349bc8c3124f119badf5f": {
          "model_module": "@jupyter-widgets/controls",
          "model_name": "HBoxModel",
          "model_module_version": "1.5.0",
          "state": {
            "_dom_classes": [],
            "_model_module": "@jupyter-widgets/controls",
            "_model_module_version": "1.5.0",
            "_model_name": "HBoxModel",
            "_view_count": null,
            "_view_module": "@jupyter-widgets/controls",
            "_view_module_version": "1.5.0",
            "_view_name": "HBoxView",
            "box_style": "",
            "children": [
              "IPY_MODEL_d2e305de7deb48e38582c9af7b19ebed",
              "IPY_MODEL_fb7b99c42a40452f9fd61af18f57d878",
              "IPY_MODEL_4750efa6eba94f95b152b7b48191060e"
            ],
            "layout": "IPY_MODEL_832487922a4d44a09d267699e8e180be"
          }
        },
        "d2e305de7deb48e38582c9af7b19ebed": {
          "model_module": "@jupyter-widgets/controls",
          "model_name": "HTMLModel",
          "model_module_version": "1.5.0",
          "state": {
            "_dom_classes": [],
            "_model_module": "@jupyter-widgets/controls",
            "_model_module_version": "1.5.0",
            "_model_name": "HTMLModel",
            "_view_count": null,
            "_view_module": "@jupyter-widgets/controls",
            "_view_module_version": "1.5.0",
            "_view_name": "HTMLView",
            "description": "",
            "description_tooltip": null,
            "layout": "IPY_MODEL_a1a0a71e4c944709bfae808e989bc2bd",
            "placeholder": "​",
            "style": "IPY_MODEL_e97a8fc3ab324b63995946fc14aafba8",
            "value": "100%"
          }
        },
        "fb7b99c42a40452f9fd61af18f57d878": {
          "model_module": "@jupyter-widgets/controls",
          "model_name": "FloatProgressModel",
          "model_module_version": "1.5.0",
          "state": {
            "_dom_classes": [],
            "_model_module": "@jupyter-widgets/controls",
            "_model_module_version": "1.5.0",
            "_model_name": "FloatProgressModel",
            "_view_count": null,
            "_view_module": "@jupyter-widgets/controls",
            "_view_module_version": "1.5.0",
            "_view_name": "ProgressView",
            "bar_style": "success",
            "description": "",
            "description_tooltip": null,
            "layout": "IPY_MODEL_1fdf326e518847d6b06e4b0f1da5f39a",
            "max": 28881,
            "min": 0,
            "orientation": "horizontal",
            "style": "IPY_MODEL_4ee6be01024047a7bdabf4177203b43b",
            "value": 28881
          }
        },
        "4750efa6eba94f95b152b7b48191060e": {
          "model_module": "@jupyter-widgets/controls",
          "model_name": "HTMLModel",
          "model_module_version": "1.5.0",
          "state": {
            "_dom_classes": [],
            "_model_module": "@jupyter-widgets/controls",
            "_model_module_version": "1.5.0",
            "_model_name": "HTMLModel",
            "_view_count": null,
            "_view_module": "@jupyter-widgets/controls",
            "_view_module_version": "1.5.0",
            "_view_name": "HTMLView",
            "description": "",
            "description_tooltip": null,
            "layout": "IPY_MODEL_e2a9244bbd574a87913a06804d410ea9",
            "placeholder": "​",
            "style": "IPY_MODEL_b702247080074834837d8bc4828dce64",
            "value": " 28881/28881 [00:00&lt;00:00, 1800926.12it/s]"
          }
        },
        "832487922a4d44a09d267699e8e180be": {
          "model_module": "@jupyter-widgets/base",
          "model_name": "LayoutModel",
          "model_module_version": "1.2.0",
          "state": {
            "_model_module": "@jupyter-widgets/base",
            "_model_module_version": "1.2.0",
            "_model_name": "LayoutModel",
            "_view_count": null,
            "_view_module": "@jupyter-widgets/base",
            "_view_module_version": "1.2.0",
            "_view_name": "LayoutView",
            "align_content": null,
            "align_items": null,
            "align_self": null,
            "border": null,
            "bottom": null,
            "display": null,
            "flex": null,
            "flex_flow": null,
            "grid_area": null,
            "grid_auto_columns": null,
            "grid_auto_flow": null,
            "grid_auto_rows": null,
            "grid_column": null,
            "grid_gap": null,
            "grid_row": null,
            "grid_template_areas": null,
            "grid_template_columns": null,
            "grid_template_rows": null,
            "height": null,
            "justify_content": null,
            "justify_items": null,
            "left": null,
            "margin": null,
            "max_height": null,
            "max_width": null,
            "min_height": null,
            "min_width": null,
            "object_fit": null,
            "object_position": null,
            "order": null,
            "overflow": null,
            "overflow_x": null,
            "overflow_y": null,
            "padding": null,
            "right": null,
            "top": null,
            "visibility": null,
            "width": null
          }
        },
        "a1a0a71e4c944709bfae808e989bc2bd": {
          "model_module": "@jupyter-widgets/base",
          "model_name": "LayoutModel",
          "model_module_version": "1.2.0",
          "state": {
            "_model_module": "@jupyter-widgets/base",
            "_model_module_version": "1.2.0",
            "_model_name": "LayoutModel",
            "_view_count": null,
            "_view_module": "@jupyter-widgets/base",
            "_view_module_version": "1.2.0",
            "_view_name": "LayoutView",
            "align_content": null,
            "align_items": null,
            "align_self": null,
            "border": null,
            "bottom": null,
            "display": null,
            "flex": null,
            "flex_flow": null,
            "grid_area": null,
            "grid_auto_columns": null,
            "grid_auto_flow": null,
            "grid_auto_rows": null,
            "grid_column": null,
            "grid_gap": null,
            "grid_row": null,
            "grid_template_areas": null,
            "grid_template_columns": null,
            "grid_template_rows": null,
            "height": null,
            "justify_content": null,
            "justify_items": null,
            "left": null,
            "margin": null,
            "max_height": null,
            "max_width": null,
            "min_height": null,
            "min_width": null,
            "object_fit": null,
            "object_position": null,
            "order": null,
            "overflow": null,
            "overflow_x": null,
            "overflow_y": null,
            "padding": null,
            "right": null,
            "top": null,
            "visibility": null,
            "width": null
          }
        },
        "e97a8fc3ab324b63995946fc14aafba8": {
          "model_module": "@jupyter-widgets/controls",
          "model_name": "DescriptionStyleModel",
          "model_module_version": "1.5.0",
          "state": {
            "_model_module": "@jupyter-widgets/controls",
            "_model_module_version": "1.5.0",
            "_model_name": "DescriptionStyleModel",
            "_view_count": null,
            "_view_module": "@jupyter-widgets/base",
            "_view_module_version": "1.2.0",
            "_view_name": "StyleView",
            "description_width": ""
          }
        },
        "1fdf326e518847d6b06e4b0f1da5f39a": {
          "model_module": "@jupyter-widgets/base",
          "model_name": "LayoutModel",
          "model_module_version": "1.2.0",
          "state": {
            "_model_module": "@jupyter-widgets/base",
            "_model_module_version": "1.2.0",
            "_model_name": "LayoutModel",
            "_view_count": null,
            "_view_module": "@jupyter-widgets/base",
            "_view_module_version": "1.2.0",
            "_view_name": "LayoutView",
            "align_content": null,
            "align_items": null,
            "align_self": null,
            "border": null,
            "bottom": null,
            "display": null,
            "flex": null,
            "flex_flow": null,
            "grid_area": null,
            "grid_auto_columns": null,
            "grid_auto_flow": null,
            "grid_auto_rows": null,
            "grid_column": null,
            "grid_gap": null,
            "grid_row": null,
            "grid_template_areas": null,
            "grid_template_columns": null,
            "grid_template_rows": null,
            "height": null,
            "justify_content": null,
            "justify_items": null,
            "left": null,
            "margin": null,
            "max_height": null,
            "max_width": null,
            "min_height": null,
            "min_width": null,
            "object_fit": null,
            "object_position": null,
            "order": null,
            "overflow": null,
            "overflow_x": null,
            "overflow_y": null,
            "padding": null,
            "right": null,
            "top": null,
            "visibility": null,
            "width": null
          }
        },
        "4ee6be01024047a7bdabf4177203b43b": {
          "model_module": "@jupyter-widgets/controls",
          "model_name": "ProgressStyleModel",
          "model_module_version": "1.5.0",
          "state": {
            "_model_module": "@jupyter-widgets/controls",
            "_model_module_version": "1.5.0",
            "_model_name": "ProgressStyleModel",
            "_view_count": null,
            "_view_module": "@jupyter-widgets/base",
            "_view_module_version": "1.2.0",
            "_view_name": "StyleView",
            "bar_color": null,
            "description_width": ""
          }
        },
        "e2a9244bbd574a87913a06804d410ea9": {
          "model_module": "@jupyter-widgets/base",
          "model_name": "LayoutModel",
          "model_module_version": "1.2.0",
          "state": {
            "_model_module": "@jupyter-widgets/base",
            "_model_module_version": "1.2.0",
            "_model_name": "LayoutModel",
            "_view_count": null,
            "_view_module": "@jupyter-widgets/base",
            "_view_module_version": "1.2.0",
            "_view_name": "LayoutView",
            "align_content": null,
            "align_items": null,
            "align_self": null,
            "border": null,
            "bottom": null,
            "display": null,
            "flex": null,
            "flex_flow": null,
            "grid_area": null,
            "grid_auto_columns": null,
            "grid_auto_flow": null,
            "grid_auto_rows": null,
            "grid_column": null,
            "grid_gap": null,
            "grid_row": null,
            "grid_template_areas": null,
            "grid_template_columns": null,
            "grid_template_rows": null,
            "height": null,
            "justify_content": null,
            "justify_items": null,
            "left": null,
            "margin": null,
            "max_height": null,
            "max_width": null,
            "min_height": null,
            "min_width": null,
            "object_fit": null,
            "object_position": null,
            "order": null,
            "overflow": null,
            "overflow_x": null,
            "overflow_y": null,
            "padding": null,
            "right": null,
            "top": null,
            "visibility": null,
            "width": null
          }
        },
        "b702247080074834837d8bc4828dce64": {
          "model_module": "@jupyter-widgets/controls",
          "model_name": "DescriptionStyleModel",
          "model_module_version": "1.5.0",
          "state": {
            "_model_module": "@jupyter-widgets/controls",
            "_model_module_version": "1.5.0",
            "_model_name": "DescriptionStyleModel",
            "_view_count": null,
            "_view_module": "@jupyter-widgets/base",
            "_view_module_version": "1.2.0",
            "_view_name": "StyleView",
            "description_width": ""
          }
        },
        "c3658960f09044fb879911d160bf8f13": {
          "model_module": "@jupyter-widgets/controls",
          "model_name": "HBoxModel",
          "model_module_version": "1.5.0",
          "state": {
            "_dom_classes": [],
            "_model_module": "@jupyter-widgets/controls",
            "_model_module_version": "1.5.0",
            "_model_name": "HBoxModel",
            "_view_count": null,
            "_view_module": "@jupyter-widgets/controls",
            "_view_module_version": "1.5.0",
            "_view_name": "HBoxView",
            "box_style": "",
            "children": [
              "IPY_MODEL_db6a32011cb24a5cbc87ad307509ef4c",
              "IPY_MODEL_7a7343b69ddc435ba94fbabd8a6ed383",
              "IPY_MODEL_b6b97464d594415593ff349cd3465a56"
            ],
            "layout": "IPY_MODEL_bbfa6baa30c749bdbb804d79c925d1ad"
          }
        },
        "db6a32011cb24a5cbc87ad307509ef4c": {
          "model_module": "@jupyter-widgets/controls",
          "model_name": "HTMLModel",
          "model_module_version": "1.5.0",
          "state": {
            "_dom_classes": [],
            "_model_module": "@jupyter-widgets/controls",
            "_model_module_version": "1.5.0",
            "_model_name": "HTMLModel",
            "_view_count": null,
            "_view_module": "@jupyter-widgets/controls",
            "_view_module_version": "1.5.0",
            "_view_name": "HTMLView",
            "description": "",
            "description_tooltip": null,
            "layout": "IPY_MODEL_daf4fa770f894e92a4c6358177650e48",
            "placeholder": "​",
            "style": "IPY_MODEL_3d77e4aa8361404fb7a9425abe816886",
            "value": "100%"
          }
        },
        "7a7343b69ddc435ba94fbabd8a6ed383": {
          "model_module": "@jupyter-widgets/controls",
          "model_name": "FloatProgressModel",
          "model_module_version": "1.5.0",
          "state": {
            "_dom_classes": [],
            "_model_module": "@jupyter-widgets/controls",
            "_model_module_version": "1.5.0",
            "_model_name": "FloatProgressModel",
            "_view_count": null,
            "_view_module": "@jupyter-widgets/controls",
            "_view_module_version": "1.5.0",
            "_view_name": "ProgressView",
            "bar_style": "success",
            "description": "",
            "description_tooltip": null,
            "layout": "IPY_MODEL_b2316b044067489fb1deaba5197032bd",
            "max": 1648877,
            "min": 0,
            "orientation": "horizontal",
            "style": "IPY_MODEL_c6f41b5890114231a1c87bc062f357a8",
            "value": 1648877
          }
        },
        "b6b97464d594415593ff349cd3465a56": {
          "model_module": "@jupyter-widgets/controls",
          "model_name": "HTMLModel",
          "model_module_version": "1.5.0",
          "state": {
            "_dom_classes": [],
            "_model_module": "@jupyter-widgets/controls",
            "_model_module_version": "1.5.0",
            "_model_name": "HTMLModel",
            "_view_count": null,
            "_view_module": "@jupyter-widgets/controls",
            "_view_module_version": "1.5.0",
            "_view_name": "HTMLView",
            "description": "",
            "description_tooltip": null,
            "layout": "IPY_MODEL_7ffe2203fa7948e1b9eb8eb6b771fe13",
            "placeholder": "​",
            "style": "IPY_MODEL_0a072b6fdee74569b30b2d4fcef8594c",
            "value": " 1648877/1648877 [00:00&lt;00:00, 72880175.74it/s]"
          }
        },
        "bbfa6baa30c749bdbb804d79c925d1ad": {
          "model_module": "@jupyter-widgets/base",
          "model_name": "LayoutModel",
          "model_module_version": "1.2.0",
          "state": {
            "_model_module": "@jupyter-widgets/base",
            "_model_module_version": "1.2.0",
            "_model_name": "LayoutModel",
            "_view_count": null,
            "_view_module": "@jupyter-widgets/base",
            "_view_module_version": "1.2.0",
            "_view_name": "LayoutView",
            "align_content": null,
            "align_items": null,
            "align_self": null,
            "border": null,
            "bottom": null,
            "display": null,
            "flex": null,
            "flex_flow": null,
            "grid_area": null,
            "grid_auto_columns": null,
            "grid_auto_flow": null,
            "grid_auto_rows": null,
            "grid_column": null,
            "grid_gap": null,
            "grid_row": null,
            "grid_template_areas": null,
            "grid_template_columns": null,
            "grid_template_rows": null,
            "height": null,
            "justify_content": null,
            "justify_items": null,
            "left": null,
            "margin": null,
            "max_height": null,
            "max_width": null,
            "min_height": null,
            "min_width": null,
            "object_fit": null,
            "object_position": null,
            "order": null,
            "overflow": null,
            "overflow_x": null,
            "overflow_y": null,
            "padding": null,
            "right": null,
            "top": null,
            "visibility": null,
            "width": null
          }
        },
        "daf4fa770f894e92a4c6358177650e48": {
          "model_module": "@jupyter-widgets/base",
          "model_name": "LayoutModel",
          "model_module_version": "1.2.0",
          "state": {
            "_model_module": "@jupyter-widgets/base",
            "_model_module_version": "1.2.0",
            "_model_name": "LayoutModel",
            "_view_count": null,
            "_view_module": "@jupyter-widgets/base",
            "_view_module_version": "1.2.0",
            "_view_name": "LayoutView",
            "align_content": null,
            "align_items": null,
            "align_self": null,
            "border": null,
            "bottom": null,
            "display": null,
            "flex": null,
            "flex_flow": null,
            "grid_area": null,
            "grid_auto_columns": null,
            "grid_auto_flow": null,
            "grid_auto_rows": null,
            "grid_column": null,
            "grid_gap": null,
            "grid_row": null,
            "grid_template_areas": null,
            "grid_template_columns": null,
            "grid_template_rows": null,
            "height": null,
            "justify_content": null,
            "justify_items": null,
            "left": null,
            "margin": null,
            "max_height": null,
            "max_width": null,
            "min_height": null,
            "min_width": null,
            "object_fit": null,
            "object_position": null,
            "order": null,
            "overflow": null,
            "overflow_x": null,
            "overflow_y": null,
            "padding": null,
            "right": null,
            "top": null,
            "visibility": null,
            "width": null
          }
        },
        "3d77e4aa8361404fb7a9425abe816886": {
          "model_module": "@jupyter-widgets/controls",
          "model_name": "DescriptionStyleModel",
          "model_module_version": "1.5.0",
          "state": {
            "_model_module": "@jupyter-widgets/controls",
            "_model_module_version": "1.5.0",
            "_model_name": "DescriptionStyleModel",
            "_view_count": null,
            "_view_module": "@jupyter-widgets/base",
            "_view_module_version": "1.2.0",
            "_view_name": "StyleView",
            "description_width": ""
          }
        },
        "b2316b044067489fb1deaba5197032bd": {
          "model_module": "@jupyter-widgets/base",
          "model_name": "LayoutModel",
          "model_module_version": "1.2.0",
          "state": {
            "_model_module": "@jupyter-widgets/base",
            "_model_module_version": "1.2.0",
            "_model_name": "LayoutModel",
            "_view_count": null,
            "_view_module": "@jupyter-widgets/base",
            "_view_module_version": "1.2.0",
            "_view_name": "LayoutView",
            "align_content": null,
            "align_items": null,
            "align_self": null,
            "border": null,
            "bottom": null,
            "display": null,
            "flex": null,
            "flex_flow": null,
            "grid_area": null,
            "grid_auto_columns": null,
            "grid_auto_flow": null,
            "grid_auto_rows": null,
            "grid_column": null,
            "grid_gap": null,
            "grid_row": null,
            "grid_template_areas": null,
            "grid_template_columns": null,
            "grid_template_rows": null,
            "height": null,
            "justify_content": null,
            "justify_items": null,
            "left": null,
            "margin": null,
            "max_height": null,
            "max_width": null,
            "min_height": null,
            "min_width": null,
            "object_fit": null,
            "object_position": null,
            "order": null,
            "overflow": null,
            "overflow_x": null,
            "overflow_y": null,
            "padding": null,
            "right": null,
            "top": null,
            "visibility": null,
            "width": null
          }
        },
        "c6f41b5890114231a1c87bc062f357a8": {
          "model_module": "@jupyter-widgets/controls",
          "model_name": "ProgressStyleModel",
          "model_module_version": "1.5.0",
          "state": {
            "_model_module": "@jupyter-widgets/controls",
            "_model_module_version": "1.5.0",
            "_model_name": "ProgressStyleModel",
            "_view_count": null,
            "_view_module": "@jupyter-widgets/base",
            "_view_module_version": "1.2.0",
            "_view_name": "StyleView",
            "bar_color": null,
            "description_width": ""
          }
        },
        "7ffe2203fa7948e1b9eb8eb6b771fe13": {
          "model_module": "@jupyter-widgets/base",
          "model_name": "LayoutModel",
          "model_module_version": "1.2.0",
          "state": {
            "_model_module": "@jupyter-widgets/base",
            "_model_module_version": "1.2.0",
            "_model_name": "LayoutModel",
            "_view_count": null,
            "_view_module": "@jupyter-widgets/base",
            "_view_module_version": "1.2.0",
            "_view_name": "LayoutView",
            "align_content": null,
            "align_items": null,
            "align_self": null,
            "border": null,
            "bottom": null,
            "display": null,
            "flex": null,
            "flex_flow": null,
            "grid_area": null,
            "grid_auto_columns": null,
            "grid_auto_flow": null,
            "grid_auto_rows": null,
            "grid_column": null,
            "grid_gap": null,
            "grid_row": null,
            "grid_template_areas": null,
            "grid_template_columns": null,
            "grid_template_rows": null,
            "height": null,
            "justify_content": null,
            "justify_items": null,
            "left": null,
            "margin": null,
            "max_height": null,
            "max_width": null,
            "min_height": null,
            "min_width": null,
            "object_fit": null,
            "object_position": null,
            "order": null,
            "overflow": null,
            "overflow_x": null,
            "overflow_y": null,
            "padding": null,
            "right": null,
            "top": null,
            "visibility": null,
            "width": null
          }
        },
        "0a072b6fdee74569b30b2d4fcef8594c": {
          "model_module": "@jupyter-widgets/controls",
          "model_name": "DescriptionStyleModel",
          "model_module_version": "1.5.0",
          "state": {
            "_model_module": "@jupyter-widgets/controls",
            "_model_module_version": "1.5.0",
            "_model_name": "DescriptionStyleModel",
            "_view_count": null,
            "_view_module": "@jupyter-widgets/base",
            "_view_module_version": "1.2.0",
            "_view_name": "StyleView",
            "description_width": ""
          }
        },
        "2d2082c72c9846b6a024eeb9e4b16b0e": {
          "model_module": "@jupyter-widgets/controls",
          "model_name": "HBoxModel",
          "model_module_version": "1.5.0",
          "state": {
            "_dom_classes": [],
            "_model_module": "@jupyter-widgets/controls",
            "_model_module_version": "1.5.0",
            "_model_name": "HBoxModel",
            "_view_count": null,
            "_view_module": "@jupyter-widgets/controls",
            "_view_module_version": "1.5.0",
            "_view_name": "HBoxView",
            "box_style": "",
            "children": [
              "IPY_MODEL_f6654ce14de14510a6f5db32f9e53b4d",
              "IPY_MODEL_2c393737adb241659fe5cc91e25a1f5a",
              "IPY_MODEL_226ed07e5b6e4dbc8fd2bb391a7a60d6"
            ],
            "layout": "IPY_MODEL_7f2aa250a59b471e8dbcd8a330ab7311"
          }
        },
        "f6654ce14de14510a6f5db32f9e53b4d": {
          "model_module": "@jupyter-widgets/controls",
          "model_name": "HTMLModel",
          "model_module_version": "1.5.0",
          "state": {
            "_dom_classes": [],
            "_model_module": "@jupyter-widgets/controls",
            "_model_module_version": "1.5.0",
            "_model_name": "HTMLModel",
            "_view_count": null,
            "_view_module": "@jupyter-widgets/controls",
            "_view_module_version": "1.5.0",
            "_view_name": "HTMLView",
            "description": "",
            "description_tooltip": null,
            "layout": "IPY_MODEL_92e9c99282904585845f965b035a764e",
            "placeholder": "​",
            "style": "IPY_MODEL_7b2f0a1861ab490d944e0082cdffe720",
            "value": "100%"
          }
        },
        "2c393737adb241659fe5cc91e25a1f5a": {
          "model_module": "@jupyter-widgets/controls",
          "model_name": "FloatProgressModel",
          "model_module_version": "1.5.0",
          "state": {
            "_dom_classes": [],
            "_model_module": "@jupyter-widgets/controls",
            "_model_module_version": "1.5.0",
            "_model_name": "FloatProgressModel",
            "_view_count": null,
            "_view_module": "@jupyter-widgets/controls",
            "_view_module_version": "1.5.0",
            "_view_name": "ProgressView",
            "bar_style": "success",
            "description": "",
            "description_tooltip": null,
            "layout": "IPY_MODEL_902e7691f5484e5c9d73fad92a810d50",
            "max": 4542,
            "min": 0,
            "orientation": "horizontal",
            "style": "IPY_MODEL_38bcc93b4276437e82e0506b7bac2ff7",
            "value": 4542
          }
        },
        "226ed07e5b6e4dbc8fd2bb391a7a60d6": {
          "model_module": "@jupyter-widgets/controls",
          "model_name": "HTMLModel",
          "model_module_version": "1.5.0",
          "state": {
            "_dom_classes": [],
            "_model_module": "@jupyter-widgets/controls",
            "_model_module_version": "1.5.0",
            "_model_name": "HTMLModel",
            "_view_count": null,
            "_view_module": "@jupyter-widgets/controls",
            "_view_module_version": "1.5.0",
            "_view_name": "HTMLView",
            "description": "",
            "description_tooltip": null,
            "layout": "IPY_MODEL_1e5a26729bc34d42ba5a16c4503ca6c1",
            "placeholder": "​",
            "style": "IPY_MODEL_8e4542ddf5ca412b98a77a7eb96dcc70",
            "value": " 4542/4542 [00:00&lt;00:00, 285812.24it/s]"
          }
        },
        "7f2aa250a59b471e8dbcd8a330ab7311": {
          "model_module": "@jupyter-widgets/base",
          "model_name": "LayoutModel",
          "model_module_version": "1.2.0",
          "state": {
            "_model_module": "@jupyter-widgets/base",
            "_model_module_version": "1.2.0",
            "_model_name": "LayoutModel",
            "_view_count": null,
            "_view_module": "@jupyter-widgets/base",
            "_view_module_version": "1.2.0",
            "_view_name": "LayoutView",
            "align_content": null,
            "align_items": null,
            "align_self": null,
            "border": null,
            "bottom": null,
            "display": null,
            "flex": null,
            "flex_flow": null,
            "grid_area": null,
            "grid_auto_columns": null,
            "grid_auto_flow": null,
            "grid_auto_rows": null,
            "grid_column": null,
            "grid_gap": null,
            "grid_row": null,
            "grid_template_areas": null,
            "grid_template_columns": null,
            "grid_template_rows": null,
            "height": null,
            "justify_content": null,
            "justify_items": null,
            "left": null,
            "margin": null,
            "max_height": null,
            "max_width": null,
            "min_height": null,
            "min_width": null,
            "object_fit": null,
            "object_position": null,
            "order": null,
            "overflow": null,
            "overflow_x": null,
            "overflow_y": null,
            "padding": null,
            "right": null,
            "top": null,
            "visibility": null,
            "width": null
          }
        },
        "92e9c99282904585845f965b035a764e": {
          "model_module": "@jupyter-widgets/base",
          "model_name": "LayoutModel",
          "model_module_version": "1.2.0",
          "state": {
            "_model_module": "@jupyter-widgets/base",
            "_model_module_version": "1.2.0",
            "_model_name": "LayoutModel",
            "_view_count": null,
            "_view_module": "@jupyter-widgets/base",
            "_view_module_version": "1.2.0",
            "_view_name": "LayoutView",
            "align_content": null,
            "align_items": null,
            "align_self": null,
            "border": null,
            "bottom": null,
            "display": null,
            "flex": null,
            "flex_flow": null,
            "grid_area": null,
            "grid_auto_columns": null,
            "grid_auto_flow": null,
            "grid_auto_rows": null,
            "grid_column": null,
            "grid_gap": null,
            "grid_row": null,
            "grid_template_areas": null,
            "grid_template_columns": null,
            "grid_template_rows": null,
            "height": null,
            "justify_content": null,
            "justify_items": null,
            "left": null,
            "margin": null,
            "max_height": null,
            "max_width": null,
            "min_height": null,
            "min_width": null,
            "object_fit": null,
            "object_position": null,
            "order": null,
            "overflow": null,
            "overflow_x": null,
            "overflow_y": null,
            "padding": null,
            "right": null,
            "top": null,
            "visibility": null,
            "width": null
          }
        },
        "7b2f0a1861ab490d944e0082cdffe720": {
          "model_module": "@jupyter-widgets/controls",
          "model_name": "DescriptionStyleModel",
          "model_module_version": "1.5.0",
          "state": {
            "_model_module": "@jupyter-widgets/controls",
            "_model_module_version": "1.5.0",
            "_model_name": "DescriptionStyleModel",
            "_view_count": null,
            "_view_module": "@jupyter-widgets/base",
            "_view_module_version": "1.2.0",
            "_view_name": "StyleView",
            "description_width": ""
          }
        },
        "902e7691f5484e5c9d73fad92a810d50": {
          "model_module": "@jupyter-widgets/base",
          "model_name": "LayoutModel",
          "model_module_version": "1.2.0",
          "state": {
            "_model_module": "@jupyter-widgets/base",
            "_model_module_version": "1.2.0",
            "_model_name": "LayoutModel",
            "_view_count": null,
            "_view_module": "@jupyter-widgets/base",
            "_view_module_version": "1.2.0",
            "_view_name": "LayoutView",
            "align_content": null,
            "align_items": null,
            "align_self": null,
            "border": null,
            "bottom": null,
            "display": null,
            "flex": null,
            "flex_flow": null,
            "grid_area": null,
            "grid_auto_columns": null,
            "grid_auto_flow": null,
            "grid_auto_rows": null,
            "grid_column": null,
            "grid_gap": null,
            "grid_row": null,
            "grid_template_areas": null,
            "grid_template_columns": null,
            "grid_template_rows": null,
            "height": null,
            "justify_content": null,
            "justify_items": null,
            "left": null,
            "margin": null,
            "max_height": null,
            "max_width": null,
            "min_height": null,
            "min_width": null,
            "object_fit": null,
            "object_position": null,
            "order": null,
            "overflow": null,
            "overflow_x": null,
            "overflow_y": null,
            "padding": null,
            "right": null,
            "top": null,
            "visibility": null,
            "width": null
          }
        },
        "38bcc93b4276437e82e0506b7bac2ff7": {
          "model_module": "@jupyter-widgets/controls",
          "model_name": "ProgressStyleModel",
          "model_module_version": "1.5.0",
          "state": {
            "_model_module": "@jupyter-widgets/controls",
            "_model_module_version": "1.5.0",
            "_model_name": "ProgressStyleModel",
            "_view_count": null,
            "_view_module": "@jupyter-widgets/base",
            "_view_module_version": "1.2.0",
            "_view_name": "StyleView",
            "bar_color": null,
            "description_width": ""
          }
        },
        "1e5a26729bc34d42ba5a16c4503ca6c1": {
          "model_module": "@jupyter-widgets/base",
          "model_name": "LayoutModel",
          "model_module_version": "1.2.0",
          "state": {
            "_model_module": "@jupyter-widgets/base",
            "_model_module_version": "1.2.0",
            "_model_name": "LayoutModel",
            "_view_count": null,
            "_view_module": "@jupyter-widgets/base",
            "_view_module_version": "1.2.0",
            "_view_name": "LayoutView",
            "align_content": null,
            "align_items": null,
            "align_self": null,
            "border": null,
            "bottom": null,
            "display": null,
            "flex": null,
            "flex_flow": null,
            "grid_area": null,
            "grid_auto_columns": null,
            "grid_auto_flow": null,
            "grid_auto_rows": null,
            "grid_column": null,
            "grid_gap": null,
            "grid_row": null,
            "grid_template_areas": null,
            "grid_template_columns": null,
            "grid_template_rows": null,
            "height": null,
            "justify_content": null,
            "justify_items": null,
            "left": null,
            "margin": null,
            "max_height": null,
            "max_width": null,
            "min_height": null,
            "min_width": null,
            "object_fit": null,
            "object_position": null,
            "order": null,
            "overflow": null,
            "overflow_x": null,
            "overflow_y": null,
            "padding": null,
            "right": null,
            "top": null,
            "visibility": null,
            "width": null
          }
        },
        "8e4542ddf5ca412b98a77a7eb96dcc70": {
          "model_module": "@jupyter-widgets/controls",
          "model_name": "DescriptionStyleModel",
          "model_module_version": "1.5.0",
          "state": {
            "_model_module": "@jupyter-widgets/controls",
            "_model_module_version": "1.5.0",
            "_model_name": "DescriptionStyleModel",
            "_view_count": null,
            "_view_module": "@jupyter-widgets/base",
            "_view_module_version": "1.2.0",
            "_view_name": "StyleView",
            "description_width": ""
          }
        }
      }
    }
  },
  "cells": [
    {
      "cell_type": "markdown",
      "metadata": {
        "id": "hK5CcT43TkzO"
      },
      "source": [
        "## Problem Statement\n",
        "\n",
        "#### Neural Network for FashionMNIST dataset"
      ]
    },
    {
      "cell_type": "markdown",
      "source": [
        "## Install Skorch"
      ],
      "metadata": {
        "id": "zz6J566ddRzN"
      }
    },
    {
      "cell_type": "code",
      "source": [
        "!pip install skorch"
      ],
      "metadata": {
        "id": "XWOjsaxkFCzM"
      },
      "execution_count": null,
      "outputs": []
    },
    {
      "cell_type": "markdown",
      "metadata": {
        "id": "OYUKP87qUYFe"
      },
      "source": [
        "## Load Libraries"
      ]
    },
    {
      "cell_type": "code",
      "source": [
        "## Python Libraries\n",
        "import matplotlib.pyplot as plt\n",
        "import seaborn as sns\n",
        "rom sklearn.metrics import confusion_matrix\n",
        "from sklearn.metrics import classification_report\n",
        "from sklearn.model_selection import GridSearchCV\n",
        "import numpy as np\n",
        "\n",
        "## Skorch Libaries\n",
        "from skorch import NeuralNetClassifier\n",
        "\n",
        "## Neural Network\n",
        "import torch as tr\n",
        "import torchvision.datasets as datasets\n",
        "from torchvision import models\n",
        "import torchvision.transforms as trnsform\n",
        "import torch.nn.functional as F\n",
        "import torch.nn as nn\n",
        "import torch.optim as optim"
      ],
      "metadata": {
        "id": "YyyNUjQL3LeG"
      },
      "execution_count": null,
      "outputs": []
    },
    {
      "cell_type": "code",
      "execution_count": null,
      "metadata": {
        "id": "POzKK5spQ6mB"
      },
      "outputs": [],
      "source": [
        "import warnings\n",
        "warnings.filterwarnings(\"ignore\")"
      ]
    },
    {
      "cell_type": "markdown",
      "metadata": {
        "id": "06mldI5rVTEZ"
      },
      "source": [
        "## Check Tourch Version"
      ]
    },
    {
      "cell_type": "code",
      "execution_count": null,
      "metadata": {
        "colab": {
          "base_uri": "https://localhost:8080/"
        },
        "id": "-ThkbfPedg7y",
        "outputId": "5aeceef5-aa92-45fa-fb40-c84bcc8ac8b4"
      },
      "outputs": [
        {
          "output_type": "stream",
          "name": "stdout",
          "text": [
            "Using torch 1.13.0+cu116\n"
          ]
        }
      ],
      "source": [
        "print(\"Using torch\", tr.__version__)"
      ]
    },
    {
      "cell_type": "markdown",
      "metadata": {
        "id": "FFIzKRZfXwJX"
      },
      "source": [
        "## Reference\n",
        "\n",
        "* 1) https://www.marktechpost.com/2021/01/09/getting-started-with-pytorch-in-google-collab-with-free-gpu/"
      ]
    },
    {
      "cell_type": "markdown",
      "metadata": {
        "id": "ilttwbCcVUsN"
      },
      "source": [
        "## Checking Cuda Support (GPU)"
      ]
    },
    {
      "cell_type": "code",
      "execution_count": null,
      "metadata": {
        "colab": {
          "base_uri": "https://localhost:8080/"
        },
        "id": "-in0Xu0gVXJl",
        "outputId": "05c8ffbb-68f1-4678-8e5d-dcfffc7c313d"
      },
      "outputs": [
        {
          "output_type": "stream",
          "name": "stdout",
          "text": [
            "1\n",
            "Tesla T4\n"
          ]
        }
      ],
      "source": [
        "print(tr.cuda.device_count())\n",
        "print(tr.cuda.get_device_name(0))"
      ]
    },
    {
      "cell_type": "markdown",
      "metadata": {
        "id": "VljxkdzAXtlh"
      },
      "source": [
        "#Assign cuda GPU located at location '0' to a variable\n"
      ]
    },
    {
      "cell_type": "code",
      "execution_count": null,
      "metadata": {
        "colab": {
          "base_uri": "https://localhost:8080/"
        },
        "id": "xlwhi61RXuiL",
        "outputId": "5d9d293e-716b-499b-ee28-cdb96bd97ef1"
      },
      "outputs": [
        {
          "output_type": "execute_result",
          "data": {
            "text/plain": [
              "device(type='cuda', index=0)"
            ]
          },
          "metadata": {},
          "execution_count": 6
        }
      ],
      "source": [
        "cudad = tr.device('cuda:0')\n",
        "cudad"
      ]
    },
    {
      "cell_type": "markdown",
      "metadata": {
        "id": "BDff6FjYdmiy"
      },
      "source": [
        "## Setting up seed to be reproducible\n",
        "\n",
        "Reference 2)\n",
        "https://stackoverflow.com/questions/66130547/what-does-the-difference-between-torch-backends-cudnn-deterministic-true-and"
      ]
    },
    {
      "cell_type": "code",
      "execution_count": null,
      "metadata": {
        "id": "wl-9vdfjd4dB"
      },
      "outputs": [],
      "source": [
        "tr.cuda.manual_seed(1)\n",
        "tr.backends.cudnn.deterministic = True\n",
        "tr.backends.cudnn.benchmark = False"
      ]
    },
    {
      "cell_type": "markdown",
      "metadata": {
        "id": "DBbad0E_e2Wy"
      },
      "source": [
        "## Load Dataset"
      ]
    },
    {
      "cell_type": "markdown",
      "metadata": {
        "id": "KqDz2kT76eSp"
      },
      "source": [
        "* Ref -> https://pytorch.org/vision/stable/generated/torchvision.datasets.CIFAR10.html#torchvision.datasets.CIFAR10"
      ]
    },
    {
      "cell_type": "code",
      "execution_count": null,
      "metadata": {
        "id": "RhMYxXQm6f5U",
        "colab": {
          "base_uri": "https://localhost:8080/",
          "height": 437,
          "referenced_widgets": [
            "289f672cc51944f0936982ef2dbce1a7",
            "71e2b984a0ec4637851fc682b0375964",
            "2004d874f22740508dc0cfc5651af047",
            "a92944bcda3c44978d1f79814c7ae486",
            "233a392b1f9247999afa8514e159c3d5",
            "0578c27b470d4334bbc29e756261bb0a",
            "23eecc65cb714fa09efa29e8066a8b41",
            "09bb41f8fc9743d7b7bb7e79ed2d4479",
            "92623613cd3541ad99854cfed59adf0b",
            "c21143260e154356b40acfa84ca0ee58",
            "7f6334c69a274c18b9e263abc7cb50fa",
            "d128f9530ae349bc8c3124f119badf5f",
            "d2e305de7deb48e38582c9af7b19ebed",
            "fb7b99c42a40452f9fd61af18f57d878",
            "4750efa6eba94f95b152b7b48191060e",
            "832487922a4d44a09d267699e8e180be",
            "a1a0a71e4c944709bfae808e989bc2bd",
            "e97a8fc3ab324b63995946fc14aafba8",
            "1fdf326e518847d6b06e4b0f1da5f39a",
            "4ee6be01024047a7bdabf4177203b43b",
            "e2a9244bbd574a87913a06804d410ea9",
            "b702247080074834837d8bc4828dce64",
            "c3658960f09044fb879911d160bf8f13",
            "db6a32011cb24a5cbc87ad307509ef4c",
            "7a7343b69ddc435ba94fbabd8a6ed383",
            "b6b97464d594415593ff349cd3465a56",
            "bbfa6baa30c749bdbb804d79c925d1ad",
            "daf4fa770f894e92a4c6358177650e48",
            "3d77e4aa8361404fb7a9425abe816886",
            "b2316b044067489fb1deaba5197032bd",
            "c6f41b5890114231a1c87bc062f357a8",
            "7ffe2203fa7948e1b9eb8eb6b771fe13",
            "0a072b6fdee74569b30b2d4fcef8594c",
            "2d2082c72c9846b6a024eeb9e4b16b0e",
            "f6654ce14de14510a6f5db32f9e53b4d",
            "2c393737adb241659fe5cc91e25a1f5a",
            "226ed07e5b6e4dbc8fd2bb391a7a60d6",
            "7f2aa250a59b471e8dbcd8a330ab7311",
            "92e9c99282904585845f965b035a764e",
            "7b2f0a1861ab490d944e0082cdffe720",
            "902e7691f5484e5c9d73fad92a810d50",
            "38bcc93b4276437e82e0506b7bac2ff7",
            "1e5a26729bc34d42ba5a16c4503ca6c1",
            "8e4542ddf5ca412b98a77a7eb96dcc70"
          ]
        },
        "outputId": "73fea704-59da-4c45-95e4-f21eec4250e9"
      },
      "outputs": [
        {
          "output_type": "stream",
          "name": "stdout",
          "text": [
            "Downloading http://yann.lecun.com/exdb/mnist/train-images-idx3-ubyte.gz\n",
            "Downloading http://yann.lecun.com/exdb/mnist/train-images-idx3-ubyte.gz to ./data/MNIST/raw/train-images-idx3-ubyte.gz\n"
          ]
        },
        {
          "output_type": "display_data",
          "data": {
            "text/plain": [
              "  0%|          | 0/9912422 [00:00<?, ?it/s]"
            ],
            "application/vnd.jupyter.widget-view+json": {
              "version_major": 2,
              "version_minor": 0,
              "model_id": "289f672cc51944f0936982ef2dbce1a7"
            }
          },
          "metadata": {}
        },
        {
          "output_type": "stream",
          "name": "stdout",
          "text": [
            "Extracting ./data/MNIST/raw/train-images-idx3-ubyte.gz to ./data/MNIST/raw\n",
            "\n",
            "Downloading http://yann.lecun.com/exdb/mnist/train-labels-idx1-ubyte.gz\n",
            "Downloading http://yann.lecun.com/exdb/mnist/train-labels-idx1-ubyte.gz to ./data/MNIST/raw/train-labels-idx1-ubyte.gz\n"
          ]
        },
        {
          "output_type": "display_data",
          "data": {
            "text/plain": [
              "  0%|          | 0/28881 [00:00<?, ?it/s]"
            ],
            "application/vnd.jupyter.widget-view+json": {
              "version_major": 2,
              "version_minor": 0,
              "model_id": "d128f9530ae349bc8c3124f119badf5f"
            }
          },
          "metadata": {}
        },
        {
          "output_type": "stream",
          "name": "stdout",
          "text": [
            "Extracting ./data/MNIST/raw/train-labels-idx1-ubyte.gz to ./data/MNIST/raw\n",
            "\n",
            "Downloading http://yann.lecun.com/exdb/mnist/t10k-images-idx3-ubyte.gz\n",
            "Downloading http://yann.lecun.com/exdb/mnist/t10k-images-idx3-ubyte.gz to ./data/MNIST/raw/t10k-images-idx3-ubyte.gz\n"
          ]
        },
        {
          "output_type": "display_data",
          "data": {
            "text/plain": [
              "  0%|          | 0/1648877 [00:00<?, ?it/s]"
            ],
            "application/vnd.jupyter.widget-view+json": {
              "version_major": 2,
              "version_minor": 0,
              "model_id": "c3658960f09044fb879911d160bf8f13"
            }
          },
          "metadata": {}
        },
        {
          "output_type": "stream",
          "name": "stdout",
          "text": [
            "Extracting ./data/MNIST/raw/t10k-images-idx3-ubyte.gz to ./data/MNIST/raw\n",
            "\n",
            "Downloading http://yann.lecun.com/exdb/mnist/t10k-labels-idx1-ubyte.gz\n",
            "Downloading http://yann.lecun.com/exdb/mnist/t10k-labels-idx1-ubyte.gz to ./data/MNIST/raw/t10k-labels-idx1-ubyte.gz\n"
          ]
        },
        {
          "output_type": "display_data",
          "data": {
            "text/plain": [
              "  0%|          | 0/4542 [00:00<?, ?it/s]"
            ],
            "application/vnd.jupyter.widget-view+json": {
              "version_major": 2,
              "version_minor": 0,
              "model_id": "2d2082c72c9846b6a024eeb9e4b16b0e"
            }
          },
          "metadata": {}
        },
        {
          "output_type": "stream",
          "name": "stdout",
          "text": [
            "Extracting ./data/MNIST/raw/t10k-labels-idx1-ubyte.gz to ./data/MNIST/raw\n",
            "\n"
          ]
        }
      ],
      "source": [
        "## ToTenssor Convert Image into Pixel Range of [0,255] and images are normalized to reduce the skewness and increase model abilty to learn faster.\n",
        "tranformercustom = trnsform.Compose([trnsform.ToTensor(),trnsform.Normalize((0.1,), (0.3,))])\n",
        "\n",
        "traindata = datasets.MNIST(root='./data',train=True,download=True,transform=tranformercustom)\n",
        "## Test Data\n",
        "testdata = datasets.MNIST(root='./data',train=False,download=True,transform=tranformercustom)"
      ]
    },
    {
      "cell_type": "markdown",
      "metadata": {
        "id": "IWlpUO75ikts"
      },
      "source": [
        "## Train Data\n",
        "\n",
        "* Train Data has 60000 Datapoints"
      ]
    },
    {
      "cell_type": "code",
      "execution_count": null,
      "metadata": {
        "colab": {
          "base_uri": "https://localhost:8080/"
        },
        "id": "bb1-mAQvii_D",
        "outputId": "583f05ee-f44e-4e0b-91ab-d68151549706"
      },
      "outputs": [
        {
          "output_type": "execute_result",
          "data": {
            "text/plain": [
              "Dataset MNIST\n",
              "    Number of datapoints: 60000\n",
              "    Root location: ./data\n",
              "    Split: Train\n",
              "    StandardTransform\n",
              "Transform: Compose(\n",
              "               ToTensor()\n",
              "               Normalize(mean=(0.1,), std=(0.3,))\n",
              "           )"
            ]
          },
          "metadata": {},
          "execution_count": 52
        }
      ],
      "source": [
        "traindata"
      ]
    },
    {
      "cell_type": "markdown",
      "metadata": {
        "id": "pCe_-xr_im57"
      },
      "source": [
        "## Test Data\n",
        "\n",
        "* Test Data has 10000 Datapoints"
      ]
    },
    {
      "cell_type": "code",
      "execution_count": null,
      "metadata": {
        "colab": {
          "base_uri": "https://localhost:8080/"
        },
        "id": "yNUKbnMBim58",
        "outputId": "94a1afcd-0fc3-4e3f-a24e-c74479583cb3"
      },
      "outputs": [
        {
          "output_type": "execute_result",
          "data": {
            "text/plain": [
              "Dataset MNIST\n",
              "    Number of datapoints: 10000\n",
              "    Root location: ./data\n",
              "    Split: Test\n",
              "    StandardTransform\n",
              "Transform: Compose(\n",
              "               ToTensor()\n",
              "               Normalize(mean=(0.1,), std=(0.3,))\n",
              "           )"
            ]
          },
          "metadata": {},
          "execution_count": 53
        }
      ],
      "source": [
        "testdata"
      ]
    },
    {
      "cell_type": "markdown",
      "metadata": {
        "id": "C285kEWJiZAo"
      },
      "source": [
        "## Loading Data that is Downloaded"
      ]
    },
    {
      "cell_type": "code",
      "execution_count": null,
      "metadata": {
        "id": "V3Aaoy6xe5SS"
      },
      "outputs": [],
      "source": [
        "X_trian = tr.utils.data.DataLoader(traindata, batch_size=32, shuffle=True, num_workers=2)\n",
        "X_test = tr.utils.data.DataLoader(testdata, batch_size=32, shuffle=True, num_workers=2)"
      ]
    },
    {
      "cell_type": "markdown",
      "metadata": {
        "id": "7KVQ4n3RnFBY"
      },
      "source": [
        "## Printing Batch and Labels size"
      ]
    },
    {
      "cell_type": "code",
      "execution_count": null,
      "metadata": {
        "id": "iUGR31GOnIaQ"
      },
      "outputs": [],
      "source": [
        "batch, labels = next(iter(X_trian))"
      ]
    },
    {
      "cell_type": "code",
      "execution_count": null,
      "metadata": {
        "colab": {
          "base_uri": "https://localhost:8080/"
        },
        "id": "vNzzW086x8ex",
        "outputId": "003f0f69-027c-4ce3-ffb7-9ec88f0dc249"
      },
      "outputs": [
        {
          "output_type": "stream",
          "name": "stdout",
          "text": [
            "Batch size 32\n",
            "Image size 28 x 28\n",
            "Image Channel 1\n",
            "Label size, torch.Size([32])\n"
          ]
        }
      ],
      "source": [
        "print(\"Batch size\", batch.size()[0])\n",
        "print(\"Image size\", batch.size()[2],\"x\",batch.size()[3])\n",
        "print(\"Image Channel\", batch.size()[1])\n",
        "print(\"Label size,\", labels.size())"
      ]
    },
    {
      "cell_type": "markdown",
      "metadata": {
        "id": "NSSbcRLrHI_u"
      },
      "source": [
        "## Classes of Dataset"
      ]
    },
    {
      "cell_type": "code",
      "execution_count": null,
      "metadata": {
        "colab": {
          "base_uri": "https://localhost:8080/"
        },
        "id": "-2uVgMWAHK5l",
        "outputId": "2eab6c00-5993-4233-c90a-cf2270941f8f"
      },
      "outputs": [
        {
          "output_type": "execute_result",
          "data": {
            "text/plain": [
              "['0 - zero',\n",
              " '1 - one',\n",
              " '2 - two',\n",
              " '3 - three',\n",
              " '4 - four',\n",
              " '5 - five',\n",
              " '6 - six',\n",
              " '7 - seven',\n",
              " '8 - eight',\n",
              " '9 - nine']"
            ]
          },
          "metadata": {},
          "execution_count": 57
        }
      ],
      "source": [
        "classes=traindata.classes\n",
        "classes"
      ]
    },
    {
      "cell_type": "markdown",
      "metadata": {
        "id": "PvwccH8Typ-P"
      },
      "source": [
        "## Ploting Images"
      ]
    },
    {
      "cell_type": "markdown",
      "metadata": {
        "id": "NzO_LrEojOHG"
      },
      "source": [
        "* Ref Image plot --> https://stackoverflow.com/questions/53623472/how-do-i-display-a-single-image-in-pytorch"
      ]
    },
    {
      "cell_type": "code",
      "execution_count": null,
      "metadata": {
        "colab": {
          "base_uri": "https://localhost:8080/",
          "height": 459
        },
        "id": "83Tq5b-UyrGe",
        "outputId": "3ce73e57-856b-4f47-c6dd-a80e0ae45989"
      },
      "outputs": [
        {
          "output_type": "display_data",
          "data": {
            "text/plain": [
              "<Figure size 1440x1440 with 10 Axes>"
            ],
            "image/png": "[encoded data removed]"
          },
          "metadata": {
            "needs_background": "light"
          }
        }
      ],
      "source": [
        "## Creating \n",
        "plt.figure(figsize=(20,20))\n",
        "for n , i in enumerate(list(np.random.randint(0,len(batch),10))) : \n",
        "    plt.subplot(5,5,n+1)\n",
        "    plt.imshow(batch[i].squeeze() , cmap='gray')\n",
        "    plt.title(labels[i])\n",
        "    plt.axis('off')     \n",
        "plt.show()"
      ]
    },
    {
      "cell_type": "markdown",
      "source": [
        "## Labels"
      ],
      "metadata": {
        "id": "ZuHB99Gt_lZP"
      }
    },
    {
      "cell_type": "markdown",
      "source": [
        "### Extraction labels from each traindata for testing model\n",
        "\n",
        "#### Single line loop --> https://blog.finxter.com/python-one-line-for-loop-a-simple-tutorial/"
      ],
      "metadata": {
        "id": "DAu-0JKhPWZ9"
      }
    },
    {
      "cell_type": "code",
      "source": [
        "y_train = np.array([y for x, y in iter(traindata)])\n",
        "y_test = np.array([y for x, y in iter(testdata)])"
      ],
      "metadata": {
        "id": "wb4IW_6L_mlo"
      },
      "execution_count": null,
      "outputs": []
    },
    {
      "cell_type": "markdown",
      "source": [
        "## Plotting The Labels"
      ],
      "metadata": {
        "id": "YmbcBHjMI9Mg"
      }
    },
    {
      "cell_type": "code",
      "source": [
        "import plotly.express as px"
      ],
      "metadata": {
        "id": "am5NbA65JfA7"
      },
      "execution_count": null,
      "outputs": []
    },
    {
      "cell_type": "markdown",
      "source": [
        "## This show that dataset is evenly distributed"
      ],
      "metadata": {
        "id": "sdkO0evCJspz"
      }
    },
    {
      "cell_type": "code",
      "source": [
        "labelunique, labelcount = np.unique(y_train, return_counts=True)\n",
        "labeluniquet, labeluniquet = np.unique(y_test, return_counts=True)\n",
        "\n",
        "## Distribution of Label counts in Training and Test Dataset\n",
        "fig = px.pie(labelunique, values=labelcount, names=labelunique,\n",
        "             title='Distribution of Label counts in Training Dataset' ,\n",
        "             color_discrete_sequence=px.colors.sequential.Magma_r)\n",
        "fig.update_traces(textposition='inside', textinfo='percent+label')\n",
        "fig.show()"
      ],
      "metadata": {
        "colab": {
          "base_uri": "https://localhost:8080/",
          "height": 542
        },
        "id": "iuVxWJMzI_Of",
        "outputId": "33b11185-7570-487c-e443-a838cc6a9ac2"
      },
      "execution_count": null,
      "outputs": [
        {
          "output_type": "display_data",
          "data": {
            "text/html": [
              "<html>\n",
              "<head><meta charset=\"utf-8\" /></head>\n",
              "<body>\n",
              "    <div>            <script src=\"https://cdnjs.cloudflare.com/ajax/libs/mathjax/2.7.5/MathJax.js?config=TeX-AMS-MML_SVG\"></script><script type=\"text/javascript\">if (window.MathJax) {MathJax.Hub.Config({SVG: {font: \"STIX-Web\"}});}</script>                <script type=\"text/javascript\">window.PlotlyConfig = {MathJaxConfig: 'local'};</script>\n",
              "        <script src=\"https://cdn.plot.ly/plotly-2.8.3.min.js\"></script>                <div id=\"94365e53-2ad3-411a-b082-4466c64ac736\" class=\"plotly-graph-div\" style=\"height:525px; width:100%;\"></div>            <script type=\"text/javascript\">                                    window.PLOTLYENV=window.PLOTLYENV || {};                                    if (document.getElementById(\"94365e53-2ad3-411a-b082-4466c64ac736\")) {                    Plotly.newPlot(                        \"94365e53-2ad3-411a-b082-4466c64ac736\",                        [{\"domain\":{\"x\":[0.0,1.0],\"y\":[0.0,1.0]},\"hovertemplate\":\"label=%{label}<br>value=%{value}<extra></extra>\",\"labels\":[0,1,2,3,4,5,6,7,8,9],\"legendgroup\":\"\",\"name\":\"\",\"showlegend\":true,\"values\":[5923,6742,5958,6131,5842,5421,5918,6265,5851,5949],\"type\":\"pie\",\"textinfo\":\"percent+label\",\"textposition\":\"inside\"}],                        {\"template\":{\"data\":{\"bar\":[{\"error_x\":{\"color\":\"#2a3f5f\"},\"error_y\":{\"color\":\"#2a3f5f\"},\"marker\":{\"line\":{\"color\":\"#E5ECF6\",\"width\":0.5},\"pattern\":{\"fillmode\":\"overlay\",\"size\":10,\"solidity\":0.2}},\"type\":\"bar\"}],\"barpolar\":[{\"marker\":{\"line\":{\"color\":\"#E5ECF6\",\"width\":0.5},\"pattern\":{\"fillmode\":\"overlay\",\"size\":10,\"solidity\":0.2}},\"type\":\"barpolar\"}],\"carpet\":[{\"aaxis\":{\"endlinecolor\":\"#2a3f5f\",\"gridcolor\":\"white\",\"linecolor\":\"white\",\"minorgridcolor\":\"white\",\"startlinecolor\":\"#2a3f5f\"},\"baxis\":{\"endlinecolor\":\"#2a3f5f\",\"gridcolor\":\"white\",\"linecolor\":\"white\",\"minorgridcolor\":\"white\",\"startlinecolor\":\"#2a3f5f\"},\"type\":\"carpet\"}],\"choropleth\":[{\"colorbar\":{\"outlinewidth\":0,\"ticks\":\"\"},\"type\":\"choropleth\"}],\"contour\":[{\"colorbar\":{\"outlinewidth\":0,\"ticks\":\"\"},\"colorscale\":[[0.0,\"#0d0887\"],[0.1111111111111111,\"#46039f\"],[0.2222222222222222,\"#7201a8\"],[0.3333333333333333,\"#9c179e\"],[0.4444444444444444,\"#bd3786\"],[0.5555555555555556,\"#d8576b\"],[0.6666666666666666,\"#ed7953\"],[0.7777777777777778,\"#fb9f3a\"],[0.8888888888888888,\"#fdca26\"],[1.0,\"#f0f921\"]],\"type\":\"contour\"}],\"contourcarpet\":[{\"colorbar\":{\"outlinewidth\":0,\"ticks\":\"\"},\"type\":\"contourcarpet\"}],\"heatmap\":[{\"colorbar\":{\"outlinewidth\":0,\"ticks\":\"\"},\"colorscale\":[[0.0,\"#0d0887\"],[0.1111111111111111,\"#46039f\"],[0.2222222222222222,\"#7201a8\"],[0.3333333333333333,\"#9c179e\"],[0.4444444444444444,\"#bd3786\"],[0.5555555555555556,\"#d8576b\"],[0.6666666666666666,\"#ed7953\"],[0.7777777777777778,\"#fb9f3a\"],[0.8888888888888888,\"#fdca26\"],[1.0,\"#f0f921\"]],\"type\":\"heatmap\"}],\"heatmapgl\":[{\"colorbar\":{\"outlinewidth\":0,\"ticks\":\"\"},\"colorscale\":[[0.0,\"#0d0887\"],[0.1111111111111111,\"#46039f\"],[0.2222222222222222,\"#7201a8\"],[0.3333333333333333,\"#9c179e\"],[0.4444444444444444,\"#bd3786\"],[0.5555555555555556,\"#d8576b\"],[0.6666666666666666,\"#ed7953\"],[0.7777777777777778,\"#fb9f3a\"],[0.8888888888888888,\"#fdca26\"],[1.0,\"#f0f921\"]],\"type\":\"heatmapgl\"}],\"histogram\":[{\"marker\":{\"pattern\":{\"fillmode\":\"overlay\",\"size\":10,\"solidity\":0.2}},\"type\":\"histogram\"}],\"histogram2d\":[{\"colorbar\":{\"outlinewidth\":0,\"ticks\":\"\"},\"colorscale\":[[0.0,\"#0d0887\"],[0.1111111111111111,\"#46039f\"],[0.2222222222222222,\"#7201a8\"],[0.3333333333333333,\"#9c179e\"],[0.4444444444444444,\"#bd3786\"],[0.5555555555555556,\"#d8576b\"],[0.6666666666666666,\"#ed7953\"],[0.7777777777777778,\"#fb9f3a\"],[0.8888888888888888,\"#fdca26\"],[1.0,\"#f0f921\"]],\"type\":\"histogram2d\"}],\"histogram2dcontour\":[{\"colorbar\":{\"outlinewidth\":0,\"ticks\":\"\"},\"colorscale\":[[0.0,\"#0d0887\"],[0.1111111111111111,\"#46039f\"],[0.2222222222222222,\"#7201a8\"],[0.3333333333333333,\"#9c179e\"],[0.4444444444444444,\"#bd3786\"],[0.5555555555555556,\"#d8576b\"],[0.6666666666666666,\"#ed7953\"],[0.7777777777777778,\"#fb9f3a\"],[0.8888888888888888,\"#fdca26\"],[1.0,\"#f0f921\"]],\"type\":\"histogram2dcontour\"}],\"mesh3d\":[{\"colorbar\":{\"outlinewidth\":0,\"ticks\":\"\"},\"type\":\"mesh3d\"}],\"parcoords\":[{\"line\":{\"colorbar\":{\"outlinewidth\":0,\"ticks\":\"\"}},\"type\":\"parcoords\"}],\"pie\":[{\"automargin\":true,\"type\":\"pie\"}],\"scatter\":[{\"marker\":{\"colorbar\":{\"outlinewidth\":0,\"ticks\":\"\"}},\"type\":\"scatter\"}],\"scatter3d\":[{\"line\":{\"colorbar\":{\"outlinewidth\":0,\"ticks\":\"\"}},\"marker\":{\"colorbar\":{\"outlinewidth\":0,\"ticks\":\"\"}},\"type\":\"scatter3d\"}],\"scattercarpet\":[{\"marker\":{\"colorbar\":{\"outlinewidth\":0,\"ticks\":\"\"}},\"type\":\"scattercarpet\"}],\"scattergeo\":[{\"marker\":{\"colorbar\":{\"outlinewidth\":0,\"ticks\":\"\"}},\"type\":\"scattergeo\"}],\"scattergl\":[{\"marker\":{\"colorbar\":{\"outlinewidth\":0,\"ticks\":\"\"}},\"type\":\"scattergl\"}],\"scattermapbox\":[{\"marker\":{\"colorbar\":{\"outlinewidth\":0,\"ticks\":\"\"}},\"type\":\"scattermapbox\"}],\"scatterpolar\":[{\"marker\":{\"colorbar\":{\"outlinewidth\":0,\"ticks\":\"\"}},\"type\":\"scatterpolar\"}],\"scatterpolargl\":[{\"marker\":{\"colorbar\":{\"outlinewidth\":0,\"ticks\":\"\"}},\"type\":\"scatterpolargl\"}],\"scatterternary\":[{\"marker\":{\"colorbar\":{\"outlinewidth\":0,\"ticks\":\"\"}},\"type\":\"scatterternary\"}],\"surface\":[{\"colorbar\":{\"outlinewidth\":0,\"ticks\":\"\"},\"colorscale\":[[0.0,\"#0d0887\"],[0.1111111111111111,\"#46039f\"],[0.2222222222222222,\"#7201a8\"],[0.3333333333333333,\"#9c179e\"],[0.4444444444444444,\"#bd3786\"],[0.5555555555555556,\"#d8576b\"],[0.6666666666666666,\"#ed7953\"],[0.7777777777777778,\"#fb9f3a\"],[0.8888888888888888,\"#fdca26\"],[1.0,\"#f0f921\"]],\"type\":\"surface\"}],\"table\":[{\"cells\":{\"fill\":{\"color\":\"#EBF0F8\"},\"line\":{\"color\":\"white\"}},\"header\":{\"fill\":{\"color\":\"#C8D4E3\"},\"line\":{\"color\":\"white\"}},\"type\":\"table\"}]},\"layout\":{\"annotationdefaults\":{\"arrowcolor\":\"#2a3f5f\",\"arrowhead\":0,\"arrowwidth\":1},\"autotypenumbers\":\"strict\",\"coloraxis\":{\"colorbar\":{\"outlinewidth\":0,\"ticks\":\"\"}},\"colorscale\":{\"diverging\":[[0,\"#8e0152\"],[0.1,\"#c51b7d\"],[0.2,\"#de77ae\"],[0.3,\"#f1b6da\"],[0.4,\"#fde0ef\"],[0.5,\"#f7f7f7\"],[0.6,\"#e6f5d0\"],[0.7,\"#b8e186\"],[0.8,\"#7fbc41\"],[0.9,\"#4d9221\"],[1,\"#276419\"]],\"sequential\":[[0.0,\"#0d0887\"],[0.1111111111111111,\"#46039f\"],[0.2222222222222222,\"#7201a8\"],[0.3333333333333333,\"#9c179e\"],[0.4444444444444444,\"#bd3786\"],[0.5555555555555556,\"#d8576b\"],[0.6666666666666666,\"#ed7953\"],[0.7777777777777778,\"#fb9f3a\"],[0.8888888888888888,\"#fdca26\"],[1.0,\"#f0f921\"]],\"sequentialminus\":[[0.0,\"#0d0887\"],[0.1111111111111111,\"#46039f\"],[0.2222222222222222,\"#7201a8\"],[0.3333333333333333,\"#9c179e\"],[0.4444444444444444,\"#bd3786\"],[0.5555555555555556,\"#d8576b\"],[0.6666666666666666,\"#ed7953\"],[0.7777777777777778,\"#fb9f3a\"],[0.8888888888888888,\"#fdca26\"],[1.0,\"#f0f921\"]]},\"colorway\":[\"#636efa\",\"#EF553B\",\"#00cc96\",\"#ab63fa\",\"#FFA15A\",\"#19d3f3\",\"#FF6692\",\"#B6E880\",\"#FF97FF\",\"#FECB52\"],\"font\":{\"color\":\"#2a3f5f\"},\"geo\":{\"bgcolor\":\"white\",\"lakecolor\":\"white\",\"landcolor\":\"#E5ECF6\",\"showlakes\":true,\"showland\":true,\"subunitcolor\":\"white\"},\"hoverlabel\":{\"align\":\"left\"},\"hovermode\":\"closest\",\"mapbox\":{\"style\":\"light\"},\"paper_bgcolor\":\"white\",\"plot_bgcolor\":\"#E5ECF6\",\"polar\":{\"angularaxis\":{\"gridcolor\":\"white\",\"linecolor\":\"white\",\"ticks\":\"\"},\"bgcolor\":\"#E5ECF6\",\"radialaxis\":{\"gridcolor\":\"white\",\"linecolor\":\"white\",\"ticks\":\"\"}},\"scene\":{\"xaxis\":{\"backgroundcolor\":\"#E5ECF6\",\"gridcolor\":\"white\",\"gridwidth\":2,\"linecolor\":\"white\",\"showbackground\":true,\"ticks\":\"\",\"zerolinecolor\":\"white\"},\"yaxis\":{\"backgroundcolor\":\"#E5ECF6\",\"gridcolor\":\"white\",\"gridwidth\":2,\"linecolor\":\"white\",\"showbackground\":true,\"ticks\":\"\",\"zerolinecolor\":\"white\"},\"zaxis\":{\"backgroundcolor\":\"#E5ECF6\",\"gridcolor\":\"white\",\"gridwidth\":2,\"linecolor\":\"white\",\"showbackground\":true,\"ticks\":\"\",\"zerolinecolor\":\"white\"}},\"shapedefaults\":{\"line\":{\"color\":\"#2a3f5f\"}},\"ternary\":{\"aaxis\":{\"gridcolor\":\"white\",\"linecolor\":\"white\",\"ticks\":\"\"},\"baxis\":{\"gridcolor\":\"white\",\"linecolor\":\"white\",\"ticks\":\"\"},\"bgcolor\":\"#E5ECF6\",\"caxis\":{\"gridcolor\":\"white\",\"linecolor\":\"white\",\"ticks\":\"\"}},\"title\":{\"x\":0.05},\"xaxis\":{\"automargin\":true,\"gridcolor\":\"white\",\"linecolor\":\"white\",\"ticks\":\"\",\"title\":{\"standoff\":15},\"zerolinecolor\":\"white\",\"zerolinewidth\":2},\"yaxis\":{\"automargin\":true,\"gridcolor\":\"white\",\"linecolor\":\"white\",\"ticks\":\"\",\"title\":{\"standoff\":15},\"zerolinecolor\":\"white\",\"zerolinewidth\":2}}},\"legend\":{\"tracegroupgap\":0},\"title\":{\"text\":\"Distribution of Label counts in Training Dataset\"},\"piecolorway\":[\"#fcfdbf\",\"#feca8d\",\"#fd9668\",\"#f1605d\",\"#cd4071\",\"#9e2f7f\",\"#721f81\",\"#440f76\",\"#180f3d\",\"#000004\"]},                        {\"responsive\": true}                    ).then(function(){\n",
              "                            \n",
              "var gd = document.getElementById('94365e53-2ad3-411a-b082-4466c64ac736');\n",
              "var x = new MutationObserver(function (mutations, observer) {{\n",
              "        var display = window.getComputedStyle(gd).display;\n",
              "        if (!display || display === 'none') {{\n",
              "            console.log([gd, 'removed!']);\n",
              "            Plotly.purge(gd);\n",
              "            observer.disconnect();\n",
              "        }}\n",
              "}});\n",
              "\n",
              "// Listen for the removal of the full notebook cells\n",
              "var notebookContainer = gd.closest('#notebook-container');\n",
              "if (notebookContainer) {{\n",
              "    x.observe(notebookContainer, {childList: true});\n",
              "}}\n",
              "\n",
              "// Listen for the clearing of the current output cell\n",
              "var outputEl = gd.closest('.output');\n",
              "if (outputEl) {{\n",
              "    x.observe(outputEl, {childList: true});\n",
              "}}\n",
              "\n",
              "                        })                };                            </script>        </div>\n",
              "</body>\n",
              "</html>"
            ]
          },
          "metadata": {}
        }
      ]
    },
    {
      "cell_type": "markdown",
      "source": [
        "## Fashion MNIST Model"
      ],
      "metadata": {
        "id": "EVLp043549lb"
      }
    },
    {
      "cell_type": "code",
      "source": [
        "class MNISTnetworkntnetwork(nn.Module):\n",
        "  def __init__(self,dropout=0.2,dropout2=0.3, num_units=10,out_units=10,fout_units=10,nonlinear=F.relu):\n",
        "    super(MNISTnetworkntnetwork, self).__init__()\n",
        "    ## Convulution layers\n",
        "    self.conv1 = nn.Conv2d(in_channels=1,out_channels=num_units,kernel_size=5,stride=1)\n",
        "    self.nonlin1 = nonlinear\n",
        "    self.conv2 = nn.Conv2d(in_channels=num_units,out_channels=out_units,kernel_size=5,stride=1)\n",
        "    self.nonlin2 = nonlinear\n",
        "    self.conv3 = nn.Conv2d(in_channels=out_units,out_channels=fout_units,kernel_size=2,stride=1)\n",
        "    self.nonlin2 = nonlinear\n",
        "    ## FLatten Layers1\n",
        "    self.flatten1 = nn.Linear(fout_units*3*3,200)\n",
        "    ## FLatten Layers\n",
        "    self.flatten2 = nn.Linear(200,60)\n",
        "    self.output = nn.Linear(60,10)\n",
        "    ## dropout layers\n",
        "    self.dropout = nn.Dropout2d(p=dropout)\n",
        "    ## dropout1 layers\n",
        "    self.dropout1 = nn.Dropout2d(p=dropout2)\n",
        "    ## out\n",
        "    self.outloss = nn.Softmax(dim = 1)\n",
        "\n",
        "  def forward(self,img, **kwargs):\n",
        "  ## Layer 1 \n",
        "    img = self.nonlin1(F.max_pool2d(self.conv1(img),kernel_size=2,stride=2))\n",
        "    ## Layer 2\n",
        "    img = self.nonlin2(F.max_pool2d(self.conv2(img),kernel_size=2,stride=2))\n",
        "    ## Layer 3\n",
        "    img = self.nonlin2(self.conv3(img))\n",
        "    ## Dropout layer\n",
        "    img = self.dropout(img)\n",
        "    ## Reshape Image\n",
        "    img = img.view(-1,fout_units*3*3)\n",
        "    ## FLatten Layer 1\n",
        "    img = self.flatten1(img)\n",
        "    ## FLatten Layer 2\n",
        "    img = self.flatten2(img)\n",
        "    ## Drop out layer 2\n",
        "    img = self.dropout1(img)\n",
        "    ## Output layer\n",
        "    img = self.output(img)\n",
        "    ## softmax for multi classification\n",
        "    img = self.outloss(img)\n",
        "\n",
        "    return img"
      ],
      "metadata": {
        "id": "gjR63XnytBNc"
      },
      "execution_count": null,
      "outputs": []
    },
    {
      "cell_type": "markdown",
      "source": [
        "## Compiling Model"
      ],
      "metadata": {
        "id": "bsF5S1aQQU7J"
      }
    },
    {
      "cell_type": "code",
      "source": [
        "## Intilize Default Parameters\n",
        "epochs = 10\n",
        "lr = 0.0001\n",
        "max_epochs = 10\n",
        "batch_size = 32\n",
        "loss = nn.CrossEntropyLoss\n",
        "module__optimizer = optim.Adam\n",
        "mnstnet = NeuralNetClassifier(fashionmsntnetwork,max_epochs=max_epochs,lr=lr,batch_size=batch_size,optimizer=module__optimizer,criterion=loss)"
      ],
      "metadata": {
        "id": "QFXgDGNctBC4"
      },
      "execution_count": null,
      "outputs": []
    },
    {
      "cell_type": "markdown",
      "source": [
        "## GridSearch Implementation"
      ],
      "metadata": {
        "id": "khgRoKoHU1Hr"
      }
    },
    {
      "cell_type": "markdown",
      "source": [
        "## * What is GridSearch --> https://medium.com/fintechexplained/what-is-grid-search-c01fe886ef0a\n",
        "## * Grid Search Implmenetation on skroch --> https://github.com/skorch-dev/skorch/issues/443\n",
        "\n",
        "## Hyperparameter Search --> https://github.com/skorch-dev/skorch/issues/443"
      ],
      "metadata": {
        "id": "e2Yzvsu4Uc8A"
      }
    },
    {
      "cell_type": "code",
      "source": [
        "## Dictionary consisting of all parameters to run on grid search\n",
        "params = {\n",
        "    'lr': [0.0001,0.001],\n",
        "    'max_epochs': [15,20],\n",
        "    'batch_size': [32,64],\n",
        "    'module__optimizer': [optim.Adam,optim.RMSprop],\n",
        "    'module__nonlinear': [nn.ReLU(), nn.Softmax(dim = 1)],\n",
        "    'module__num_units': [10],\n",
        "    'module__out_units': [20, 30],\n",
        "    'module__fout_units': [40, 50],\n",
        "    }"
      ],
      "metadata": {
        "id": "Q9KMAhUGSCpq"
      },
      "execution_count": null,
      "outputs": []
    },
    {
      "cell_type": "markdown",
      "source": [
        "## Train Model"
      ],
      "metadata": {
        "id": "gfIzDc87Qhcf"
      }
    },
    {
      "cell_type": "code",
      "source": [
        "gs_fasion = GridSearchCV(mnstnet, params, refit=False, cv=3, scoring='accuracy', verbose = 2)\n",
        "gs_fasion.fit(traindata,y_train)"
      ],
      "metadata": {
        "id": "CJ6VqZ5wTPF3",
        "colab": {
          "base_uri": "https://localhost:8080/"
        },
        "outputId": "31da095d-3533-4805-fa3a-0c59c109eb37"
      },
      "execution_count": null,
      "outputs": [
        {
          "output_type": "stream",
          "name": "stdout",
          "text": [
            "Fitting 3 folds for each of 128 candidates, totalling 384 fits\n",
            "[CV] END batch_size=32, lr=0.0001, max_epochs=15, module__fout_units=40, module__nonlinear=ReLU(), module__num_units=10, module__optimizer=<class 'torch.optim.adam.Adam'>, module__out_units=20; total time=  11.4s\n",
            "[CV] END batch_size=32, lr=0.0001, max_epochs=15, module__fout_units=40, module__nonlinear=ReLU(), module__num_units=10, module__optimizer=<class 'torch.optim.adam.Adam'>, module__out_units=20; total time=   9.3s\n",
            "[CV] END batch_size=32, lr=0.0001, max_epochs=15, module__fout_units=40, module__nonlinear=ReLU(), module__num_units=10, module__optimizer=<class 'torch.optim.adam.Adam'>, module__out_units=20; total time=   9.1s\n",
            "[CV] END batch_size=32, lr=0.0001, max_epochs=15, module__fout_units=40, module__nonlinear=ReLU(), module__num_units=10, module__optimizer=<class 'torch.optim.adam.Adam'>, module__out_units=30; total time=   9.2s\n",
            "[CV] END batch_size=32, lr=0.0001, max_epochs=15, module__fout_units=40, module__nonlinear=ReLU(), module__num_units=10, module__optimizer=<class 'torch.optim.adam.Adam'>, module__out_units=30; total time=   9.2s\n",
            "[CV] END batch_size=32, lr=0.0001, max_epochs=15, module__fout_units=40, module__nonlinear=ReLU(), module__num_units=10, module__optimizer=<class 'torch.optim.adam.Adam'>, module__out_units=30; total time=  10.6s\n",
            "[CV] END batch_size=32, lr=0.0001, max_epochs=15, module__fout_units=40, module__nonlinear=ReLU(), module__num_units=10, module__optimizer=<class 'torch.optim.rmsprop.RMSprop'>, module__out_units=20; total time=   9.1s\n",
            "[CV] END batch_size=32, lr=0.0001, max_epochs=15, module__fout_units=40, module__nonlinear=ReLU(), module__num_units=10, module__optimizer=<class 'torch.optim.rmsprop.RMSprop'>, module__out_units=20; total time=   9.0s\n",
            "[CV] END batch_size=32, lr=0.0001, max_epochs=15, module__fout_units=40, module__nonlinear=ReLU(), module__num_units=10, module__optimizer=<class 'torch.optim.rmsprop.RMSprop'>, module__out_units=20; total time=   9.1s\n",
            "[CV] END batch_size=32, lr=0.0001, max_epochs=15, module__fout_units=40, module__nonlinear=ReLU(), module__num_units=10, module__optimizer=<class 'torch.optim.rmsprop.RMSprop'>, module__out_units=30; total time=   9.2s\n",
            "[CV] END batch_size=32, lr=0.0001, max_epochs=15, module__fout_units=40, module__nonlinear=ReLU(), module__num_units=10, module__optimizer=<class 'torch.optim.rmsprop.RMSprop'>, module__out_units=30; total time=   9.1s\n",
            "[CV] END batch_size=32, lr=0.0001, max_epochs=15, module__fout_units=40, module__nonlinear=ReLU(), module__num_units=10, module__optimizer=<class 'torch.optim.rmsprop.RMSprop'>, module__out_units=30; total time=   9.2s\n",
            "[CV] END batch_size=32, lr=0.0001, max_epochs=15, module__fout_units=40, module__nonlinear=Softmax(dim=1), module__num_units=10, module__optimizer=<class 'torch.optim.adam.Adam'>, module__out_units=20; total time=   9.1s\n",
            "[CV] END batch_size=32, lr=0.0001, max_epochs=15, module__fout_units=40, module__nonlinear=Softmax(dim=1), module__num_units=10, module__optimizer=<class 'torch.optim.adam.Adam'>, module__out_units=20; total time=   9.3s\n",
            "[CV] END batch_size=32, lr=0.0001, max_epochs=15, module__fout_units=40, module__nonlinear=Softmax(dim=1), module__num_units=10, module__optimizer=<class 'torch.optim.adam.Adam'>, module__out_units=20; total time=  10.3s\n",
            "[CV] END batch_size=32, lr=0.0001, max_epochs=15, module__fout_units=40, module__nonlinear=Softmax(dim=1), module__num_units=10, module__optimizer=<class 'torch.optim.adam.Adam'>, module__out_units=30; total time=   9.5s\n",
            "[CV] END batch_size=32, lr=0.0001, max_epochs=15, module__fout_units=40, module__nonlinear=Softmax(dim=1), module__num_units=10, module__optimizer=<class 'torch.optim.adam.Adam'>, module__out_units=30; total time=   9.1s\n",
            "[CV] END batch_size=32, lr=0.0001, max_epochs=15, module__fout_units=40, module__nonlinear=Softmax(dim=1), module__num_units=10, module__optimizer=<class 'torch.optim.adam.Adam'>, module__out_units=30; total time=   9.1s\n",
            "[CV] END batch_size=32, lr=0.0001, max_epochs=15, module__fout_units=40, module__nonlinear=Softmax(dim=1), module__num_units=10, module__optimizer=<class 'torch.optim.rmsprop.RMSprop'>, module__out_units=20; total time=   9.0s\n",
            "[CV] END batch_size=32, lr=0.0001, max_epochs=15, module__fout_units=40, module__nonlinear=Softmax(dim=1), module__num_units=10, module__optimizer=<class 'torch.optim.rmsprop.RMSprop'>, module__out_units=20; total time=   9.0s\n",
            "[CV] END batch_size=32, lr=0.0001, max_epochs=15, module__fout_units=40, module__nonlinear=Softmax(dim=1), module__num_units=10, module__optimizer=<class 'torch.optim.rmsprop.RMSprop'>, module__out_units=20; total time=   9.2s\n",
            "[CV] END batch_size=32, lr=0.0001, max_epochs=15, module__fout_units=40, module__nonlinear=Softmax(dim=1), module__num_units=10, module__optimizer=<class 'torch.optim.rmsprop.RMSprop'>, module__out_units=30; total time=   9.0s\n",
            "[CV] END batch_size=32, lr=0.0001, max_epochs=15, module__fout_units=40, module__nonlinear=Softmax(dim=1), module__num_units=10, module__optimizer=<class 'torch.optim.rmsprop.RMSprop'>, module__out_units=30; total time=   9.0s\n",
            "[CV] END batch_size=32, lr=0.0001, max_epochs=15, module__fout_units=40, module__nonlinear=Softmax(dim=1), module__num_units=10, module__optimizer=<class 'torch.optim.rmsprop.RMSprop'>, module__out_units=30; total time=   9.2s\n",
            "[CV] END batch_size=32, lr=0.0001, max_epochs=15, module__fout_units=50, module__nonlinear=ReLU(), module__num_units=10, module__optimizer=<class 'torch.optim.adam.Adam'>, module__out_units=20; total time=   9.1s\n",
            "[CV] END batch_size=32, lr=0.0001, max_epochs=15, module__fout_units=50, module__nonlinear=ReLU(), module__num_units=10, module__optimizer=<class 'torch.optim.adam.Adam'>, module__out_units=20; total time=   8.9s\n",
            "[CV] END batch_size=32, lr=0.0001, max_epochs=15, module__fout_units=50, module__nonlinear=ReLU(), module__num_units=10, module__optimizer=<class 'torch.optim.adam.Adam'>, module__out_units=20; total time=   9.2s\n",
            "[CV] END batch_size=32, lr=0.0001, max_epochs=15, module__fout_units=50, module__nonlinear=ReLU(), module__num_units=10, module__optimizer=<class 'torch.optim.adam.Adam'>, module__out_units=30; total time=   9.0s\n",
            "[CV] END batch_size=32, lr=0.0001, max_epochs=15, module__fout_units=50, module__nonlinear=ReLU(), module__num_units=10, module__optimizer=<class 'torch.optim.adam.Adam'>, module__out_units=30; total time=   8.9s\n",
            "[CV] END batch_size=32, lr=0.0001, max_epochs=15, module__fout_units=50, module__nonlinear=ReLU(), module__num_units=10, module__optimizer=<class 'torch.optim.adam.Adam'>, module__out_units=30; total time=   9.1s\n",
            "[CV] END batch_size=32, lr=0.0001, max_epochs=15, module__fout_units=50, module__nonlinear=ReLU(), module__num_units=10, module__optimizer=<class 'torch.optim.rmsprop.RMSprop'>, module__out_units=20; total time=   9.1s\n",
            "[CV] END batch_size=32, lr=0.0001, max_epochs=15, module__fout_units=50, module__nonlinear=ReLU(), module__num_units=10, module__optimizer=<class 'torch.optim.rmsprop.RMSprop'>, module__out_units=20; total time=   9.0s\n",
            "[CV] END batch_size=32, lr=0.0001, max_epochs=15, module__fout_units=50, module__nonlinear=ReLU(), module__num_units=10, module__optimizer=<class 'torch.optim.rmsprop.RMSprop'>, module__out_units=20; total time=   8.9s\n",
            "[CV] END batch_size=32, lr=0.0001, max_epochs=15, module__fout_units=50, module__nonlinear=ReLU(), module__num_units=10, module__optimizer=<class 'torch.optim.rmsprop.RMSprop'>, module__out_units=30; total time=   9.2s\n",
            "[CV] END batch_size=32, lr=0.0001, max_epochs=15, module__fout_units=50, module__nonlinear=ReLU(), module__num_units=10, module__optimizer=<class 'torch.optim.rmsprop.RMSprop'>, module__out_units=30; total time=  10.6s\n",
            "[CV] END batch_size=32, lr=0.0001, max_epochs=15, module__fout_units=50, module__nonlinear=ReLU(), module__num_units=10, module__optimizer=<class 'torch.optim.rmsprop.RMSprop'>, module__out_units=30; total time=   9.1s\n",
            "[CV] END batch_size=32, lr=0.0001, max_epochs=15, module__fout_units=50, module__nonlinear=Softmax(dim=1), module__num_units=10, module__optimizer=<class 'torch.optim.adam.Adam'>, module__out_units=20; total time=   9.2s\n",
            "[CV] END batch_size=32, lr=0.0001, max_epochs=15, module__fout_units=50, module__nonlinear=Softmax(dim=1), module__num_units=10, module__optimizer=<class 'torch.optim.adam.Adam'>, module__out_units=20; total time=   9.2s\n",
            "[CV] END batch_size=32, lr=0.0001, max_epochs=15, module__fout_units=50, module__nonlinear=Softmax(dim=1), module__num_units=10, module__optimizer=<class 'torch.optim.adam.Adam'>, module__out_units=20; total time=   9.0s\n",
            "[CV] END batch_size=32, lr=0.0001, max_epochs=15, module__fout_units=50, module__nonlinear=Softmax(dim=1), module__num_units=10, module__optimizer=<class 'torch.optim.adam.Adam'>, module__out_units=30; total time=   9.0s\n",
            "[CV] END batch_size=32, lr=0.0001, max_epochs=15, module__fout_units=50, module__nonlinear=Softmax(dim=1), module__num_units=10, module__optimizer=<class 'torch.optim.adam.Adam'>, module__out_units=30; total time=   9.0s\n",
            "[CV] END batch_size=32, lr=0.0001, max_epochs=15, module__fout_units=50, module__nonlinear=Softmax(dim=1), module__num_units=10, module__optimizer=<class 'torch.optim.adam.Adam'>, module__out_units=30; total time=   9.0s\n",
            "[CV] END batch_size=32, lr=0.0001, max_epochs=15, module__fout_units=50, module__nonlinear=Softmax(dim=1), module__num_units=10, module__optimizer=<class 'torch.optim.rmsprop.RMSprop'>, module__out_units=20; total time=   8.7s\n",
            "[CV] END batch_size=32, lr=0.0001, max_epochs=15, module__fout_units=50, module__nonlinear=Softmax(dim=1), module__num_units=10, module__optimizer=<class 'torch.optim.rmsprop.RMSprop'>, module__out_units=20; total time=   9.1s\n",
            "[CV] END batch_size=32, lr=0.0001, max_epochs=15, module__fout_units=50, module__nonlinear=Softmax(dim=1), module__num_units=10, module__optimizer=<class 'torch.optim.rmsprop.RMSprop'>, module__out_units=20; total time=   9.0s\n",
            "[CV] END batch_size=32, lr=0.0001, max_epochs=15, module__fout_units=50, module__nonlinear=Softmax(dim=1), module__num_units=10, module__optimizer=<class 'torch.optim.rmsprop.RMSprop'>, module__out_units=30; total time=   9.0s\n",
            "[CV] END batch_size=32, lr=0.0001, max_epochs=15, module__fout_units=50, module__nonlinear=Softmax(dim=1), module__num_units=10, module__optimizer=<class 'torch.optim.rmsprop.RMSprop'>, module__out_units=30; total time=   9.1s\n",
            "[CV] END batch_size=32, lr=0.0001, max_epochs=15, module__fout_units=50, module__nonlinear=Softmax(dim=1), module__num_units=10, module__optimizer=<class 'torch.optim.rmsprop.RMSprop'>, module__out_units=30; total time=   9.3s\n",
            "[CV] END batch_size=32, lr=0.0001, max_epochs=20, module__fout_units=40, module__nonlinear=ReLU(), module__num_units=10, module__optimizer=<class 'torch.optim.adam.Adam'>, module__out_units=20; total time=   8.8s\n",
            "[CV] END batch_size=32, lr=0.0001, max_epochs=20, module__fout_units=40, module__nonlinear=ReLU(), module__num_units=10, module__optimizer=<class 'torch.optim.adam.Adam'>, module__out_units=20; total time=   8.8s\n",
            "[CV] END batch_size=32, lr=0.0001, max_epochs=20, module__fout_units=40, module__nonlinear=ReLU(), module__num_units=10, module__optimizer=<class 'torch.optim.adam.Adam'>, module__out_units=20; total time=   9.2s\n",
            "[CV] END batch_size=32, lr=0.0001, max_epochs=20, module__fout_units=40, module__nonlinear=ReLU(), module__num_units=10, module__optimizer=<class 'torch.optim.adam.Adam'>, module__out_units=30; total time=   9.0s\n",
            "[CV] END batch_size=32, lr=0.0001, max_epochs=20, module__fout_units=40, module__nonlinear=ReLU(), module__num_units=10, module__optimizer=<class 'torch.optim.adam.Adam'>, module__out_units=30; total time=   9.0s\n",
            "[CV] END batch_size=32, lr=0.0001, max_epochs=20, module__fout_units=40, module__nonlinear=ReLU(), module__num_units=10, module__optimizer=<class 'torch.optim.adam.Adam'>, module__out_units=30; total time=   8.9s\n",
            "[CV] END batch_size=32, lr=0.0001, max_epochs=20, module__fout_units=40, module__nonlinear=ReLU(), module__num_units=10, module__optimizer=<class 'torch.optim.rmsprop.RMSprop'>, module__out_units=20; total time=   9.1s\n",
            "[CV] END batch_size=32, lr=0.0001, max_epochs=20, module__fout_units=40, module__nonlinear=ReLU(), module__num_units=10, module__optimizer=<class 'torch.optim.rmsprop.RMSprop'>, module__out_units=20; total time=   9.0s\n",
            "[CV] END batch_size=32, lr=0.0001, max_epochs=20, module__fout_units=40, module__nonlinear=ReLU(), module__num_units=10, module__optimizer=<class 'torch.optim.rmsprop.RMSprop'>, module__out_units=20; total time=  10.3s\n",
            "[CV] END batch_size=32, lr=0.0001, max_epochs=20, module__fout_units=40, module__nonlinear=ReLU(), module__num_units=10, module__optimizer=<class 'torch.optim.rmsprop.RMSprop'>, module__out_units=30; total time=   8.7s\n",
            "[CV] END batch_size=32, lr=0.0001, max_epochs=20, module__fout_units=40, module__nonlinear=ReLU(), module__num_units=10, module__optimizer=<class 'torch.optim.rmsprop.RMSprop'>, module__out_units=30; total time=   8.8s\n",
            "[CV] END batch_size=32, lr=0.0001, max_epochs=20, module__fout_units=40, module__nonlinear=ReLU(), module__num_units=10, module__optimizer=<class 'torch.optim.rmsprop.RMSprop'>, module__out_units=30; total time=   8.7s\n",
            "[CV] END batch_size=32, lr=0.0001, max_epochs=20, module__fout_units=40, module__nonlinear=Softmax(dim=1), module__num_units=10, module__optimizer=<class 'torch.optim.adam.Adam'>, module__out_units=20; total time=   9.0s\n",
            "[CV] END batch_size=32, lr=0.0001, max_epochs=20, module__fout_units=40, module__nonlinear=Softmax(dim=1), module__num_units=10, module__optimizer=<class 'torch.optim.adam.Adam'>, module__out_units=20; total time=   8.8s\n",
            "[CV] END batch_size=32, lr=0.0001, max_epochs=20, module__fout_units=40, module__nonlinear=Softmax(dim=1), module__num_units=10, module__optimizer=<class 'torch.optim.adam.Adam'>, module__out_units=20; total time=   9.0s\n",
            "[CV] END batch_size=32, lr=0.0001, max_epochs=20, module__fout_units=40, module__nonlinear=Softmax(dim=1), module__num_units=10, module__optimizer=<class 'torch.optim.adam.Adam'>, module__out_units=30; total time=   9.2s\n",
            "[CV] END batch_size=32, lr=0.0001, max_epochs=20, module__fout_units=40, module__nonlinear=Softmax(dim=1), module__num_units=10, module__optimizer=<class 'torch.optim.adam.Adam'>, module__out_units=30; total time=   9.0s\n",
            "[CV] END batch_size=32, lr=0.0001, max_epochs=20, module__fout_units=40, module__nonlinear=Softmax(dim=1), module__num_units=10, module__optimizer=<class 'torch.optim.adam.Adam'>, module__out_units=30; total time=   8.8s\n",
            "[CV] END batch_size=32, lr=0.0001, max_epochs=20, module__fout_units=40, module__nonlinear=Softmax(dim=1), module__num_units=10, module__optimizer=<class 'torch.optim.rmsprop.RMSprop'>, module__out_units=20; total time=   8.8s\n",
            "[CV] END batch_size=32, lr=0.0001, max_epochs=20, module__fout_units=40, module__nonlinear=Softmax(dim=1), module__num_units=10, module__optimizer=<class 'torch.optim.rmsprop.RMSprop'>, module__out_units=20; total time=   8.7s\n",
            "[CV] END batch_size=32, lr=0.0001, max_epochs=20, module__fout_units=40, module__nonlinear=Softmax(dim=1), module__num_units=10, module__optimizer=<class 'torch.optim.rmsprop.RMSprop'>, module__out_units=20; total time=   8.9s\n",
            "[CV] END batch_size=32, lr=0.0001, max_epochs=20, module__fout_units=40, module__nonlinear=Softmax(dim=1), module__num_units=10, module__optimizer=<class 'torch.optim.rmsprop.RMSprop'>, module__out_units=30; total time=   8.8s\n",
            "[CV] END batch_size=32, lr=0.0001, max_epochs=20, module__fout_units=40, module__nonlinear=Softmax(dim=1), module__num_units=10, module__optimizer=<class 'torch.optim.rmsprop.RMSprop'>, module__out_units=30; total time=   8.9s\n",
            "[CV] END batch_size=32, lr=0.0001, max_epochs=20, module__fout_units=40, module__nonlinear=Softmax(dim=1), module__num_units=10, module__optimizer=<class 'torch.optim.rmsprop.RMSprop'>, module__out_units=30; total time=   9.1s\n",
            "[CV] END batch_size=32, lr=0.0001, max_epochs=20, module__fout_units=50, module__nonlinear=ReLU(), module__num_units=10, module__optimizer=<class 'torch.optim.adam.Adam'>, module__out_units=20; total time=   9.0s\n",
            "[CV] END batch_size=32, lr=0.0001, max_epochs=20, module__fout_units=50, module__nonlinear=ReLU(), module__num_units=10, module__optimizer=<class 'torch.optim.adam.Adam'>, module__out_units=20; total time=   8.9s\n",
            "[CV] END batch_size=32, lr=0.0001, max_epochs=20, module__fout_units=50, module__nonlinear=ReLU(), module__num_units=10, module__optimizer=<class 'torch.optim.adam.Adam'>, module__out_units=20; total time=   8.9s\n",
            "[CV] END batch_size=32, lr=0.0001, max_epochs=20, module__fout_units=50, module__nonlinear=ReLU(), module__num_units=10, module__optimizer=<class 'torch.optim.adam.Adam'>, module__out_units=30; total time=   8.7s\n",
            "[CV] END batch_size=32, lr=0.0001, max_epochs=20, module__fout_units=50, module__nonlinear=ReLU(), module__num_units=10, module__optimizer=<class 'torch.optim.adam.Adam'>, module__out_units=30; total time=   8.9s\n",
            "[CV] END batch_size=32, lr=0.0001, max_epochs=20, module__fout_units=50, module__nonlinear=ReLU(), module__num_units=10, module__optimizer=<class 'torch.optim.adam.Adam'>, module__out_units=30; total time=   8.9s\n",
            "[CV] END batch_size=32, lr=0.0001, max_epochs=20, module__fout_units=50, module__nonlinear=ReLU(), module__num_units=10, module__optimizer=<class 'torch.optim.rmsprop.RMSprop'>, module__out_units=20; total time=   8.9s\n",
            "[CV] END batch_size=32, lr=0.0001, max_epochs=20, module__fout_units=50, module__nonlinear=ReLU(), module__num_units=10, module__optimizer=<class 'torch.optim.rmsprop.RMSprop'>, module__out_units=20; total time=   8.9s\n",
            "[CV] END batch_size=32, lr=0.0001, max_epochs=20, module__fout_units=50, module__nonlinear=ReLU(), module__num_units=10, module__optimizer=<class 'torch.optim.rmsprop.RMSprop'>, module__out_units=20; total time=   9.0s\n",
            "[CV] END batch_size=32, lr=0.0001, max_epochs=20, module__fout_units=50, module__nonlinear=ReLU(), module__num_units=10, module__optimizer=<class 'torch.optim.rmsprop.RMSprop'>, module__out_units=30; total time=   8.9s\n",
            "[CV] END batch_size=32, lr=0.0001, max_epochs=20, module__fout_units=50, module__nonlinear=ReLU(), module__num_units=10, module__optimizer=<class 'torch.optim.rmsprop.RMSprop'>, module__out_units=30; total time=   9.8s\n",
            "[CV] END batch_size=32, lr=0.0001, max_epochs=20, module__fout_units=50, module__nonlinear=ReLU(), module__num_units=10, module__optimizer=<class 'torch.optim.rmsprop.RMSprop'>, module__out_units=30; total time=  10.1s\n",
            "[CV] END batch_size=32, lr=0.0001, max_epochs=20, module__fout_units=50, module__nonlinear=Softmax(dim=1), module__num_units=10, module__optimizer=<class 'torch.optim.adam.Adam'>, module__out_units=20; total time=   9.0s\n",
            "[CV] END batch_size=32, lr=0.0001, max_epochs=20, module__fout_units=50, module__nonlinear=Softmax(dim=1), module__num_units=10, module__optimizer=<class 'torch.optim.adam.Adam'>, module__out_units=20; total time=   8.9s\n",
            "[CV] END batch_size=32, lr=0.0001, max_epochs=20, module__fout_units=50, module__nonlinear=Softmax(dim=1), module__num_units=10, module__optimizer=<class 'torch.optim.adam.Adam'>, module__out_units=20; total time=   8.8s\n",
            "[CV] END batch_size=32, lr=0.0001, max_epochs=20, module__fout_units=50, module__nonlinear=Softmax(dim=1), module__num_units=10, module__optimizer=<class 'torch.optim.adam.Adam'>, module__out_units=30; total time=   8.8s\n",
            "[CV] END batch_size=32, lr=0.0001, max_epochs=20, module__fout_units=50, module__nonlinear=Softmax(dim=1), module__num_units=10, module__optimizer=<class 'torch.optim.adam.Adam'>, module__out_units=30; total time=   8.9s\n",
            "[CV] END batch_size=32, lr=0.0001, max_epochs=20, module__fout_units=50, module__nonlinear=Softmax(dim=1), module__num_units=10, module__optimizer=<class 'torch.optim.adam.Adam'>, module__out_units=30; total time=   9.2s\n",
            "[CV] END batch_size=32, lr=0.0001, max_epochs=20, module__fout_units=50, module__nonlinear=Softmax(dim=1), module__num_units=10, module__optimizer=<class 'torch.optim.rmsprop.RMSprop'>, module__out_units=20; total time=   9.0s\n",
            "[CV] END batch_size=32, lr=0.0001, max_epochs=20, module__fout_units=50, module__nonlinear=Softmax(dim=1), module__num_units=10, module__optimizer=<class 'torch.optim.rmsprop.RMSprop'>, module__out_units=20; total time=  11.0s\n",
            "[CV] END batch_size=32, lr=0.0001, max_epochs=20, module__fout_units=50, module__nonlinear=Softmax(dim=1), module__num_units=10, module__optimizer=<class 'torch.optim.rmsprop.RMSprop'>, module__out_units=20; total time=   9.1s\n",
            "[CV] END batch_size=32, lr=0.0001, max_epochs=20, module__fout_units=50, module__nonlinear=Softmax(dim=1), module__num_units=10, module__optimizer=<class 'torch.optim.rmsprop.RMSprop'>, module__out_units=30; total time=   9.1s\n",
            "[CV] END batch_size=32, lr=0.0001, max_epochs=20, module__fout_units=50, module__nonlinear=Softmax(dim=1), module__num_units=10, module__optimizer=<class 'torch.optim.rmsprop.RMSprop'>, module__out_units=30; total time=   8.9s\n",
            "[CV] END batch_size=32, lr=0.0001, max_epochs=20, module__fout_units=50, module__nonlinear=Softmax(dim=1), module__num_units=10, module__optimizer=<class 'torch.optim.rmsprop.RMSprop'>, module__out_units=30; total time=   8.9s\n",
            "[CV] END batch_size=32, lr=0.001, max_epochs=15, module__fout_units=40, module__nonlinear=ReLU(), module__num_units=10, module__optimizer=<class 'torch.optim.adam.Adam'>, module__out_units=20; total time=   9.2s\n",
            "[CV] END batch_size=32, lr=0.001, max_epochs=15, module__fout_units=40, module__nonlinear=ReLU(), module__num_units=10, module__optimizer=<class 'torch.optim.adam.Adam'>, module__out_units=20; total time=   9.1s\n",
            "[CV] END batch_size=32, lr=0.001, max_epochs=15, module__fout_units=40, module__nonlinear=ReLU(), module__num_units=10, module__optimizer=<class 'torch.optim.adam.Adam'>, module__out_units=20; total time=   9.1s\n",
            "[CV] END batch_size=32, lr=0.001, max_epochs=15, module__fout_units=40, module__nonlinear=ReLU(), module__num_units=10, module__optimizer=<class 'torch.optim.adam.Adam'>, module__out_units=30; total time=   9.0s\n",
            "[CV] END batch_size=32, lr=0.001, max_epochs=15, module__fout_units=40, module__nonlinear=ReLU(), module__num_units=10, module__optimizer=<class 'torch.optim.adam.Adam'>, module__out_units=30; total time=  10.0s\n",
            "[CV] END batch_size=32, lr=0.001, max_epochs=15, module__fout_units=40, module__nonlinear=ReLU(), module__num_units=10, module__optimizer=<class 'torch.optim.adam.Adam'>, module__out_units=30; total time=   9.8s\n",
            "[CV] END batch_size=32, lr=0.001, max_epochs=15, module__fout_units=40, module__nonlinear=ReLU(), module__num_units=10, module__optimizer=<class 'torch.optim.rmsprop.RMSprop'>, module__out_units=20; total time=   8.9s\n",
            "[CV] END batch_size=32, lr=0.001, max_epochs=15, module__fout_units=40, module__nonlinear=ReLU(), module__num_units=10, module__optimizer=<class 'torch.optim.rmsprop.RMSprop'>, module__out_units=20; total time=   9.1s\n",
            "[CV] END batch_size=32, lr=0.001, max_epochs=15, module__fout_units=40, module__nonlinear=ReLU(), module__num_units=10, module__optimizer=<class 'torch.optim.rmsprop.RMSprop'>, module__out_units=20; total time=   8.8s\n",
            "[CV] END batch_size=32, lr=0.001, max_epochs=15, module__fout_units=40, module__nonlinear=ReLU(), module__num_units=10, module__optimizer=<class 'torch.optim.rmsprop.RMSprop'>, module__out_units=30; total time=   8.9s\n",
            "[CV] END batch_size=32, lr=0.001, max_epochs=15, module__fout_units=40, module__nonlinear=ReLU(), module__num_units=10, module__optimizer=<class 'torch.optim.rmsprop.RMSprop'>, module__out_units=30; total time=   9.1s\n",
            "[CV] END batch_size=32, lr=0.001, max_epochs=15, module__fout_units=40, module__nonlinear=ReLU(), module__num_units=10, module__optimizer=<class 'torch.optim.rmsprop.RMSprop'>, module__out_units=30; total time=   9.0s\n",
            "[CV] END batch_size=32, lr=0.001, max_epochs=15, module__fout_units=40, module__nonlinear=Softmax(dim=1), module__num_units=10, module__optimizer=<class 'torch.optim.adam.Adam'>, module__out_units=20; total time=   9.0s\n",
            "[CV] END batch_size=32, lr=0.001, max_epochs=15, module__fout_units=40, module__nonlinear=Softmax(dim=1), module__num_units=10, module__optimizer=<class 'torch.optim.adam.Adam'>, module__out_units=20; total time=   9.1s\n",
            "[CV] END batch_size=32, lr=0.001, max_epochs=15, module__fout_units=40, module__nonlinear=Softmax(dim=1), module__num_units=10, module__optimizer=<class 'torch.optim.adam.Adam'>, module__out_units=20; total time=   9.0s\n",
            "[CV] END batch_size=32, lr=0.001, max_epochs=15, module__fout_units=40, module__nonlinear=Softmax(dim=1), module__num_units=10, module__optimizer=<class 'torch.optim.adam.Adam'>, module__out_units=30; total time=   9.0s\n",
            "[CV] END batch_size=32, lr=0.001, max_epochs=15, module__fout_units=40, module__nonlinear=Softmax(dim=1), module__num_units=10, module__optimizer=<class 'torch.optim.adam.Adam'>, module__out_units=30; total time=   8.9s\n",
            "[CV] END batch_size=32, lr=0.001, max_epochs=15, module__fout_units=40, module__nonlinear=Softmax(dim=1), module__num_units=10, module__optimizer=<class 'torch.optim.adam.Adam'>, module__out_units=30; total time=   8.9s\n",
            "[CV] END batch_size=32, lr=0.001, max_epochs=15, module__fout_units=40, module__nonlinear=Softmax(dim=1), module__num_units=10, module__optimizer=<class 'torch.optim.rmsprop.RMSprop'>, module__out_units=20; total time=   9.0s\n",
            "[CV] END batch_size=32, lr=0.001, max_epochs=15, module__fout_units=40, module__nonlinear=Softmax(dim=1), module__num_units=10, module__optimizer=<class 'torch.optim.rmsprop.RMSprop'>, module__out_units=20; total time=   8.9s\n",
            "[CV] END batch_size=32, lr=0.001, max_epochs=15, module__fout_units=40, module__nonlinear=Softmax(dim=1), module__num_units=10, module__optimizer=<class 'torch.optim.rmsprop.RMSprop'>, module__out_units=20; total time=   9.0s\n",
            "[CV] END batch_size=32, lr=0.001, max_epochs=15, module__fout_units=40, module__nonlinear=Softmax(dim=1), module__num_units=10, module__optimizer=<class 'torch.optim.rmsprop.RMSprop'>, module__out_units=30; total time=   9.0s\n",
            "[CV] END batch_size=32, lr=0.001, max_epochs=15, module__fout_units=40, module__nonlinear=Softmax(dim=1), module__num_units=10, module__optimizer=<class 'torch.optim.rmsprop.RMSprop'>, module__out_units=30; total time=   9.7s\n",
            "[CV] END batch_size=32, lr=0.001, max_epochs=15, module__fout_units=40, module__nonlinear=Softmax(dim=1), module__num_units=10, module__optimizer=<class 'torch.optim.rmsprop.RMSprop'>, module__out_units=30; total time=   9.7s\n",
            "[CV] END batch_size=32, lr=0.001, max_epochs=15, module__fout_units=50, module__nonlinear=ReLU(), module__num_units=10, module__optimizer=<class 'torch.optim.adam.Adam'>, module__out_units=20; total time=   9.0s\n",
            "[CV] END batch_size=32, lr=0.001, max_epochs=15, module__fout_units=50, module__nonlinear=ReLU(), module__num_units=10, module__optimizer=<class 'torch.optim.adam.Adam'>, module__out_units=20; total time=   8.8s\n",
            "[CV] END batch_size=32, lr=0.001, max_epochs=15, module__fout_units=50, module__nonlinear=ReLU(), module__num_units=10, module__optimizer=<class 'torch.optim.adam.Adam'>, module__out_units=20; total time=   8.9s\n",
            "[CV] END batch_size=32, lr=0.001, max_epochs=15, module__fout_units=50, module__nonlinear=ReLU(), module__num_units=10, module__optimizer=<class 'torch.optim.adam.Adam'>, module__out_units=30; total time=   9.1s\n",
            "[CV] END batch_size=32, lr=0.001, max_epochs=15, module__fout_units=50, module__nonlinear=ReLU(), module__num_units=10, module__optimizer=<class 'torch.optim.adam.Adam'>, module__out_units=30; total time=   8.8s\n",
            "[CV] END batch_size=32, lr=0.001, max_epochs=15, module__fout_units=50, module__nonlinear=ReLU(), module__num_units=10, module__optimizer=<class 'torch.optim.adam.Adam'>, module__out_units=30; total time=   8.9s\n",
            "[CV] END batch_size=32, lr=0.001, max_epochs=15, module__fout_units=50, module__nonlinear=ReLU(), module__num_units=10, module__optimizer=<class 'torch.optim.rmsprop.RMSprop'>, module__out_units=20; total time=   8.8s\n",
            "[CV] END batch_size=32, lr=0.001, max_epochs=15, module__fout_units=50, module__nonlinear=ReLU(), module__num_units=10, module__optimizer=<class 'torch.optim.rmsprop.RMSprop'>, module__out_units=20; total time=   9.0s\n",
            "[CV] END batch_size=32, lr=0.001, max_epochs=15, module__fout_units=50, module__nonlinear=ReLU(), module__num_units=10, module__optimizer=<class 'torch.optim.rmsprop.RMSprop'>, module__out_units=20; total time=   8.9s\n",
            "[CV] END batch_size=32, lr=0.001, max_epochs=15, module__fout_units=50, module__nonlinear=ReLU(), module__num_units=10, module__optimizer=<class 'torch.optim.rmsprop.RMSprop'>, module__out_units=30; total time=   8.9s\n",
            "[CV] END batch_size=32, lr=0.001, max_epochs=15, module__fout_units=50, module__nonlinear=ReLU(), module__num_units=10, module__optimizer=<class 'torch.optim.rmsprop.RMSprop'>, module__out_units=30; total time=   9.1s\n",
            "[CV] END batch_size=32, lr=0.001, max_epochs=15, module__fout_units=50, module__nonlinear=ReLU(), module__num_units=10, module__optimizer=<class 'torch.optim.rmsprop.RMSprop'>, module__out_units=30; total time=   8.9s\n",
            "[CV] END batch_size=32, lr=0.001, max_epochs=15, module__fout_units=50, module__nonlinear=Softmax(dim=1), module__num_units=10, module__optimizer=<class 'torch.optim.adam.Adam'>, module__out_units=20; total time=   8.9s\n",
            "[CV] END batch_size=32, lr=0.001, max_epochs=15, module__fout_units=50, module__nonlinear=Softmax(dim=1), module__num_units=10, module__optimizer=<class 'torch.optim.adam.Adam'>, module__out_units=20; total time=   8.8s\n",
            "[CV] END batch_size=32, lr=0.001, max_epochs=15, module__fout_units=50, module__nonlinear=Softmax(dim=1), module__num_units=10, module__optimizer=<class 'torch.optim.adam.Adam'>, module__out_units=20; total time=   8.8s\n",
            "[CV] END batch_size=32, lr=0.001, max_epochs=15, module__fout_units=50, module__nonlinear=Softmax(dim=1), module__num_units=10, module__optimizer=<class 'torch.optim.adam.Adam'>, module__out_units=30; total time=   9.0s\n",
            "[CV] END batch_size=32, lr=0.001, max_epochs=15, module__fout_units=50, module__nonlinear=Softmax(dim=1), module__num_units=10, module__optimizer=<class 'torch.optim.adam.Adam'>, module__out_units=30; total time=   8.9s\n",
            "[CV] END batch_size=32, lr=0.001, max_epochs=15, module__fout_units=50, module__nonlinear=Softmax(dim=1), module__num_units=10, module__optimizer=<class 'torch.optim.adam.Adam'>, module__out_units=30; total time=   9.5s\n",
            "[CV] END batch_size=32, lr=0.001, max_epochs=15, module__fout_units=50, module__nonlinear=Softmax(dim=1), module__num_units=10, module__optimizer=<class 'torch.optim.rmsprop.RMSprop'>, module__out_units=20; total time=   9.6s\n",
            "[CV] END batch_size=32, lr=0.001, max_epochs=15, module__fout_units=50, module__nonlinear=Softmax(dim=1), module__num_units=10, module__optimizer=<class 'torch.optim.rmsprop.RMSprop'>, module__out_units=20; total time=   8.8s\n",
            "[CV] END batch_size=32, lr=0.001, max_epochs=15, module__fout_units=50, module__nonlinear=Softmax(dim=1), module__num_units=10, module__optimizer=<class 'torch.optim.rmsprop.RMSprop'>, module__out_units=20; total time=   9.2s\n",
            "[CV] END batch_size=32, lr=0.001, max_epochs=15, module__fout_units=50, module__nonlinear=Softmax(dim=1), module__num_units=10, module__optimizer=<class 'torch.optim.rmsprop.RMSprop'>, module__out_units=30; total time=   8.9s\n",
            "[CV] END batch_size=32, lr=0.001, max_epochs=15, module__fout_units=50, module__nonlinear=Softmax(dim=1), module__num_units=10, module__optimizer=<class 'torch.optim.rmsprop.RMSprop'>, module__out_units=30; total time=   9.0s\n",
            "[CV] END batch_size=32, lr=0.001, max_epochs=15, module__fout_units=50, module__nonlinear=Softmax(dim=1), module__num_units=10, module__optimizer=<class 'torch.optim.rmsprop.RMSprop'>, module__out_units=30; total time=   9.1s\n",
            "[CV] END batch_size=32, lr=0.001, max_epochs=20, module__fout_units=40, module__nonlinear=ReLU(), module__num_units=10, module__optimizer=<class 'torch.optim.adam.Adam'>, module__out_units=20; total time=   8.9s\n",
            "[CV] END batch_size=32, lr=0.001, max_epochs=20, module__fout_units=40, module__nonlinear=ReLU(), module__num_units=10, module__optimizer=<class 'torch.optim.adam.Adam'>, module__out_units=20; total time=   9.0s\n",
            "[CV] END batch_size=32, lr=0.001, max_epochs=20, module__fout_units=40, module__nonlinear=ReLU(), module__num_units=10, module__optimizer=<class 'torch.optim.adam.Adam'>, module__out_units=20; total time=   8.9s\n",
            "[CV] END batch_size=32, lr=0.001, max_epochs=20, module__fout_units=40, module__nonlinear=ReLU(), module__num_units=10, module__optimizer=<class 'torch.optim.adam.Adam'>, module__out_units=30; total time=   8.9s\n",
            "[CV] END batch_size=32, lr=0.001, max_epochs=20, module__fout_units=40, module__nonlinear=ReLU(), module__num_units=10, module__optimizer=<class 'torch.optim.adam.Adam'>, module__out_units=30; total time=   8.8s\n",
            "[CV] END batch_size=32, lr=0.001, max_epochs=20, module__fout_units=40, module__nonlinear=ReLU(), module__num_units=10, module__optimizer=<class 'torch.optim.adam.Adam'>, module__out_units=30; total time=   9.1s\n",
            "[CV] END batch_size=32, lr=0.001, max_epochs=20, module__fout_units=40, module__nonlinear=ReLU(), module__num_units=10, module__optimizer=<class 'torch.optim.rmsprop.RMSprop'>, module__out_units=20; total time=   9.2s\n",
            "[CV] END batch_size=32, lr=0.001, max_epochs=20, module__fout_units=40, module__nonlinear=ReLU(), module__num_units=10, module__optimizer=<class 'torch.optim.rmsprop.RMSprop'>, module__out_units=20; total time=   9.3s\n",
            "[CV] END batch_size=32, lr=0.001, max_epochs=20, module__fout_units=40, module__nonlinear=ReLU(), module__num_units=10, module__optimizer=<class 'torch.optim.rmsprop.RMSprop'>, module__out_units=20; total time=   9.0s\n",
            "[CV] END batch_size=32, lr=0.001, max_epochs=20, module__fout_units=40, module__nonlinear=ReLU(), module__num_units=10, module__optimizer=<class 'torch.optim.rmsprop.RMSprop'>, module__out_units=30; total time=   9.0s\n",
            "[CV] END batch_size=32, lr=0.001, max_epochs=20, module__fout_units=40, module__nonlinear=ReLU(), module__num_units=10, module__optimizer=<class 'torch.optim.rmsprop.RMSprop'>, module__out_units=30; total time=   9.0s\n",
            "[CV] END batch_size=32, lr=0.001, max_epochs=20, module__fout_units=40, module__nonlinear=ReLU(), module__num_units=10, module__optimizer=<class 'torch.optim.rmsprop.RMSprop'>, module__out_units=30; total time=   8.9s\n",
            "[CV] END batch_size=32, lr=0.001, max_epochs=20, module__fout_units=40, module__nonlinear=Softmax(dim=1), module__num_units=10, module__optimizer=<class 'torch.optim.adam.Adam'>, module__out_units=20; total time=  10.2s\n",
            "[CV] END batch_size=32, lr=0.001, max_epochs=20, module__fout_units=40, module__nonlinear=Softmax(dim=1), module__num_units=10, module__optimizer=<class 'torch.optim.adam.Adam'>, module__out_units=20; total time=   9.2s\n",
            "[CV] END batch_size=32, lr=0.001, max_epochs=20, module__fout_units=40, module__nonlinear=Softmax(dim=1), module__num_units=10, module__optimizer=<class 'torch.optim.adam.Adam'>, module__out_units=20; total time=   8.9s\n",
            "[CV] END batch_size=32, lr=0.001, max_epochs=20, module__fout_units=40, module__nonlinear=Softmax(dim=1), module__num_units=10, module__optimizer=<class 'torch.optim.adam.Adam'>, module__out_units=30; total time=   8.8s\n",
            "[CV] END batch_size=32, lr=0.001, max_epochs=20, module__fout_units=40, module__nonlinear=Softmax(dim=1), module__num_units=10, module__optimizer=<class 'torch.optim.adam.Adam'>, module__out_units=30; total time=   9.2s\n",
            "[CV] END batch_size=32, lr=0.001, max_epochs=20, module__fout_units=40, module__nonlinear=Softmax(dim=1), module__num_units=10, module__optimizer=<class 'torch.optim.adam.Adam'>, module__out_units=30; total time=   8.9s\n",
            "[CV] END batch_size=32, lr=0.001, max_epochs=20, module__fout_units=40, module__nonlinear=Softmax(dim=1), module__num_units=10, module__optimizer=<class 'torch.optim.rmsprop.RMSprop'>, module__out_units=20; total time=   9.0s\n",
            "[CV] END batch_size=32, lr=0.001, max_epochs=20, module__fout_units=40, module__nonlinear=Softmax(dim=1), module__num_units=10, module__optimizer=<class 'torch.optim.rmsprop.RMSprop'>, module__out_units=20; total time=   9.0s\n",
            "[CV] END batch_size=32, lr=0.001, max_epochs=20, module__fout_units=40, module__nonlinear=Softmax(dim=1), module__num_units=10, module__optimizer=<class 'torch.optim.rmsprop.RMSprop'>, module__out_units=20; total time=   9.0s\n",
            "[CV] END batch_size=32, lr=0.001, max_epochs=20, module__fout_units=40, module__nonlinear=Softmax(dim=1), module__num_units=10, module__optimizer=<class 'torch.optim.rmsprop.RMSprop'>, module__out_units=30; total time=   8.9s\n",
            "[CV] END batch_size=32, lr=0.001, max_epochs=20, module__fout_units=40, module__nonlinear=Softmax(dim=1), module__num_units=10, module__optimizer=<class 'torch.optim.rmsprop.RMSprop'>, module__out_units=30; total time=   9.1s\n",
            "[CV] END batch_size=32, lr=0.001, max_epochs=20, module__fout_units=40, module__nonlinear=Softmax(dim=1), module__num_units=10, module__optimizer=<class 'torch.optim.rmsprop.RMSprop'>, module__out_units=30; total time=   9.1s\n",
            "[CV] END batch_size=32, lr=0.001, max_epochs=20, module__fout_units=50, module__nonlinear=ReLU(), module__num_units=10, module__optimizer=<class 'torch.optim.adam.Adam'>, module__out_units=20; total time=   9.0s\n",
            "[CV] END batch_size=32, lr=0.001, max_epochs=20, module__fout_units=50, module__nonlinear=ReLU(), module__num_units=10, module__optimizer=<class 'torch.optim.adam.Adam'>, module__out_units=20; total time=   9.1s\n",
            "[CV] END batch_size=32, lr=0.001, max_epochs=20, module__fout_units=50, module__nonlinear=ReLU(), module__num_units=10, module__optimizer=<class 'torch.optim.adam.Adam'>, module__out_units=20; total time=   9.0s\n",
            "[CV] END batch_size=32, lr=0.001, max_epochs=20, module__fout_units=50, module__nonlinear=ReLU(), module__num_units=10, module__optimizer=<class 'torch.optim.adam.Adam'>, module__out_units=30; total time=   8.9s\n",
            "[CV] END batch_size=32, lr=0.001, max_epochs=20, module__fout_units=50, module__nonlinear=ReLU(), module__num_units=10, module__optimizer=<class 'torch.optim.adam.Adam'>, module__out_units=30; total time=   8.9s\n",
            "[CV] END batch_size=32, lr=0.001, max_epochs=20, module__fout_units=50, module__nonlinear=ReLU(), module__num_units=10, module__optimizer=<class 'torch.optim.adam.Adam'>, module__out_units=30; total time=   9.1s\n",
            "[CV] END batch_size=32, lr=0.001, max_epochs=20, module__fout_units=50, module__nonlinear=ReLU(), module__num_units=10, module__optimizer=<class 'torch.optim.rmsprop.RMSprop'>, module__out_units=20; total time=   9.4s\n",
            "[CV] END batch_size=32, lr=0.001, max_epochs=20, module__fout_units=50, module__nonlinear=ReLU(), module__num_units=10, module__optimizer=<class 'torch.optim.rmsprop.RMSprop'>, module__out_units=20; total time=   9.8s\n",
            "[CV] END batch_size=32, lr=0.001, max_epochs=20, module__fout_units=50, module__nonlinear=ReLU(), module__num_units=10, module__optimizer=<class 'torch.optim.rmsprop.RMSprop'>, module__out_units=20; total time=   8.8s\n",
            "[CV] END batch_size=32, lr=0.001, max_epochs=20, module__fout_units=50, module__nonlinear=ReLU(), module__num_units=10, module__optimizer=<class 'torch.optim.rmsprop.RMSprop'>, module__out_units=30; total time=   9.0s\n",
            "[CV] END batch_size=32, lr=0.001, max_epochs=20, module__fout_units=50, module__nonlinear=ReLU(), module__num_units=10, module__optimizer=<class 'torch.optim.rmsprop.RMSprop'>, module__out_units=30; total time=   9.2s\n",
            "[CV] END batch_size=32, lr=0.001, max_epochs=20, module__fout_units=50, module__nonlinear=ReLU(), module__num_units=10, module__optimizer=<class 'torch.optim.rmsprop.RMSprop'>, module__out_units=30; total time=   8.9s\n",
            "[CV] END batch_size=32, lr=0.001, max_epochs=20, module__fout_units=50, module__nonlinear=Softmax(dim=1), module__num_units=10, module__optimizer=<class 'torch.optim.adam.Adam'>, module__out_units=20; total time=   9.2s\n",
            "[CV] END batch_size=32, lr=0.001, max_epochs=20, module__fout_units=50, module__nonlinear=Softmax(dim=1), module__num_units=10, module__optimizer=<class 'torch.optim.adam.Adam'>, module__out_units=20; total time=   8.9s\n",
            "[CV] END batch_size=32, lr=0.001, max_epochs=20, module__fout_units=50, module__nonlinear=Softmax(dim=1), module__num_units=10, module__optimizer=<class 'torch.optim.adam.Adam'>, module__out_units=20; total time=   8.9s\n",
            "[CV] END batch_size=32, lr=0.001, max_epochs=20, module__fout_units=50, module__nonlinear=Softmax(dim=1), module__num_units=10, module__optimizer=<class 'torch.optim.adam.Adam'>, module__out_units=30; total time=   9.2s\n",
            "[CV] END batch_size=32, lr=0.001, max_epochs=20, module__fout_units=50, module__nonlinear=Softmax(dim=1), module__num_units=10, module__optimizer=<class 'torch.optim.adam.Adam'>, module__out_units=30; total time=   9.1s\n",
            "[CV] END batch_size=32, lr=0.001, max_epochs=20, module__fout_units=50, module__nonlinear=Softmax(dim=1), module__num_units=10, module__optimizer=<class 'torch.optim.adam.Adam'>, module__out_units=30; total time=   8.8s\n",
            "[CV] END batch_size=32, lr=0.001, max_epochs=20, module__fout_units=50, module__nonlinear=Softmax(dim=1), module__num_units=10, module__optimizer=<class 'torch.optim.rmsprop.RMSprop'>, module__out_units=20; total time=   8.7s\n",
            "[CV] END batch_size=32, lr=0.001, max_epochs=20, module__fout_units=50, module__nonlinear=Softmax(dim=1), module__num_units=10, module__optimizer=<class 'torch.optim.rmsprop.RMSprop'>, module__out_units=20; total time=   8.9s\n",
            "[CV] END batch_size=32, lr=0.001, max_epochs=20, module__fout_units=50, module__nonlinear=Softmax(dim=1), module__num_units=10, module__optimizer=<class 'torch.optim.rmsprop.RMSprop'>, module__out_units=20; total time=   8.9s\n",
            "[CV] END batch_size=32, lr=0.001, max_epochs=20, module__fout_units=50, module__nonlinear=Softmax(dim=1), module__num_units=10, module__optimizer=<class 'torch.optim.rmsprop.RMSprop'>, module__out_units=30; total time=   8.7s\n",
            "[CV] END batch_size=32, lr=0.001, max_epochs=20, module__fout_units=50, module__nonlinear=Softmax(dim=1), module__num_units=10, module__optimizer=<class 'torch.optim.rmsprop.RMSprop'>, module__out_units=30; total time=   9.1s\n",
            "[CV] END batch_size=32, lr=0.001, max_epochs=20, module__fout_units=50, module__nonlinear=Softmax(dim=1), module__num_units=10, module__optimizer=<class 'torch.optim.rmsprop.RMSprop'>, module__out_units=30; total time=   9.0s\n",
            "[CV] END batch_size=64, lr=0.0001, max_epochs=15, module__fout_units=40, module__nonlinear=ReLU(), module__num_units=10, module__optimizer=<class 'torch.optim.adam.Adam'>, module__out_units=20; total time=   9.1s\n",
            "[CV] END batch_size=64, lr=0.0001, max_epochs=15, module__fout_units=40, module__nonlinear=ReLU(), module__num_units=10, module__optimizer=<class 'torch.optim.adam.Adam'>, module__out_units=20; total time=   9.8s\n",
            "[CV] END batch_size=64, lr=0.0001, max_epochs=15, module__fout_units=40, module__nonlinear=ReLU(), module__num_units=10, module__optimizer=<class 'torch.optim.adam.Adam'>, module__out_units=20; total time=   9.5s\n",
            "[CV] END batch_size=64, lr=0.0001, max_epochs=15, module__fout_units=40, module__nonlinear=ReLU(), module__num_units=10, module__optimizer=<class 'torch.optim.adam.Adam'>, module__out_units=30; total time=   8.8s\n",
            "[CV] END batch_size=64, lr=0.0001, max_epochs=15, module__fout_units=40, module__nonlinear=ReLU(), module__num_units=10, module__optimizer=<class 'torch.optim.adam.Adam'>, module__out_units=30; total time=   8.9s\n",
            "[CV] END batch_size=64, lr=0.0001, max_epochs=15, module__fout_units=40, module__nonlinear=ReLU(), module__num_units=10, module__optimizer=<class 'torch.optim.adam.Adam'>, module__out_units=30; total time=   9.2s\n",
            "[CV] END batch_size=64, lr=0.0001, max_epochs=15, module__fout_units=40, module__nonlinear=ReLU(), module__num_units=10, module__optimizer=<class 'torch.optim.rmsprop.RMSprop'>, module__out_units=20; total time=   8.9s\n",
            "[CV] END batch_size=64, lr=0.0001, max_epochs=15, module__fout_units=40, module__nonlinear=ReLU(), module__num_units=10, module__optimizer=<class 'torch.optim.rmsprop.RMSprop'>, module__out_units=20; total time=   8.7s\n",
            "[CV] END batch_size=64, lr=0.0001, max_epochs=15, module__fout_units=40, module__nonlinear=ReLU(), module__num_units=10, module__optimizer=<class 'torch.optim.rmsprop.RMSprop'>, module__out_units=20; total time=   8.8s\n",
            "[CV] END batch_size=64, lr=0.0001, max_epochs=15, module__fout_units=40, module__nonlinear=ReLU(), module__num_units=10, module__optimizer=<class 'torch.optim.rmsprop.RMSprop'>, module__out_units=30; total time=   8.7s\n",
            "[CV] END batch_size=64, lr=0.0001, max_epochs=15, module__fout_units=40, module__nonlinear=ReLU(), module__num_units=10, module__optimizer=<class 'torch.optim.rmsprop.RMSprop'>, module__out_units=30; total time=   9.0s\n",
            "[CV] END batch_size=64, lr=0.0001, max_epochs=15, module__fout_units=40, module__nonlinear=ReLU(), module__num_units=10, module__optimizer=<class 'torch.optim.rmsprop.RMSprop'>, module__out_units=30; total time=   8.9s\n",
            "[CV] END batch_size=64, lr=0.0001, max_epochs=15, module__fout_units=40, module__nonlinear=Softmax(dim=1), module__num_units=10, module__optimizer=<class 'torch.optim.adam.Adam'>, module__out_units=20; total time=   9.0s\n",
            "[CV] END batch_size=64, lr=0.0001, max_epochs=15, module__fout_units=40, module__nonlinear=Softmax(dim=1), module__num_units=10, module__optimizer=<class 'torch.optim.adam.Adam'>, module__out_units=20; total time=   9.0s\n",
            "[CV] END batch_size=64, lr=0.0001, max_epochs=15, module__fout_units=40, module__nonlinear=Softmax(dim=1), module__num_units=10, module__optimizer=<class 'torch.optim.adam.Adam'>, module__out_units=20; total time=   9.0s\n",
            "[CV] END batch_size=64, lr=0.0001, max_epochs=15, module__fout_units=40, module__nonlinear=Softmax(dim=1), module__num_units=10, module__optimizer=<class 'torch.optim.adam.Adam'>, module__out_units=30; total time=   8.9s\n",
            "[CV] END batch_size=64, lr=0.0001, max_epochs=15, module__fout_units=40, module__nonlinear=Softmax(dim=1), module__num_units=10, module__optimizer=<class 'torch.optim.adam.Adam'>, module__out_units=30; total time=   9.0s\n",
            "[CV] END batch_size=64, lr=0.0001, max_epochs=15, module__fout_units=40, module__nonlinear=Softmax(dim=1), module__num_units=10, module__optimizer=<class 'torch.optim.adam.Adam'>, module__out_units=30; total time=   9.0s\n",
            "[CV] END batch_size=64, lr=0.0001, max_epochs=15, module__fout_units=40, module__nonlinear=Softmax(dim=1), module__num_units=10, module__optimizer=<class 'torch.optim.rmsprop.RMSprop'>, module__out_units=20; total time=   9.2s\n",
            "[CV] END batch_size=64, lr=0.0001, max_epochs=15, module__fout_units=40, module__nonlinear=Softmax(dim=1), module__num_units=10, module__optimizer=<class 'torch.optim.rmsprop.RMSprop'>, module__out_units=20; total time=   8.9s\n",
            "[CV] END batch_size=64, lr=0.0001, max_epochs=15, module__fout_units=40, module__nonlinear=Softmax(dim=1), module__num_units=10, module__optimizer=<class 'torch.optim.rmsprop.RMSprop'>, module__out_units=20; total time=   8.8s\n",
            "[CV] END batch_size=64, lr=0.0001, max_epochs=15, module__fout_units=40, module__nonlinear=Softmax(dim=1), module__num_units=10, module__optimizer=<class 'torch.optim.rmsprop.RMSprop'>, module__out_units=30; total time=  10.4s\n",
            "[CV] END batch_size=64, lr=0.0001, max_epochs=15, module__fout_units=40, module__nonlinear=Softmax(dim=1), module__num_units=10, module__optimizer=<class 'torch.optim.rmsprop.RMSprop'>, module__out_units=30; total time=   9.0s\n",
            "[CV] END batch_size=64, lr=0.0001, max_epochs=15, module__fout_units=40, module__nonlinear=Softmax(dim=1), module__num_units=10, module__optimizer=<class 'torch.optim.rmsprop.RMSprop'>, module__out_units=30; total time=   9.0s\n",
            "[CV] END batch_size=64, lr=0.0001, max_epochs=15, module__fout_units=50, module__nonlinear=ReLU(), module__num_units=10, module__optimizer=<class 'torch.optim.adam.Adam'>, module__out_units=20; total time=   8.9s\n",
            "[CV] END batch_size=64, lr=0.0001, max_epochs=15, module__fout_units=50, module__nonlinear=ReLU(), module__num_units=10, module__optimizer=<class 'torch.optim.adam.Adam'>, module__out_units=20; total time=   9.2s\n",
            "[CV] END batch_size=64, lr=0.0001, max_epochs=15, module__fout_units=50, module__nonlinear=ReLU(), module__num_units=10, module__optimizer=<class 'torch.optim.adam.Adam'>, module__out_units=20; total time=   9.1s\n",
            "[CV] END batch_size=64, lr=0.0001, max_epochs=15, module__fout_units=50, module__nonlinear=ReLU(), module__num_units=10, module__optimizer=<class 'torch.optim.adam.Adam'>, module__out_units=30; total time=   8.9s\n",
            "[CV] END batch_size=64, lr=0.0001, max_epochs=15, module__fout_units=50, module__nonlinear=ReLU(), module__num_units=10, module__optimizer=<class 'torch.optim.adam.Adam'>, module__out_units=30; total time=   9.0s\n",
            "[CV] END batch_size=64, lr=0.0001, max_epochs=15, module__fout_units=50, module__nonlinear=ReLU(), module__num_units=10, module__optimizer=<class 'torch.optim.adam.Adam'>, module__out_units=30; total time=   8.8s\n",
            "[CV] END batch_size=64, lr=0.0001, max_epochs=15, module__fout_units=50, module__nonlinear=ReLU(), module__num_units=10, module__optimizer=<class 'torch.optim.rmsprop.RMSprop'>, module__out_units=20; total time=   9.1s\n",
            "[CV] END batch_size=64, lr=0.0001, max_epochs=15, module__fout_units=50, module__nonlinear=ReLU(), module__num_units=10, module__optimizer=<class 'torch.optim.rmsprop.RMSprop'>, module__out_units=20; total time=   8.8s\n",
            "[CV] END batch_size=64, lr=0.0001, max_epochs=15, module__fout_units=50, module__nonlinear=ReLU(), module__num_units=10, module__optimizer=<class 'torch.optim.rmsprop.RMSprop'>, module__out_units=20; total time=   9.0s\n",
            "[CV] END batch_size=64, lr=0.0001, max_epochs=15, module__fout_units=50, module__nonlinear=ReLU(), module__num_units=10, module__optimizer=<class 'torch.optim.rmsprop.RMSprop'>, module__out_units=30; total time=   8.9s\n",
            "[CV] END batch_size=64, lr=0.0001, max_epochs=15, module__fout_units=50, module__nonlinear=ReLU(), module__num_units=10, module__optimizer=<class 'torch.optim.rmsprop.RMSprop'>, module__out_units=30; total time=   8.9s\n",
            "[CV] END batch_size=64, lr=0.0001, max_epochs=15, module__fout_units=50, module__nonlinear=ReLU(), module__num_units=10, module__optimizer=<class 'torch.optim.rmsprop.RMSprop'>, module__out_units=30; total time=   8.9s\n",
            "[CV] END batch_size=64, lr=0.0001, max_epochs=15, module__fout_units=50, module__nonlinear=Softmax(dim=1), module__num_units=10, module__optimizer=<class 'torch.optim.adam.Adam'>, module__out_units=20; total time=   9.0s\n",
            "[CV] END batch_size=64, lr=0.0001, max_epochs=15, module__fout_units=50, module__nonlinear=Softmax(dim=1), module__num_units=10, module__optimizer=<class 'torch.optim.adam.Adam'>, module__out_units=20; total time=   8.8s\n",
            "[CV] END batch_size=64, lr=0.0001, max_epochs=15, module__fout_units=50, module__nonlinear=Softmax(dim=1), module__num_units=10, module__optimizer=<class 'torch.optim.adam.Adam'>, module__out_units=20; total time=   9.0s\n",
            "[CV] END batch_size=64, lr=0.0001, max_epochs=15, module__fout_units=50, module__nonlinear=Softmax(dim=1), module__num_units=10, module__optimizer=<class 'torch.optim.adam.Adam'>, module__out_units=30; total time=   9.0s\n",
            "[CV] END batch_size=64, lr=0.0001, max_epochs=15, module__fout_units=50, module__nonlinear=Softmax(dim=1), module__num_units=10, module__optimizer=<class 'torch.optim.adam.Adam'>, module__out_units=30; total time=   9.0s\n",
            "[CV] END batch_size=64, lr=0.0001, max_epochs=15, module__fout_units=50, module__nonlinear=Softmax(dim=1), module__num_units=10, module__optimizer=<class 'torch.optim.adam.Adam'>, module__out_units=30; total time=   9.0s\n",
            "[CV] END batch_size=64, lr=0.0001, max_epochs=15, module__fout_units=50, module__nonlinear=Softmax(dim=1), module__num_units=10, module__optimizer=<class 'torch.optim.rmsprop.RMSprop'>, module__out_units=20; total time=   9.0s\n",
            "[CV] END batch_size=64, lr=0.0001, max_epochs=15, module__fout_units=50, module__nonlinear=Softmax(dim=1), module__num_units=10, module__optimizer=<class 'torch.optim.rmsprop.RMSprop'>, module__out_units=20; total time=   9.0s\n",
            "[CV] END batch_size=64, lr=0.0001, max_epochs=15, module__fout_units=50, module__nonlinear=Softmax(dim=1), module__num_units=10, module__optimizer=<class 'torch.optim.rmsprop.RMSprop'>, module__out_units=20; total time=   9.0s\n",
            "[CV] END batch_size=64, lr=0.0001, max_epochs=15, module__fout_units=50, module__nonlinear=Softmax(dim=1), module__num_units=10, module__optimizer=<class 'torch.optim.rmsprop.RMSprop'>, module__out_units=30; total time=  10.5s\n",
            "[CV] END batch_size=64, lr=0.0001, max_epochs=15, module__fout_units=50, module__nonlinear=Softmax(dim=1), module__num_units=10, module__optimizer=<class 'torch.optim.rmsprop.RMSprop'>, module__out_units=30; total time=   8.9s\n",
            "[CV] END batch_size=64, lr=0.0001, max_epochs=15, module__fout_units=50, module__nonlinear=Softmax(dim=1), module__num_units=10, module__optimizer=<class 'torch.optim.rmsprop.RMSprop'>, module__out_units=30; total time=   9.1s\n",
            "[CV] END batch_size=64, lr=0.0001, max_epochs=20, module__fout_units=40, module__nonlinear=ReLU(), module__num_units=10, module__optimizer=<class 'torch.optim.adam.Adam'>, module__out_units=20; total time=   9.3s\n",
            "[CV] END batch_size=64, lr=0.0001, max_epochs=20, module__fout_units=40, module__nonlinear=ReLU(), module__num_units=10, module__optimizer=<class 'torch.optim.adam.Adam'>, module__out_units=20; total time=   9.3s\n",
            "[CV] END batch_size=64, lr=0.0001, max_epochs=20, module__fout_units=40, module__nonlinear=ReLU(), module__num_units=10, module__optimizer=<class 'torch.optim.adam.Adam'>, module__out_units=20; total time=   9.3s\n",
            "[CV] END batch_size=64, lr=0.0001, max_epochs=20, module__fout_units=40, module__nonlinear=ReLU(), module__num_units=10, module__optimizer=<class 'torch.optim.adam.Adam'>, module__out_units=30; total time=   9.0s\n",
            "[CV] END batch_size=64, lr=0.0001, max_epochs=20, module__fout_units=40, module__nonlinear=ReLU(), module__num_units=10, module__optimizer=<class 'torch.optim.adam.Adam'>, module__out_units=30; total time=   8.9s\n",
            "[CV] END batch_size=64, lr=0.0001, max_epochs=20, module__fout_units=40, module__nonlinear=ReLU(), module__num_units=10, module__optimizer=<class 'torch.optim.adam.Adam'>, module__out_units=30; total time=   9.0s\n",
            "[CV] END batch_size=64, lr=0.0001, max_epochs=20, module__fout_units=40, module__nonlinear=ReLU(), module__num_units=10, module__optimizer=<class 'torch.optim.rmsprop.RMSprop'>, module__out_units=20; total time=   9.0s\n",
            "[CV] END batch_size=64, lr=0.0001, max_epochs=20, module__fout_units=40, module__nonlinear=ReLU(), module__num_units=10, module__optimizer=<class 'torch.optim.rmsprop.RMSprop'>, module__out_units=20; total time=   9.1s\n",
            "[CV] END batch_size=64, lr=0.0001, max_epochs=20, module__fout_units=40, module__nonlinear=ReLU(), module__num_units=10, module__optimizer=<class 'torch.optim.rmsprop.RMSprop'>, module__out_units=20; total time=   9.2s\n",
            "[CV] END batch_size=64, lr=0.0001, max_epochs=20, module__fout_units=40, module__nonlinear=ReLU(), module__num_units=10, module__optimizer=<class 'torch.optim.rmsprop.RMSprop'>, module__out_units=30; total time=   9.1s\n",
            "[CV] END batch_size=64, lr=0.0001, max_epochs=20, module__fout_units=40, module__nonlinear=ReLU(), module__num_units=10, module__optimizer=<class 'torch.optim.rmsprop.RMSprop'>, module__out_units=30; total time=   9.2s\n",
            "[CV] END batch_size=64, lr=0.0001, max_epochs=20, module__fout_units=40, module__nonlinear=ReLU(), module__num_units=10, module__optimizer=<class 'torch.optim.rmsprop.RMSprop'>, module__out_units=30; total time=   9.3s\n",
            "[CV] END batch_size=64, lr=0.0001, max_epochs=20, module__fout_units=40, module__nonlinear=Softmax(dim=1), module__num_units=10, module__optimizer=<class 'torch.optim.adam.Adam'>, module__out_units=20; total time=   9.0s\n",
            "[CV] END batch_size=64, lr=0.0001, max_epochs=20, module__fout_units=40, module__nonlinear=Softmax(dim=1), module__num_units=10, module__optimizer=<class 'torch.optim.adam.Adam'>, module__out_units=20; total time=   9.0s\n",
            "[CV] END batch_size=64, lr=0.0001, max_epochs=20, module__fout_units=40, module__nonlinear=Softmax(dim=1), module__num_units=10, module__optimizer=<class 'torch.optim.adam.Adam'>, module__out_units=20; total time=   9.1s\n",
            "[CV] END batch_size=64, lr=0.0001, max_epochs=20, module__fout_units=40, module__nonlinear=Softmax(dim=1), module__num_units=10, module__optimizer=<class 'torch.optim.adam.Adam'>, module__out_units=30; total time=   9.1s\n",
            "[CV] END batch_size=64, lr=0.0001, max_epochs=20, module__fout_units=40, module__nonlinear=Softmax(dim=1), module__num_units=10, module__optimizer=<class 'torch.optim.adam.Adam'>, module__out_units=30; total time=   9.1s\n",
            "[CV] END batch_size=64, lr=0.0001, max_epochs=20, module__fout_units=40, module__nonlinear=Softmax(dim=1), module__num_units=10, module__optimizer=<class 'torch.optim.adam.Adam'>, module__out_units=30; total time=   9.1s\n",
            "[CV] END batch_size=64, lr=0.0001, max_epochs=20, module__fout_units=40, module__nonlinear=Softmax(dim=1), module__num_units=10, module__optimizer=<class 'torch.optim.rmsprop.RMSprop'>, module__out_units=20; total time=   8.9s\n",
            "[CV] END batch_size=64, lr=0.0001, max_epochs=20, module__fout_units=40, module__nonlinear=Softmax(dim=1), module__num_units=10, module__optimizer=<class 'torch.optim.rmsprop.RMSprop'>, module__out_units=20; total time=   9.1s\n",
            "[CV] END batch_size=64, lr=0.0001, max_epochs=20, module__fout_units=40, module__nonlinear=Softmax(dim=1), module__num_units=10, module__optimizer=<class 'torch.optim.rmsprop.RMSprop'>, module__out_units=20; total time=   9.1s\n",
            "[CV] END batch_size=64, lr=0.0001, max_epochs=20, module__fout_units=40, module__nonlinear=Softmax(dim=1), module__num_units=10, module__optimizer=<class 'torch.optim.rmsprop.RMSprop'>, module__out_units=30; total time=   8.9s\n",
            "[CV] END batch_size=64, lr=0.0001, max_epochs=20, module__fout_units=40, module__nonlinear=Softmax(dim=1), module__num_units=10, module__optimizer=<class 'torch.optim.rmsprop.RMSprop'>, module__out_units=30; total time=  10.6s\n",
            "[CV] END batch_size=64, lr=0.0001, max_epochs=20, module__fout_units=40, module__nonlinear=Softmax(dim=1), module__num_units=10, module__optimizer=<class 'torch.optim.rmsprop.RMSprop'>, module__out_units=30; total time=   9.1s\n",
            "[CV] END batch_size=64, lr=0.0001, max_epochs=20, module__fout_units=50, module__nonlinear=ReLU(), module__num_units=10, module__optimizer=<class 'torch.optim.adam.Adam'>, module__out_units=20; total time=   9.1s\n",
            "[CV] END batch_size=64, lr=0.0001, max_epochs=20, module__fout_units=50, module__nonlinear=ReLU(), module__num_units=10, module__optimizer=<class 'torch.optim.adam.Adam'>, module__out_units=20; total time=   8.9s\n",
            "[CV] END batch_size=64, lr=0.0001, max_epochs=20, module__fout_units=50, module__nonlinear=ReLU(), module__num_units=10, module__optimizer=<class 'torch.optim.adam.Adam'>, module__out_units=20; total time=   9.0s\n",
            "[CV] END batch_size=64, lr=0.0001, max_epochs=20, module__fout_units=50, module__nonlinear=ReLU(), module__num_units=10, module__optimizer=<class 'torch.optim.adam.Adam'>, module__out_units=30; total time=   9.2s\n",
            "[CV] END batch_size=64, lr=0.0001, max_epochs=20, module__fout_units=50, module__nonlinear=ReLU(), module__num_units=10, module__optimizer=<class 'torch.optim.adam.Adam'>, module__out_units=30; total time=   9.1s\n",
            "[CV] END batch_size=64, lr=0.0001, max_epochs=20, module__fout_units=50, module__nonlinear=ReLU(), module__num_units=10, module__optimizer=<class 'torch.optim.adam.Adam'>, module__out_units=30; total time=   9.0s\n",
            "[CV] END batch_size=64, lr=0.0001, max_epochs=20, module__fout_units=50, module__nonlinear=ReLU(), module__num_units=10, module__optimizer=<class 'torch.optim.rmsprop.RMSprop'>, module__out_units=20; total time=   9.0s\n",
            "[CV] END batch_size=64, lr=0.0001, max_epochs=20, module__fout_units=50, module__nonlinear=ReLU(), module__num_units=10, module__optimizer=<class 'torch.optim.rmsprop.RMSprop'>, module__out_units=20; total time=   9.0s\n",
            "[CV] END batch_size=64, lr=0.0001, max_epochs=20, module__fout_units=50, module__nonlinear=ReLU(), module__num_units=10, module__optimizer=<class 'torch.optim.rmsprop.RMSprop'>, module__out_units=20; total time=   8.9s\n",
            "[CV] END batch_size=64, lr=0.0001, max_epochs=20, module__fout_units=50, module__nonlinear=ReLU(), module__num_units=10, module__optimizer=<class 'torch.optim.rmsprop.RMSprop'>, module__out_units=30; total time=   9.1s\n",
            "[CV] END batch_size=64, lr=0.0001, max_epochs=20, module__fout_units=50, module__nonlinear=ReLU(), module__num_units=10, module__optimizer=<class 'torch.optim.rmsprop.RMSprop'>, module__out_units=30; total time=   9.1s\n",
            "[CV] END batch_size=64, lr=0.0001, max_epochs=20, module__fout_units=50, module__nonlinear=ReLU(), module__num_units=10, module__optimizer=<class 'torch.optim.rmsprop.RMSprop'>, module__out_units=30; total time=   9.1s\n",
            "[CV] END batch_size=64, lr=0.0001, max_epochs=20, module__fout_units=50, module__nonlinear=Softmax(dim=1), module__num_units=10, module__optimizer=<class 'torch.optim.adam.Adam'>, module__out_units=20; total time=   9.0s\n",
            "[CV] END batch_size=64, lr=0.0001, max_epochs=20, module__fout_units=50, module__nonlinear=Softmax(dim=1), module__num_units=10, module__optimizer=<class 'torch.optim.adam.Adam'>, module__out_units=20; total time=   9.1s\n",
            "[CV] END batch_size=64, lr=0.0001, max_epochs=20, module__fout_units=50, module__nonlinear=Softmax(dim=1), module__num_units=10, module__optimizer=<class 'torch.optim.adam.Adam'>, module__out_units=20; total time=   8.9s\n",
            "[CV] END batch_size=64, lr=0.0001, max_epochs=20, module__fout_units=50, module__nonlinear=Softmax(dim=1), module__num_units=10, module__optimizer=<class 'torch.optim.adam.Adam'>, module__out_units=30; total time=   8.9s\n",
            "[CV] END batch_size=64, lr=0.0001, max_epochs=20, module__fout_units=50, module__nonlinear=Softmax(dim=1), module__num_units=10, module__optimizer=<class 'torch.optim.adam.Adam'>, module__out_units=30; total time=   9.0s\n",
            "[CV] END batch_size=64, lr=0.0001, max_epochs=20, module__fout_units=50, module__nonlinear=Softmax(dim=1), module__num_units=10, module__optimizer=<class 'torch.optim.adam.Adam'>, module__out_units=30; total time=   9.0s\n",
            "[CV] END batch_size=64, lr=0.0001, max_epochs=20, module__fout_units=50, module__nonlinear=Softmax(dim=1), module__num_units=10, module__optimizer=<class 'torch.optim.rmsprop.RMSprop'>, module__out_units=20; total time=   8.9s\n",
            "[CV] END batch_size=64, lr=0.0001, max_epochs=20, module__fout_units=50, module__nonlinear=Softmax(dim=1), module__num_units=10, module__optimizer=<class 'torch.optim.rmsprop.RMSprop'>, module__out_units=20; total time=   9.2s\n",
            "[CV] END batch_size=64, lr=0.0001, max_epochs=20, module__fout_units=50, module__nonlinear=Softmax(dim=1), module__num_units=10, module__optimizer=<class 'torch.optim.rmsprop.RMSprop'>, module__out_units=20; total time=   9.1s\n",
            "[CV] END batch_size=64, lr=0.0001, max_epochs=20, module__fout_units=50, module__nonlinear=Softmax(dim=1), module__num_units=10, module__optimizer=<class 'torch.optim.rmsprop.RMSprop'>, module__out_units=30; total time=   8.8s\n",
            "[CV] END batch_size=64, lr=0.0001, max_epochs=20, module__fout_units=50, module__nonlinear=Softmax(dim=1), module__num_units=10, module__optimizer=<class 'torch.optim.rmsprop.RMSprop'>, module__out_units=30; total time=   8.9s\n",
            "[CV] END batch_size=64, lr=0.0001, max_epochs=20, module__fout_units=50, module__nonlinear=Softmax(dim=1), module__num_units=10, module__optimizer=<class 'torch.optim.rmsprop.RMSprop'>, module__out_units=30; total time=   9.6s\n",
            "[CV] END batch_size=64, lr=0.001, max_epochs=15, module__fout_units=40, module__nonlinear=ReLU(), module__num_units=10, module__optimizer=<class 'torch.optim.adam.Adam'>, module__out_units=20; total time=   9.6s\n",
            "[CV] END batch_size=64, lr=0.001, max_epochs=15, module__fout_units=40, module__nonlinear=ReLU(), module__num_units=10, module__optimizer=<class 'torch.optim.adam.Adam'>, module__out_units=20; total time=   9.0s\n",
            "[CV] END batch_size=64, lr=0.001, max_epochs=15, module__fout_units=40, module__nonlinear=ReLU(), module__num_units=10, module__optimizer=<class 'torch.optim.adam.Adam'>, module__out_units=20; total time=   9.0s\n",
            "[CV] END batch_size=64, lr=0.001, max_epochs=15, module__fout_units=40, module__nonlinear=ReLU(), module__num_units=10, module__optimizer=<class 'torch.optim.adam.Adam'>, module__out_units=30; total time=   8.8s\n",
            "[CV] END batch_size=64, lr=0.001, max_epochs=15, module__fout_units=40, module__nonlinear=ReLU(), module__num_units=10, module__optimizer=<class 'torch.optim.adam.Adam'>, module__out_units=30; total time=   8.9s\n",
            "[CV] END batch_size=64, lr=0.001, max_epochs=15, module__fout_units=40, module__nonlinear=ReLU(), module__num_units=10, module__optimizer=<class 'torch.optim.adam.Adam'>, module__out_units=30; total time=   9.0s\n",
            "[CV] END batch_size=64, lr=0.001, max_epochs=15, module__fout_units=40, module__nonlinear=ReLU(), module__num_units=10, module__optimizer=<class 'torch.optim.rmsprop.RMSprop'>, module__out_units=20; total time=   8.9s\n",
            "[CV] END batch_size=64, lr=0.001, max_epochs=15, module__fout_units=40, module__nonlinear=ReLU(), module__num_units=10, module__optimizer=<class 'torch.optim.rmsprop.RMSprop'>, module__out_units=20; total time=   8.9s\n",
            "[CV] END batch_size=64, lr=0.001, max_epochs=15, module__fout_units=40, module__nonlinear=ReLU(), module__num_units=10, module__optimizer=<class 'torch.optim.rmsprop.RMSprop'>, module__out_units=20; total time=   9.0s\n",
            "[CV] END batch_size=64, lr=0.001, max_epochs=15, module__fout_units=40, module__nonlinear=ReLU(), module__num_units=10, module__optimizer=<class 'torch.optim.rmsprop.RMSprop'>, module__out_units=30; total time=   8.8s\n",
            "[CV] END batch_size=64, lr=0.001, max_epochs=15, module__fout_units=40, module__nonlinear=ReLU(), module__num_units=10, module__optimizer=<class 'torch.optim.rmsprop.RMSprop'>, module__out_units=30; total time=   8.8s\n",
            "[CV] END batch_size=64, lr=0.001, max_epochs=15, module__fout_units=40, module__nonlinear=ReLU(), module__num_units=10, module__optimizer=<class 'torch.optim.rmsprop.RMSprop'>, module__out_units=30; total time=   8.9s\n",
            "[CV] END batch_size=64, lr=0.001, max_epochs=15, module__fout_units=40, module__nonlinear=Softmax(dim=1), module__num_units=10, module__optimizer=<class 'torch.optim.adam.Adam'>, module__out_units=20; total time=   8.9s\n",
            "[CV] END batch_size=64, lr=0.001, max_epochs=15, module__fout_units=40, module__nonlinear=Softmax(dim=1), module__num_units=10, module__optimizer=<class 'torch.optim.adam.Adam'>, module__out_units=20; total time=   8.9s\n",
            "[CV] END batch_size=64, lr=0.001, max_epochs=15, module__fout_units=40, module__nonlinear=Softmax(dim=1), module__num_units=10, module__optimizer=<class 'torch.optim.adam.Adam'>, module__out_units=20; total time=   8.8s\n",
            "[CV] END batch_size=64, lr=0.001, max_epochs=15, module__fout_units=40, module__nonlinear=Softmax(dim=1), module__num_units=10, module__optimizer=<class 'torch.optim.adam.Adam'>, module__out_units=30; total time=   8.7s\n",
            "[CV] END batch_size=64, lr=0.001, max_epochs=15, module__fout_units=40, module__nonlinear=Softmax(dim=1), module__num_units=10, module__optimizer=<class 'torch.optim.adam.Adam'>, module__out_units=30; total time=   8.7s\n",
            "[CV] END batch_size=64, lr=0.001, max_epochs=15, module__fout_units=40, module__nonlinear=Softmax(dim=1), module__num_units=10, module__optimizer=<class 'torch.optim.adam.Adam'>, module__out_units=30; total time=   8.6s\n",
            "[CV] END batch_size=64, lr=0.001, max_epochs=15, module__fout_units=40, module__nonlinear=Softmax(dim=1), module__num_units=10, module__optimizer=<class 'torch.optim.rmsprop.RMSprop'>, module__out_units=20; total time=   8.8s\n",
            "[CV] END batch_size=64, lr=0.001, max_epochs=15, module__fout_units=40, module__nonlinear=Softmax(dim=1), module__num_units=10, module__optimizer=<class 'torch.optim.rmsprop.RMSprop'>, module__out_units=20; total time=   8.8s\n",
            "[CV] END batch_size=64, lr=0.001, max_epochs=15, module__fout_units=40, module__nonlinear=Softmax(dim=1), module__num_units=10, module__optimizer=<class 'torch.optim.rmsprop.RMSprop'>, module__out_units=20; total time=   8.8s\n",
            "[CV] END batch_size=64, lr=0.001, max_epochs=15, module__fout_units=40, module__nonlinear=Softmax(dim=1), module__num_units=10, module__optimizer=<class 'torch.optim.rmsprop.RMSprop'>, module__out_units=30; total time=   8.7s\n",
            "[CV] END batch_size=64, lr=0.001, max_epochs=15, module__fout_units=40, module__nonlinear=Softmax(dim=1), module__num_units=10, module__optimizer=<class 'torch.optim.rmsprop.RMSprop'>, module__out_units=30; total time=   8.9s\n",
            "[CV] END batch_size=64, lr=0.001, max_epochs=15, module__fout_units=40, module__nonlinear=Softmax(dim=1), module__num_units=10, module__optimizer=<class 'torch.optim.rmsprop.RMSprop'>, module__out_units=30; total time=   8.8s\n",
            "[CV] END batch_size=64, lr=0.001, max_epochs=15, module__fout_units=50, module__nonlinear=ReLU(), module__num_units=10, module__optimizer=<class 'torch.optim.adam.Adam'>, module__out_units=20; total time=   8.6s\n",
            "[CV] END batch_size=64, lr=0.001, max_epochs=15, module__fout_units=50, module__nonlinear=ReLU(), module__num_units=10, module__optimizer=<class 'torch.optim.adam.Adam'>, module__out_units=20; total time=  10.7s\n",
            "[CV] END batch_size=64, lr=0.001, max_epochs=15, module__fout_units=50, module__nonlinear=ReLU(), module__num_units=10, module__optimizer=<class 'torch.optim.adam.Adam'>, module__out_units=20; total time=   8.9s\n",
            "[CV] END batch_size=64, lr=0.001, max_epochs=15, module__fout_units=50, module__nonlinear=ReLU(), module__num_units=10, module__optimizer=<class 'torch.optim.adam.Adam'>, module__out_units=30; total time=   8.8s\n",
            "[CV] END batch_size=64, lr=0.001, max_epochs=15, module__fout_units=50, module__nonlinear=ReLU(), module__num_units=10, module__optimizer=<class 'torch.optim.adam.Adam'>, module__out_units=30; total time=   8.8s\n",
            "[CV] END batch_size=64, lr=0.001, max_epochs=15, module__fout_units=50, module__nonlinear=ReLU(), module__num_units=10, module__optimizer=<class 'torch.optim.adam.Adam'>, module__out_units=30; total time=   9.0s\n",
            "[CV] END batch_size=64, lr=0.001, max_epochs=15, module__fout_units=50, module__nonlinear=ReLU(), module__num_units=10, module__optimizer=<class 'torch.optim.rmsprop.RMSprop'>, module__out_units=20; total time=   8.6s\n",
            "[CV] END batch_size=64, lr=0.001, max_epochs=15, module__fout_units=50, module__nonlinear=ReLU(), module__num_units=10, module__optimizer=<class 'torch.optim.rmsprop.RMSprop'>, module__out_units=20; total time=   8.8s\n",
            "[CV] END batch_size=64, lr=0.001, max_epochs=15, module__fout_units=50, module__nonlinear=ReLU(), module__num_units=10, module__optimizer=<class 'torch.optim.rmsprop.RMSprop'>, module__out_units=20; total time=   8.9s\n",
            "[CV] END batch_size=64, lr=0.001, max_epochs=15, module__fout_units=50, module__nonlinear=ReLU(), module__num_units=10, module__optimizer=<class 'torch.optim.rmsprop.RMSprop'>, module__out_units=30; total time=   8.9s\n",
            "[CV] END batch_size=64, lr=0.001, max_epochs=15, module__fout_units=50, module__nonlinear=ReLU(), module__num_units=10, module__optimizer=<class 'torch.optim.rmsprop.RMSprop'>, module__out_units=30; total time=   9.0s\n",
            "[CV] END batch_size=64, lr=0.001, max_epochs=15, module__fout_units=50, module__nonlinear=ReLU(), module__num_units=10, module__optimizer=<class 'torch.optim.rmsprop.RMSprop'>, module__out_units=30; total time=   8.7s\n",
            "[CV] END batch_size=64, lr=0.001, max_epochs=15, module__fout_units=50, module__nonlinear=Softmax(dim=1), module__num_units=10, module__optimizer=<class 'torch.optim.adam.Adam'>, module__out_units=20; total time=   8.9s\n",
            "[CV] END batch_size=64, lr=0.001, max_epochs=15, module__fout_units=50, module__nonlinear=Softmax(dim=1), module__num_units=10, module__optimizer=<class 'torch.optim.adam.Adam'>, module__out_units=20; total time=   8.8s\n",
            "[CV] END batch_size=64, lr=0.001, max_epochs=15, module__fout_units=50, module__nonlinear=Softmax(dim=1), module__num_units=10, module__optimizer=<class 'torch.optim.adam.Adam'>, module__out_units=20; total time=   8.7s\n",
            "[CV] END batch_size=64, lr=0.001, max_epochs=15, module__fout_units=50, module__nonlinear=Softmax(dim=1), module__num_units=10, module__optimizer=<class 'torch.optim.adam.Adam'>, module__out_units=30; total time=   8.9s\n",
            "[CV] END batch_size=64, lr=0.001, max_epochs=15, module__fout_units=50, module__nonlinear=Softmax(dim=1), module__num_units=10, module__optimizer=<class 'torch.optim.adam.Adam'>, module__out_units=30; total time=   8.9s\n",
            "[CV] END batch_size=64, lr=0.001, max_epochs=15, module__fout_units=50, module__nonlinear=Softmax(dim=1), module__num_units=10, module__optimizer=<class 'torch.optim.adam.Adam'>, module__out_units=30; total time=   9.0s\n",
            "[CV] END batch_size=64, lr=0.001, max_epochs=15, module__fout_units=50, module__nonlinear=Softmax(dim=1), module__num_units=10, module__optimizer=<class 'torch.optim.rmsprop.RMSprop'>, module__out_units=20; total time=   9.1s\n",
            "[CV] END batch_size=64, lr=0.001, max_epochs=15, module__fout_units=50, module__nonlinear=Softmax(dim=1), module__num_units=10, module__optimizer=<class 'torch.optim.rmsprop.RMSprop'>, module__out_units=20; total time=   9.0s\n",
            "[CV] END batch_size=64, lr=0.001, max_epochs=15, module__fout_units=50, module__nonlinear=Softmax(dim=1), module__num_units=10, module__optimizer=<class 'torch.optim.rmsprop.RMSprop'>, module__out_units=20; total time=   8.7s\n",
            "[CV] END batch_size=64, lr=0.001, max_epochs=15, module__fout_units=50, module__nonlinear=Softmax(dim=1), module__num_units=10, module__optimizer=<class 'torch.optim.rmsprop.RMSprop'>, module__out_units=30; total time=   8.8s\n",
            "[CV] END batch_size=64, lr=0.001, max_epochs=15, module__fout_units=50, module__nonlinear=Softmax(dim=1), module__num_units=10, module__optimizer=<class 'torch.optim.rmsprop.RMSprop'>, module__out_units=30; total time=   8.8s\n",
            "[CV] END batch_size=64, lr=0.001, max_epochs=15, module__fout_units=50, module__nonlinear=Softmax(dim=1), module__num_units=10, module__optimizer=<class 'torch.optim.rmsprop.RMSprop'>, module__out_units=30; total time=   8.9s\n",
            "[CV] END batch_size=64, lr=0.001, max_epochs=20, module__fout_units=40, module__nonlinear=ReLU(), module__num_units=10, module__optimizer=<class 'torch.optim.adam.Adam'>, module__out_units=20; total time=   8.9s\n",
            "[CV] END batch_size=64, lr=0.001, max_epochs=20, module__fout_units=40, module__nonlinear=ReLU(), module__num_units=10, module__optimizer=<class 'torch.optim.adam.Adam'>, module__out_units=20; total time=   8.7s\n",
            "[CV] END batch_size=64, lr=0.001, max_epochs=20, module__fout_units=40, module__nonlinear=ReLU(), module__num_units=10, module__optimizer=<class 'torch.optim.adam.Adam'>, module__out_units=20; total time=  10.4s\n",
            "[CV] END batch_size=64, lr=0.001, max_epochs=20, module__fout_units=40, module__nonlinear=ReLU(), module__num_units=10, module__optimizer=<class 'torch.optim.adam.Adam'>, module__out_units=30; total time=   8.9s\n",
            "[CV] END batch_size=64, lr=0.001, max_epochs=20, module__fout_units=40, module__nonlinear=ReLU(), module__num_units=10, module__optimizer=<class 'torch.optim.adam.Adam'>, module__out_units=30; total time=   9.0s\n",
            "[CV] END batch_size=64, lr=0.001, max_epochs=20, module__fout_units=40, module__nonlinear=ReLU(), module__num_units=10, module__optimizer=<class 'torch.optim.adam.Adam'>, module__out_units=30; total time=   9.0s\n",
            "[CV] END batch_size=64, lr=0.001, max_epochs=20, module__fout_units=40, module__nonlinear=ReLU(), module__num_units=10, module__optimizer=<class 'torch.optim.rmsprop.RMSprop'>, module__out_units=20; total time=   8.9s\n",
            "[CV] END batch_size=64, lr=0.001, max_epochs=20, module__fout_units=40, module__nonlinear=ReLU(), module__num_units=10, module__optimizer=<class 'torch.optim.rmsprop.RMSprop'>, module__out_units=20; total time=   8.9s\n",
            "[CV] END batch_size=64, lr=0.001, max_epochs=20, module__fout_units=40, module__nonlinear=ReLU(), module__num_units=10, module__optimizer=<class 'torch.optim.rmsprop.RMSprop'>, module__out_units=20; total time=   8.9s\n",
            "[CV] END batch_size=64, lr=0.001, max_epochs=20, module__fout_units=40, module__nonlinear=ReLU(), module__num_units=10, module__optimizer=<class 'torch.optim.rmsprop.RMSprop'>, module__out_units=30; total time=   8.7s\n",
            "[CV] END batch_size=64, lr=0.001, max_epochs=20, module__fout_units=40, module__nonlinear=ReLU(), module__num_units=10, module__optimizer=<class 'torch.optim.rmsprop.RMSprop'>, module__out_units=30; total time=   8.8s\n",
            "[CV] END batch_size=64, lr=0.001, max_epochs=20, module__fout_units=40, module__nonlinear=ReLU(), module__num_units=10, module__optimizer=<class 'torch.optim.rmsprop.RMSprop'>, module__out_units=30; total time=   8.8s\n",
            "[CV] END batch_size=64, lr=0.001, max_epochs=20, module__fout_units=40, module__nonlinear=Softmax(dim=1), module__num_units=10, module__optimizer=<class 'torch.optim.adam.Adam'>, module__out_units=20; total time=   8.8s\n",
            "[CV] END batch_size=64, lr=0.001, max_epochs=20, module__fout_units=40, module__nonlinear=Softmax(dim=1), module__num_units=10, module__optimizer=<class 'torch.optim.adam.Adam'>, module__out_units=20; total time=   8.9s\n",
            "[CV] END batch_size=64, lr=0.001, max_epochs=20, module__fout_units=40, module__nonlinear=Softmax(dim=1), module__num_units=10, module__optimizer=<class 'torch.optim.adam.Adam'>, module__out_units=20; total time=   9.0s\n",
            "[CV] END batch_size=64, lr=0.001, max_epochs=20, module__fout_units=40, module__nonlinear=Softmax(dim=1), module__num_units=10, module__optimizer=<class 'torch.optim.adam.Adam'>, module__out_units=30; total time=   8.9s\n",
            "[CV] END batch_size=64, lr=0.001, max_epochs=20, module__fout_units=40, module__nonlinear=Softmax(dim=1), module__num_units=10, module__optimizer=<class 'torch.optim.adam.Adam'>, module__out_units=30; total time=   8.8s\n",
            "[CV] END batch_size=64, lr=0.001, max_epochs=20, module__fout_units=40, module__nonlinear=Softmax(dim=1), module__num_units=10, module__optimizer=<class 'torch.optim.adam.Adam'>, module__out_units=30; total time=   8.8s\n",
            "[CV] END batch_size=64, lr=0.001, max_epochs=20, module__fout_units=40, module__nonlinear=Softmax(dim=1), module__num_units=10, module__optimizer=<class 'torch.optim.rmsprop.RMSprop'>, module__out_units=20; total time=   8.9s\n",
            "[CV] END batch_size=64, lr=0.001, max_epochs=20, module__fout_units=40, module__nonlinear=Softmax(dim=1), module__num_units=10, module__optimizer=<class 'torch.optim.rmsprop.RMSprop'>, module__out_units=20; total time=   9.0s\n",
            "[CV] END batch_size=64, lr=0.001, max_epochs=20, module__fout_units=40, module__nonlinear=Softmax(dim=1), module__num_units=10, module__optimizer=<class 'torch.optim.rmsprop.RMSprop'>, module__out_units=20; total time=   8.8s\n",
            "[CV] END batch_size=64, lr=0.001, max_epochs=20, module__fout_units=40, module__nonlinear=Softmax(dim=1), module__num_units=10, module__optimizer=<class 'torch.optim.rmsprop.RMSprop'>, module__out_units=30; total time=   8.8s\n",
            "[CV] END batch_size=64, lr=0.001, max_epochs=20, module__fout_units=40, module__nonlinear=Softmax(dim=1), module__num_units=10, module__optimizer=<class 'torch.optim.rmsprop.RMSprop'>, module__out_units=30; total time=   9.0s\n",
            "[CV] END batch_size=64, lr=0.001, max_epochs=20, module__fout_units=40, module__nonlinear=Softmax(dim=1), module__num_units=10, module__optimizer=<class 'torch.optim.rmsprop.RMSprop'>, module__out_units=30; total time=   8.9s\n",
            "[CV] END batch_size=64, lr=0.001, max_epochs=20, module__fout_units=50, module__nonlinear=ReLU(), module__num_units=10, module__optimizer=<class 'torch.optim.adam.Adam'>, module__out_units=20; total time=   9.0s\n",
            "[CV] END batch_size=64, lr=0.001, max_epochs=20, module__fout_units=50, module__nonlinear=ReLU(), module__num_units=10, module__optimizer=<class 'torch.optim.adam.Adam'>, module__out_units=20; total time=   8.7s\n",
            "[CV] END batch_size=64, lr=0.001, max_epochs=20, module__fout_units=50, module__nonlinear=ReLU(), module__num_units=10, module__optimizer=<class 'torch.optim.adam.Adam'>, module__out_units=20; total time=   8.8s\n",
            "[CV] END batch_size=64, lr=0.001, max_epochs=20, module__fout_units=50, module__nonlinear=ReLU(), module__num_units=10, module__optimizer=<class 'torch.optim.adam.Adam'>, module__out_units=30; total time=  10.4s\n",
            "[CV] END batch_size=64, lr=0.001, max_epochs=20, module__fout_units=50, module__nonlinear=ReLU(), module__num_units=10, module__optimizer=<class 'torch.optim.adam.Adam'>, module__out_units=30; total time=   9.0s\n",
            "[CV] END batch_size=64, lr=0.001, max_epochs=20, module__fout_units=50, module__nonlinear=ReLU(), module__num_units=10, module__optimizer=<class 'torch.optim.adam.Adam'>, module__out_units=30; total time=   8.9s\n",
            "[CV] END batch_size=64, lr=0.001, max_epochs=20, module__fout_units=50, module__nonlinear=ReLU(), module__num_units=10, module__optimizer=<class 'torch.optim.rmsprop.RMSprop'>, module__out_units=20; total time=   8.8s\n",
            "[CV] END batch_size=64, lr=0.001, max_epochs=20, module__fout_units=50, module__nonlinear=ReLU(), module__num_units=10, module__optimizer=<class 'torch.optim.rmsprop.RMSprop'>, module__out_units=20; total time=   8.9s\n",
            "[CV] END batch_size=64, lr=0.001, max_epochs=20, module__fout_units=50, module__nonlinear=ReLU(), module__num_units=10, module__optimizer=<class 'torch.optim.rmsprop.RMSprop'>, module__out_units=20; total time=   8.9s\n",
            "[CV] END batch_size=64, lr=0.001, max_epochs=20, module__fout_units=50, module__nonlinear=ReLU(), module__num_units=10, module__optimizer=<class 'torch.optim.rmsprop.RMSprop'>, module__out_units=30; total time=   8.9s\n",
            "[CV] END batch_size=64, lr=0.001, max_epochs=20, module__fout_units=50, module__nonlinear=ReLU(), module__num_units=10, module__optimizer=<class 'torch.optim.rmsprop.RMSprop'>, module__out_units=30; total time=   9.0s\n",
            "[CV] END batch_size=64, lr=0.001, max_epochs=20, module__fout_units=50, module__nonlinear=ReLU(), module__num_units=10, module__optimizer=<class 'torch.optim.rmsprop.RMSprop'>, module__out_units=30; total time=   9.1s\n",
            "[CV] END batch_size=64, lr=0.001, max_epochs=20, module__fout_units=50, module__nonlinear=Softmax(dim=1), module__num_units=10, module__optimizer=<class 'torch.optim.adam.Adam'>, module__out_units=20; total time=   8.9s\n",
            "[CV] END batch_size=64, lr=0.001, max_epochs=20, module__fout_units=50, module__nonlinear=Softmax(dim=1), module__num_units=10, module__optimizer=<class 'torch.optim.adam.Adam'>, module__out_units=20; total time=   8.7s\n",
            "[CV] END batch_size=64, lr=0.001, max_epochs=20, module__fout_units=50, module__nonlinear=Softmax(dim=1), module__num_units=10, module__optimizer=<class 'torch.optim.adam.Adam'>, module__out_units=20; total time=   8.9s\n",
            "[CV] END batch_size=64, lr=0.001, max_epochs=20, module__fout_units=50, module__nonlinear=Softmax(dim=1), module__num_units=10, module__optimizer=<class 'torch.optim.adam.Adam'>, module__out_units=30; total time=   8.9s\n",
            "[CV] END batch_size=64, lr=0.001, max_epochs=20, module__fout_units=50, module__nonlinear=Softmax(dim=1), module__num_units=10, module__optimizer=<class 'torch.optim.adam.Adam'>, module__out_units=30; total time=   9.0s\n",
            "[CV] END batch_size=64, lr=0.001, max_epochs=20, module__fout_units=50, module__nonlinear=Softmax(dim=1), module__num_units=10, module__optimizer=<class 'torch.optim.adam.Adam'>, module__out_units=30; total time=   8.8s\n",
            "[CV] END batch_size=64, lr=0.001, max_epochs=20, module__fout_units=50, module__nonlinear=Softmax(dim=1), module__num_units=10, module__optimizer=<class 'torch.optim.rmsprop.RMSprop'>, module__out_units=20; total time=   8.8s\n",
            "[CV] END batch_size=64, lr=0.001, max_epochs=20, module__fout_units=50, module__nonlinear=Softmax(dim=1), module__num_units=10, module__optimizer=<class 'torch.optim.rmsprop.RMSprop'>, module__out_units=20; total time=   8.8s\n",
            "[CV] END batch_size=64, lr=0.001, max_epochs=20, module__fout_units=50, module__nonlinear=Softmax(dim=1), module__num_units=10, module__optimizer=<class 'torch.optim.rmsprop.RMSprop'>, module__out_units=20; total time=   8.8s\n",
            "[CV] END batch_size=64, lr=0.001, max_epochs=20, module__fout_units=50, module__nonlinear=Softmax(dim=1), module__num_units=10, module__optimizer=<class 'torch.optim.rmsprop.RMSprop'>, module__out_units=30; total time=   8.6s\n",
            "[CV] END batch_size=64, lr=0.001, max_epochs=20, module__fout_units=50, module__nonlinear=Softmax(dim=1), module__num_units=10, module__optimizer=<class 'torch.optim.rmsprop.RMSprop'>, module__out_units=30; total time=   8.9s\n",
            "[CV] END batch_size=64, lr=0.001, max_epochs=20, module__fout_units=50, module__nonlinear=Softmax(dim=1), module__num_units=10, module__optimizer=<class 'torch.optim.rmsprop.RMSprop'>, module__out_units=30; total time=   9.0s\n"
          ]
        },
        {
          "output_type": "execute_result",
          "data": {
            "text/plain": [
              "GridSearchCV(cv=3,\n",
              "             estimator=<class 'skorch.classifier.NeuralNetClassifier'>[uninitialized](\n",
              "  module=<class '__main__.fashionmsntnetwork'>,\n",
              "),\n",
              "             param_grid={'batch_size': [32, 64], 'lr': [0.0001, 0.001],\n",
              "                         'max_epochs': [15, 20], 'module__fout_units': [40, 50],\n",
              "                         'module__nonlinear': [ReLU(), Softmax(dim=1)],\n",
              "                         'module__num_units': [10],\n",
              "                         'module__optimizer': [<class 'torch.optim.adam.Adam'>,\n",
              "                                               <class 'torch.optim.rmsprop.RMSprop'>],\n",
              "                         'module__out_units': [20, 30]},\n",
              "             refit=False, scoring='accuracy', verbose=2)"
            ]
          },
          "metadata": {},
          "execution_count": 46
        }
      ]
    },
    {
      "cell_type": "markdown",
      "source": [
        "## Best Parameters"
      ],
      "metadata": {
        "id": "3-cV5NuILy4X"
      }
    },
    {
      "cell_type": "code",
      "source": [
        "gs_fasion.best_params_"
      ],
      "metadata": {
        "colab": {
          "base_uri": "https://localhost:8080/"
        },
        "id": "GX6TEVg5Lt8v",
        "outputId": "7ce82a6a-80e3-49a8-afe9-78f31f92859c"
      },
      "execution_count": null,
      "outputs": [
        {
          "output_type": "execute_result",
          "data": {
            "text/plain": [
              "{'batch_size': 32,\n",
              " 'lr': 0.0001,\n",
              " 'max_epochs': 15,\n",
              " 'module__fout_units': 40,\n",
              " 'module__nonlinear': ReLU(),\n",
              " 'module__num_units': 10,\n",
              " 'module__optimizer': torch.optim.adam.Adam,\n",
              " 'module__out_units': 20}"
            ]
          },
          "metadata": {},
          "execution_count": 47
        }
      ]
    },
    {
      "cell_type": "markdown",
      "source": [
        "## Train Model Using Best Parameters"
      ],
      "metadata": {
        "id": "tQ-TFQ7pbLn0"
      }
    },
    {
      "cell_type": "code",
      "source": [
        "class MNISTnetwork(nn.Module):\n",
        "  def __init__(self,dropout=0.2,dropout2=0.3, num_units=10,out_units=10,fout_units=10,nonlinear=F.relu):\n",
        "    super(MNISTnetwork, self).__init__()\n",
        "    ## Convulution layers\n",
        "    self.conv1 = nn.Conv2d(in_channels=1,out_channels=10,kernel_size=5,stride=1)\n",
        "    self.nonlin1 = F.relu\n",
        "    self.conv2 = nn.Conv2d(in_channels=10,out_channels=20,kernel_size=5,stride=1)\n",
        "    self.nonlin2 = F.relu\n",
        "    self.conv3 = nn.Conv2d(in_channels=20,out_channels=40,kernel_size=2,stride=1)\n",
        "    self.nonlin2 = F.relu\n",
        "    ## FLatten Layers1\n",
        "    self.flatten1 = nn.Linear(40*3*3,200)\n",
        "    ## FLatten Layers\n",
        "    self.flatten2 = nn.Linear(200,60)\n",
        "    self.output = nn.Linear(60,10)\n",
        "    ## dropout layers\n",
        "    self.dropout = nn.Dropout2d(p=dropout)\n",
        "    ## dropout1 layers\n",
        "    self.dropout1 = nn.Dropout2d(p=dropout2)\n",
        "    ## out\n",
        "    self.outloss = nn.Softmax(dim = 1)\n",
        "\n",
        "  def forward(self,img, **kwargs):\n",
        "  ## Layer 1 \n",
        "    img = self.nonlin1(F.max_pool2d(self.conv1(img),kernel_size=2,stride=2))\n",
        "    ## Layer 2\n",
        "    img = self.nonlin2(F.max_pool2d(self.conv2(img),kernel_size=2,stride=2))\n",
        "    ## Layer 3\n",
        "    img = self.nonlin2(self.conv3(img))\n",
        "    ## Dropout layer\n",
        "    img = self.dropout(img)\n",
        "    ## Reshape Image\n",
        "    img = img.view(-1,40*3*3)\n",
        "    ## FLatten Layer 1\n",
        "    img = self.flatten1(img)\n",
        "    ## FLatten Layer 2\n",
        "    img = self.flatten2(img)\n",
        "    ## Drop out layer 2\n",
        "    img = self.dropout1(img)\n",
        "    ## Output layer\n",
        "    img = self.output(img)\n",
        "    ## softmax for multi classification\n",
        "    img = self.outloss(img)\n",
        "\n",
        "    return img"
      ],
      "metadata": {
        "id": "vsCaMYkgbf-x"
      },
      "execution_count": null,
      "outputs": []
    },
    {
      "cell_type": "code",
      "source": [
        "## Complie Model with best Parameters\n",
        "MNISTnet = NeuralNetClassifier(MNISTnetwork,max_epochs=20,lr=0.0001,batch_size=32,optimizer=optim.Adam,criterion=nn.CrossEntropyLoss)\n",
        "## Train Model\n",
        "MNISTnet.fit(traindata,y_train)"
      ],
      "metadata": {
        "colab": {
          "base_uri": "https://localhost:8080/"
        },
        "id": "Xg6zuGOwltLq",
        "outputId": "16b84a7b-42f9-407e-b3b2-b9a9a7175ce0"
      },
      "execution_count": null,
      "outputs": [
        {
          "output_type": "stream",
          "name": "stdout",
          "text": [
            "  epoch    train_loss    valid_acc    valid_loss      dur\n",
            "-------  ------------  -----------  ------------  -------\n",
            "      1        \u001b[36m1.7173\u001b[0m       \u001b[32m0.9068\u001b[0m        \u001b[35m1.5584\u001b[0m  26.2221\n",
            "      2        \u001b[36m1.5587\u001b[0m       \u001b[32m0.9371\u001b[0m        \u001b[35m1.5278\u001b[0m  24.9443\n",
            "      3        \u001b[36m1.5314\u001b[0m       \u001b[32m0.9516\u001b[0m        \u001b[35m1.5119\u001b[0m  24.8250\n",
            "      4        \u001b[36m1.5173\u001b[0m       \u001b[32m0.9597\u001b[0m        \u001b[35m1.5024\u001b[0m  24.8430\n",
            "      5        \u001b[36m1.5085\u001b[0m       \u001b[32m0.9656\u001b[0m        \u001b[35m1.4974\u001b[0m  25.9438\n",
            "      6        \u001b[36m1.5028\u001b[0m       \u001b[32m0.9710\u001b[0m        \u001b[35m1.4919\u001b[0m  25.9668\n",
            "      7        \u001b[36m1.4982\u001b[0m       \u001b[32m0.9732\u001b[0m        \u001b[35m1.4897\u001b[0m  24.9923\n",
            "      8        \u001b[36m1.4956\u001b[0m       \u001b[32m0.9746\u001b[0m        \u001b[35m1.4879\u001b[0m  25.0384\n",
            "      9        \u001b[36m1.4929\u001b[0m       \u001b[32m0.9762\u001b[0m        \u001b[35m1.4861\u001b[0m  25.0890\n",
            "     10        \u001b[36m1.4905\u001b[0m       \u001b[32m0.9770\u001b[0m        \u001b[35m1.4851\u001b[0m  26.0367\n",
            "     11        \u001b[36m1.4892\u001b[0m       \u001b[32m0.9781\u001b[0m        \u001b[35m1.4837\u001b[0m  25.7969\n",
            "     12        \u001b[36m1.4875\u001b[0m       0.9778        \u001b[35m1.4835\u001b[0m  25.0580\n",
            "     13        \u001b[36m1.4867\u001b[0m       0.9780        \u001b[35m1.4829\u001b[0m  24.8288\n",
            "     14        \u001b[36m1.4852\u001b[0m       \u001b[32m0.9798\u001b[0m        \u001b[35m1.4825\u001b[0m  24.9688\n",
            "     15        \u001b[36m1.4839\u001b[0m       0.9796        \u001b[35m1.4821\u001b[0m  25.7128\n",
            "     16        \u001b[36m1.4837\u001b[0m       \u001b[32m0.9810\u001b[0m        \u001b[35m1.4809\u001b[0m  25.6056\n",
            "     17        \u001b[36m1.4817\u001b[0m       \u001b[32m0.9817\u001b[0m        \u001b[35m1.4800\u001b[0m  24.4387\n",
            "     18        1.4823       0.9811        1.4804  25.3286\n",
            "     19        \u001b[36m1.4812\u001b[0m       \u001b[32m0.9819\u001b[0m        \u001b[35m1.4790\u001b[0m  24.8816\n",
            "     20        \u001b[36m1.4810\u001b[0m       \u001b[32m0.9828\u001b[0m        \u001b[35m1.4786\u001b[0m  25.3374\n"
          ]
        },
        {
          "output_type": "execute_result",
          "data": {
            "text/plain": [
              "<class 'skorch.classifier.NeuralNetClassifier'>[initialized](\n",
              "  module_=MNISTnetwork(\n",
              "    (conv1): Conv2d(1, 10, kernel_size=(5, 5), stride=(1, 1))\n",
              "    (conv2): Conv2d(10, 20, kernel_size=(5, 5), stride=(1, 1))\n",
              "    (conv3): Conv2d(20, 40, kernel_size=(2, 2), stride=(1, 1))\n",
              "    (flatten1): Linear(in_features=360, out_features=200, bias=True)\n",
              "    (flatten2): Linear(in_features=200, out_features=60, bias=True)\n",
              "    (output): Linear(in_features=60, out_features=10, bias=True)\n",
              "    (dropout): Dropout2d(p=0.2, inplace=False)\n",
              "    (dropout1): Dropout2d(p=0.3, inplace=False)\n",
              "    (outloss): Softmax(dim=1)\n",
              "  ),\n",
              ")"
            ]
          },
          "metadata": {},
          "execution_count": 77
        }
      ]
    },
    {
      "cell_type": "markdown",
      "source": [
        "## Plot Loss"
      ],
      "metadata": {
        "id": "OoJ_ec6yEVYB"
      }
    },
    {
      "cell_type": "markdown",
      "source": [
        "* Plotting Training and Test Loss in Skorch : --> https://stackoverflow.com/questions/61354529/get-the-validation-train-loss-from-skorch-fit"
      ],
      "metadata": {
        "id": "N9vc0n7NJY1h"
      }
    },
    {
      "cell_type": "code",
      "source": [
        "trainloss = MNISTnet.history[:, 'train_loss']\n",
        "testloss = MNISTnet.history[:, 'valid_loss']\n",
        "plt.figure(figsize=(14,14))    \n",
        "plt.plot(trainloss, label='Training loss')\n",
        "plt.plot(testloss, label='Test loss')\n",
        "plt.legend()\n",
        "plt.grid()"
      ],
      "metadata": {
        "colab": {
          "base_uri": "https://localhost:8080/",
          "height": 809
        },
        "id": "0Ew3oY-QWF_a",
        "outputId": "6f3f6045-e47e-40fe-9e23-5bc543051835"
      },
      "execution_count": null,
      "outputs": [
        {
          "output_type": "display_data",
          "data": {
            "text/plain": [
              "<Figure size 1008x1008 with 1 Axes>"
            ],
            "image/png": "[encoded data removed]"
          },
          "metadata": {
            "needs_background": "light"
          }
        }
      ]
    },
    {
      "cell_type": "markdown",
      "source": [
        "## Prediction"
      ],
      "metadata": {
        "id": "NqaXNe2iEzu_"
      }
    },
    {
      "cell_type": "code",
      "source": [
        "y_pred = MNISTnet.predict(testdata)"
      ],
      "metadata": {
        "id": "jPg0n3HTEzfu"
      },
      "execution_count": null,
      "outputs": []
    },
    {
      "cell_type": "markdown",
      "metadata": {
        "id": "cvCsHtfPbmjW"
      },
      "source": [
        "## **Confusion Matrix**\n",
        "\n",
        "Method of evlauting the perfomace of the model based on following conditions:\n",
        "\n",
        "![1-g5zpskPaxO8uSl0OWT4NTQ.png](data:image/png;base64,iVBORw0KGgoAAAANSUhEUgAAAWQAAAELCAIAAABh22v4AAATLElEQVR42uydvXKyTBTH18x7KTAZi1wA3oFMilQpnxJbLZ4ylWUKbaV8ylQpMnAH4QIsMhm9F9/ZRZblS/EDFP39qoiGjwP733POHnb/22w2AgBgHw+YAAAQCwBALAAAsQAAxAIAEAsAQCwAABALAEAsAACxAADEAgAQCwBALAAAsQAAQCwAALEAAMQCABALAEAsAACxAADEAgAAsQAAxAIAEAsAQCwAALEAaIf1fNDrDebra98nYgGgCEc9ySi8dglBBxALuKxWfPrCcRzhf4YHqEuDbdZ6fnVE9PGVP8D66yMSzuuzxT1DLOBSWuG9/Xs9RC0aplwt0ArEAi7r8k994b0MVfssUYttiKLjFBUJuL4Q0cROgxf1KzOMyfse5m5q+CSxWkzew11aUWefe0+scIHZmKfsC8QC7lMrZAv0Xobb9ulPM40uHPVc3ws2MYFwR6E1/t5sAk8IZ7ZSWxfDOlHLtL9K9uJFE3tv47PGb57IiFdOK47YZ/mZ6QtczRzfTXRkPR/Yk6fMlSMWgFYorSjx/WOnI9BqMFzUUYYShovN9zhxCIYvORWo+qfs7/J+xVH7LPWqkgu0xv9mTuLNrH4i4fTtU68csYCb0grdJqzHJ2GoRfbL82H3nXoSYyrAnnxF3X1WKmVqgOXvervDaGJ3dOQFsYBmtMLorWXzzOYVnx6t82RG0vjfnkTiULWI2/Xb2Dp1nwV8N01ZqFxMEgZ9y2Ark5hBLOC+tUK3B91YMmoR97MnK4U9EbMkwbCa1fUCtFoUfIDj95lHZ2QSjOBmofftu53SC8QCmvArdHtLW91WLeKo5Gd1TGix/l1W+i+HJDtitZgXtaLuPnedmBF17MIafwfeeWSzNTYAZ0Q2gGK/uu2j4+3m3/F/bLVFfZHRGXNL0s0nP8gcSX3QH4s7KjvLEg+g9j53nVj+AtMrTC+1zkleHYgFtKAV+QaU8e+Nn6fbS37pBeqTUxYlOLOVPHRdscgJQeE8a+xz14mZciSq/qtjSrHZbHpSMAAAyFkAAGIBAIgFACAWAIBYAABiAQCIBQAAYgEAiAUAIBYAgFgAAGIBAIgFACAWAACIBQAgFgCAWAAAYgEAiAUAIBYAgFgAACAWAIBYAABiAQCIBQAgFgCAWAAAYoEJ4EpZzwe9UXiOH2Gu85iLhb/vgczi3RXrnB+wp8p/3/3t4Quy53aVXYo93XbacuRb42R2e84LOdaYJ5lr1zr1x5oLz+JuSB+RwPPd3mC+Pn2f4ah3nh2V7PrTF97LMNMn2pOo8Dvr+dWJPr5OPwffbdxDactc6/nAnojkfqvbnVzbSeai170Xz8LsT2Q3dFp3fN797O0o5Uf5ucTdONm3UP/veY55Kc14Fi2Zq3CYzIbjzYVncZfYfScXyGrM7tX4Qm+WvaP6IL90fSGiiZ3+QH9b6ET1N8mHkuMZR/5dCqdv68/DxWazWQxLL8Z6fBIn+xb9v/9mTjR5D6t9gpITNjYrkis2tieb2jOX+vD6bGVvd/SzOtVciMVdsvqJDEGwJ0/BpuiyhqP0i0BM8+6zNf42u6xcSx6+eJlH0nCTw1HPFUF6vDLHXJ7g06NVX/p0Wzgaa/zmCX9acjIVJyw3L7dd9NYQ32NLWXTa1924mNjKnu2Zy7i5hpyewVyIxV2mzV1feG/ywRbh+yTyAv3oDhdB0mJkB2X07KodHIB6/PUjmT786/nUd2Z/twcc/p2VhdCZY+9v5pm2cDzqZArORdUJZzpw82qt8bc2ljq15e/6Csylz+JocyEWd8PW/+314txXrA95d9/od+Ke1u0dm5OTj7//GeY7Stnv6VPpleYstwnZzGm1wvaSs65+1Qln3Hl5gcYJp3GDjDyuw1y1HTXEAoykVk0vQSUKNoGnHtbDFSN9/MNPo3cUhSRf+emcHlgc6VxIz2pVabv0hJWsbtux63tBchlmeBJnZts1VzYhdbijhlhAtcuRaZWyKzOHLJVkrCqSf8XnMt/y5OMvH36dcKsVMR/mKZ+pLWydC5XonH7sDfHXXx+RMV6iIznlZGTyiy2bq5DBlGdq3NOjzYVY3Dd5xzscuYkHHI7S1LtUkCo/d8ejbD2/Ov7n/HdpNB65zcwjmofJNqs6of7eszvSJFEUiRonrKK03LiH2byVOVs3l8p/aG1fz/9MItNTOd5c1CDcY51FcZC+zOU1t2cG8fMFEOkP8nUQcSFh/tBmeWHFaVUdpuSMzlJnkfn/Qk1n6QkHnvlvRmWG8Wtvlt15S+aqvqenmAuxgOukrPzqCCFsT3+bq7i6FnMRhsB1Yo4O7ExYfH1EFSmC5rM9aWZgPZ9Wpipuxlx0YXDFsdPezrLWjxrszcW+AOGGzNWToQgAAKMhAIBYAABiAQCIBQAgFgCAWAAAYgEAgFgAwHn4DxN0nV6vhxHgXOyo0kQsbvwGg5ZUrHRix0MYAgC1QCwAALEAAMQCABALAEAsAACxAADEAgAAsQAAxAIAEAsAQCwAALEAAMQCABALAADEAgAQCwC4erEIR73eKFnQeT0f9BSD+Rp7AyAWBuvfpTP7O9xKxZ9JFG+OJvYoxOIAiIVm9RNpH+N9EiVLvAee8D9RC4CO0tCEvdHEHvx4wvcjIbyXIXYGwLMoYfjiSb1QSiHSgOR3KZy+jckBEItULRaBF//lzP6NLR2QOK/PFiYH6CYsptD9W8iKGFipFStRZwEAlwtDUtZhSHEFAGJRTTiKC7Fs1/0T12Kt5wPKsgAQi7xUuL4zW8W1FVus51cn+vhCLQA6ShN1FuGnL7xgnBv4sB6fRPSzEoIBEQA8Cw0FFQCIxX7svhNN3sMSfwMNAegszQw+r+cDexIVNnvBZkHp99lvIRUEWKkVKzUThljjbyO3GQcmsxVKAYBnAfSZWAnPAhphPR/09k7vUetHAO3wcCPtzuT45qX2VPnvu789jPB9EuXe3Y8vI7N/6/nV8afXWcqW1N2VoK6h8P39luSVmCq5zZ2y0sMFHqMmiGvA4jl2fPc8JpfX0dC9U6UohlZIoShLCV9xKdtwsdlok8fZ6wSdm0rvyibwool9z26SYR/TRF2yUkNDp1XWaiHFqd6PP7KBWePvHee4+9sTtCIc2ZPIC/I5YXFLha/xtAVMldZlKzUhFqpR5VnNlm5LLlZWrDJBiqnZxhd6s55qWH7p+mrKr/QH+tuCz5GZotjwrMr7iPw8QKqTrlAhVfh6E2Xy6rYsfyn476yVWstZWOM3r6RUqwmMOUBVwcdTYEYo2/Yre/Pki0AU8gLJ4O/WRcy15OFL1nkxPIVw1HNFkB6vTCDlCT49WvWfHlUm33XUbal92ffKNVupvQSn7E7bOMx84PrCe1Ovpqg0YqBbunLy4oRh5myGi+/xYXdHqYVuwalWrOdTX08kKIZ/Z2UxxGGWkK5F94lvS2oa6KCVHpq55JLcpj2JGpy7dxsuyMMIXf5VnPZTd9PS0RG+e3T6WapFEloafoXsF/Sp9Epzltuk1l0UvqemiG/LoZp8S6iHrXTMozNWangpgEz7mK2ay28aGeWato6z+XH6+QjFSNUi/PQzfYFxKtWncxOBxSF35a6FQuRHQzLG6IyVGpnde7Ep4zJ2yLZKqWMZ90ae62rmlGZTKkZ1RBpjSLWQWqEnIq6VYDgssGgpfAO4npzFBdjGGsYwhZsEDOEoHamQClIVFuxo+api6nP+uzQmLZfbhFFGZR4mq0K1E967zg6gi2KxoxLrguVpw0U8BBLjLnU6Y7gIhN7se0GZ25PmNcqHQJVaTCbCXODAGn+vZkIHodN+Weil5wHK2c71dWibLhX7uxQsoQBXweY8rGbOwYHbHRN4NW0h7ZpLguQ530085WoKl2MMPF8Dl7RSqX06aCVexbsM23KMfRnf9Xxgf7yudqZ7eJ+yDljpdCthwQshZeDnbY9a1PoRzQCx6LRYVEyVxVxZNAOs1FkrNbQUQKlSNFpoAQDN0sgr6p9+krQxEnmrmWjn1RAA6IpYSLavwhh1TXFZAmoBgFiUYT0+6fKjiipwALhbsTBfslJriNhJyVFzL5IBQBc9C6UWcc2zNf7W8z8ZL4sDQNdgPKn7t5BBQazUipXO6FmoNxyYuB6AMKQWyUtb9zvvOwBisY9kGgv1Tpme/QdXAwCxqEBP7q1UA1cD4DZoJeuTvinCuyEN3EJSd1ipFSux1ikA1OK/JncejtTkT1vwKgC6TKNrnSql0PMAoRQAeBaK3BwWOBIAeBblxC+K4UgA3CakiLt/C8nzY6VWrMRoCAC0HYYAAGIBAIgFJgAAxAIArk4s1vNBjbVOeQcV4O7Fwnp82vcTL6D4AgCx0LNZ6HfTcwvBBp7v8po6QHdpolKlYtHfcNSb9nev8QvH3ELKjbBSK1ZqN8EZ/ay4IQB3HoYY2H0nWQnAdCw+feH0bUwOQBiSDUT84mZeRMXBxkqEIVmGi3hNZANntkIpAPAs4KK9AUaAc7FDEP5r9sjrMBTDIeMfl7vBQBhyro6nodGQZGY923X/xJnO9XzAcgAAHeahGalw/XjGrDRxYT2/OtHHF2oB0FGaCEPCT194Qb74ynp8iussCEoA8Cw0FFQAIBb7sftONHkPS/wNNASgszSTIs6tCpBAUVYjt5A8P1ZqxUrNhCHW+JuiLAA8C6DPxEp4FucKQkpKKii0AOg07b2irodOAaCLnLfOwnjbNLJ7k8L3zozREAA8CyHWv8tdXzuzf0yTBdBVmsj6rOcD++OVCfTauoWk7rBSK1bCgjQDrAS1rNRMglO9dJpZI6S4BQAIQ+YDe/KUr9asmPMb6DOx0v16FqufSHgveVEYvnjC/8S3AOgorHUKABcTC+VD5JcCWM+nvHUK0OUghbdOicaxEtSxUnNvnaoFTzNCgVIA4FkAfSZWwrMAADirWKRlV+v5oFcOr6gDIBYGq5+o4hteUQfobpBCIEc0jpWgjpXIWQBAq2FIdZ4iA6+SAdy7WFiPT/t+QqUFAGIhhBguNhpVjyW1wSDwfJfBEIDu0kTWp+Jl9HDUm/aZP+v8t5DUHVZqxUrtJjgZOgUgDDGw+07xrVPWOgUgDCkPRPziZt46xcHGSoQhWYaLDWudAhCG1BcMAxKbFS7YniGicHS11SnqbaDyOprtV9lrU7U49zQiVmKgjKG6ZqWGE5zrMFy3cUNM4zbfvNT9PMMh1vOp771pFTUL2/Teh39nzjVPXZodId/6jslqU9Hk/Z6r8Iz+UvnZhq2koTpnpYdmNdV23T9xO252XeSm7d2IAK2/PqJ0YuNwZE/EbFUoSrGeX51OTnTseF5Zohs6a6WHZpqW6zvquU8TF/KZjz6+GrGJN5s5bdrbGn+foRhVaoUeHpJORrq8o3QntLGsx6duTove//vm3btzcVNWakIswk9fGN510sIaXEX9cfzmVdi71LcvvsuinZ7i7+UW1xfCdzPBpv6jPASqOK7B6icST49WyYecsYYvnlj+drGDlqKHc3EzVmooDGm9oEKF9m6+VSbLHW2L0JeJb2+4/KuZI5zZtrBU/v7nzShQlzuUfoT0kOKIM+tQyHac+kuxe/B3WHnczLn9LlMzFZaUtvtORiA6Ws5mjXEubsdKDRVllVx5w0VZyuA5eVaOvmy8+hdxw1bt9PXZ0uFR0hKlLmg1yLfXSpFK1EIdTu626rgFx6K+Qa/WtYj9reqZ0OJu0+V14xrOxbVb6aGRdvtPdvPy6XF9EU3s3vbPYmxyboMXRSo5fHI2UheUk2+28FTDjOihbDGDkovVuRitFZXH3bGX/Eu7ubDkesmMhpSNjysVJxap09ddu5WaWwqg/aKsrXMxXeaPWzK4p1uzDBeSZzwTPeTXMtinFmpsI1XDyuOa7kKl85CJUbqjHBUqvgiUl/2FJnTbSrdVlKWciyjKtOOSUDD89I22XCFh4XvOs6gKBOIw4/09HQetOm7BmUj9jey/yGOnwlNIaHTUy/74QBI6baWHW/Pm/pn+gDX+Xs2Wbr5ybrhYvX7YxcJDI37q9ab9mZcLceyKkY3hixf5vlEzUXHcXZkIa/wdeMmx3eVslWpY+ULT3fOyDRmHTlppc362AwybayU/N0861NH+edQ47r6fNXMTa5CvSsxZOPcIbKO6Sz0YF7NSta06ZyXRkGEu0fiOFLOyeb2uSC32/ujCzaAjYKXrFIsdXc41+RYVGf22O5w9nch+5aUZIBbtWKmpl/zLZ7TQ1U9wPpipASu1Y6WHZoSidO4bptUD6LKUILf0mVgJLuVZAMANcmaxMN+1ZJUQAMKQSqXIv0/BFL042FiJMKSoFV8fUWaUL/B4fwiAMKRIoSpZTfbA+AcAYgEAiMWxZKZCMSajI+cJgFgcAkEJQGchRdz9W0ieHyu1YiVyFgBwhWEIACAWAIBYAAAgFgCAWAAAYgEAiAUAIBYAgFgAAGIBAIBYAABiAQCIBQAgFgCAWAAAYgEAiAUAAGIBAIgFAJyV/zDBDdDr9TACVkIsYA9MWg2EIQCAWAAAYgEAiAUAIBYAAIgFACAWAIBYAMA18X8AAAD//6QOQnOgqpN7AAAAAElFTkSuQmCC)\n",
        "\n",
        "\n",
        " \n",
        "#### 11) Refernce: What is confusion matrix? --> https://medium.com/@dtuk81/confusion-matrix-visualization-fc31e3f30fea \n",
        "#### 12) Refrence: Confusion matrix plot --> https://stackoverflow.com/questions/35572000/how-can-i-plot-a-confusion-matrix\n",
        "\n"
      ]
    },
    {
      "cell_type": "code",
      "metadata": {
        "colab": {
          "base_uri": "https://localhost:8080/",
          "height": 622
        },
        "outputId": "eb72eac8-c190-4304-9177-9268e7cea519",
        "id": "elUPDUMfbmjX"
      },
      "source": [
        "# Creating the confusion matrix:\n",
        "e_cm = confusion_matrix(y_test, y_pred)\n",
        "# Visualization:\n",
        "f, ax = plt.subplots(figsize=(10,10))\n",
        "sns.heatmap(e_cm, annot=True, linewidth=0.7, linecolor='cyan', fmt='.0f', ax=ax, cmap='coolwarm_r')\n",
        "plt.title('MNISTnet Classification Confusion Matrix')\n",
        "plt.xlabel('y_pred')\n",
        "plt.ylabel('y_test')\n",
        "plt.show()"
      ],
      "execution_count": null,
      "outputs": [
        {
          "output_type": "display_data",
          "data": {
            "text/plain": [
              "<Figure size 720x720 with 2 Axes>"
            ],
            "image/png": "[encoded data removed]"
          },
          "metadata": {
            "needs_background": "light"
          }
        }
      ]
    },
    {
      "cell_type": "markdown",
      "metadata": {
        "id": "fNgOfx7LbmjX"
      },
      "source": [
        "## **Classification Report**\n",
        "\n",
        "It is an another method of evaluation which is used to find the precision recall and f1-score based on following formulas:\n",
        "\n",
        "![download (2).png](data:image/png;base64,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)\n",
        "\n",
        "#### Refernce: 13) Classification report plot --> https://scikit-learn.org/stable/modules/generated/sklearn.metrics.classification_report.html\n",
        "\n",
        "#### Reference: 14) What is classification report --> https://towardsdatascience.com/a-look-at-precision-recall-and-f1-score-36b5fd0dd3ec#:~:text=F1%2Dscore%20equals%20precision%20and%20recall%20if%20the%20two%20input,examples%20they%20start%20to%20vary."
      ]
    },
    {
      "cell_type": "code",
      "source": [
        "# Creating the confusion matrix:\n",
        "e_cm = confusion_matrix(y_test, y_pred)\n",
        "# Visualization:\n",
        "f, ax = plt.subplots(figsize=(10,10))\n",
        "sns.heatmap(e_cm, annot=True, linewidth=0.7, linecolor='cyan', fmt='.0f', ax=ax, cmap='coolwarm_r')\n",
        "plt.title('MNISTnet Classification Confusion Matrix')\n",
        "plt.xlabel('y_pred')\n",
        "plt.ylabel('y_test')\n",
        "plt.show()"
      ],
      "metadata": {
        "id": "8qJxyDrLcKxu"
      },
      "execution_count": null,
      "outputs": []
    },
    {
      "cell_type": "code",
      "metadata": {
        "colab": {
          "base_uri": "https://localhost:8080/"
        },
        "outputId": "b45595c5-4db9-4ec4-a02e-55837401eacb",
        "id": "fqe_ywsrbmjX"
      },
      "source": [
        "## CLassfication Report\n",
        "print(classification_report(y_test, y_pred))"
      ],
      "execution_count": null,
      "outputs": [
        {
          "output_type": "stream",
          "name": "stdout",
          "text": [
            "              precision    recall  f1-score   support\n",
            "\n",
            "           0       0.98      0.99      0.98       980\n",
            "           1       0.99      1.00      0.99      1135\n",
            "           2       0.99      0.98      0.99      1032\n",
            "           3       0.99      0.99      0.99      1010\n",
            "           4       0.99      0.99      0.99       982\n",
            "           5       0.98      0.99      0.99       892\n",
            "           6       0.99      0.98      0.98       958\n",
            "           7       0.98      0.99      0.98      1028\n",
            "           8       0.99      0.98      0.98       974\n",
            "           9       0.98      0.97      0.98      1009\n",
            "\n",
            "    accuracy                           0.99     10000\n",
            "   macro avg       0.99      0.99      0.99     10000\n",
            "weighted avg       0.99      0.99      0.99     10000\n",
            "\n"
          ]
        }
      ]
    },
    {
      "cell_type": "markdown",
      "source": [
        "## Image Prediction"
      ],
      "metadata": {
        "id": "ei0b-PWIeyBW"
      }
    },
    {
      "cell_type": "code",
      "source": [
        "batch, labels = next(iter(X_test))\n",
        "batch, labels = batch.cuda(), labels.cuda()"
      ],
      "metadata": {
        "id": "cwbeNGqXI_iz"
      },
      "execution_count": null,
      "outputs": []
    },
    {
      "cell_type": "code",
      "source": [
        "classes"
      ],
      "metadata": {
        "colab": {
          "base_uri": "https://localhost:8080/"
        },
        "id": "1hFflhtBleT5",
        "outputId": "c05b9e7a-d48b-4208-cd9e-68e93eb9c2f2"
      },
      "execution_count": null,
      "outputs": [
        {
          "output_type": "execute_result",
          "data": {
            "text/plain": [
              "['0 - zero',\n",
              " '1 - one',\n",
              " '2 - two',\n",
              " '3 - three',\n",
              " '4 - four',\n",
              " '5 - five',\n",
              " '6 - six',\n",
              " '7 - seven',\n",
              " '8 - eight',\n",
              " '9 - nine']"
            ]
          },
          "metadata": {},
          "execution_count": 90
        }
      ]
    },
    {
      "cell_type": "code",
      "source": [
        "## Creating \n",
        "plt.figure(figsize=(20,20))\n",
        "for n , i in enumerate(list(np.random.randint(0,len(batch),15))) : \n",
        "    prediction = MNISTnet.predict(batch[i])\n",
        "    plt.subplot(5,5,n+1)\n",
        "    plt.imshow(batch[i].cpu().squeeze() , cmap='gray')\n",
        "    plt.title('Model Prediction = {}'.format(prediction[0]))\n",
        "    plt.axis('off')     \n",
        "plt.show()"
      ],
      "metadata": {
        "colab": {
          "base_uri": "https://localhost:8080/",
          "height": 684
        },
        "outputId": "2b89a1ca-0f77-4efc-fc6e-a837e1684012",
        "id": "Zlb9yWqMe1MO"
      },
      "execution_count": null,
      "outputs": [
        {
          "output_type": "display_data",
          "data": {
            "text/plain": [
              "<Figure size 1440x1440 with 15 Axes>"
            ],
            "image/png": "[encoded data removed]"
          },
          "metadata": {
            "needs_background": "light"
          }
        }
      ]
    }
  ]
}